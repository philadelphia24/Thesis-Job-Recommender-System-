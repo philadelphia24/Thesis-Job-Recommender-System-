{
  "cells": [
    {
      "cell_type": "markdown",
      "metadata": {
        "id": "view-in-github",
        "colab_type": "text"
      },
      "source": [
        "<a href=\"https://colab.research.google.com/github/philadelphia24/Thesis-Job-Recommender-System-/blob/main/Collaborative_Filtering.ipynb\" target=\"_parent\"><img src=\"https://colab.research.google.com/assets/colab-badge.svg\" alt=\"Open In Colab\"/></a>"
      ]
    },
    {
      "cell_type": "markdown",
      "metadata": {
        "id": "UdfD9UiRdyGa"
      },
      "source": [
        "#Main Model of CF"
      ]
    },
    {
      "cell_type": "markdown",
      "metadata": {
        "id": "M_DC_5hS1amC"
      },
      "source": [
        "The code uses cross-validation instead of a training-validation-test split.\n"
      ]
    },
    {
      "cell_type": "markdown",
      "metadata": {
        "id": "Gx8jw04a6qb8"
      },
      "source": [
        "The code is mainly derived from: https://towardsdatascience.com/building-and-testing-recommender-systems-with-surprise-step-by-step-d4ba702ef80b."
      ]
    },
    {
      "cell_type": "code",
      "execution_count": 1,
      "metadata": {
        "colab": {
          "base_uri": "https://localhost:8080/"
        },
        "id": "Am5qfXCWX4Qh",
        "outputId": "fd46a3ea-5e21-4822-91e1-5e11a849610a"
      },
      "outputs": [
        {
          "output_type": "stream",
          "name": "stdout",
          "text": [
            "Looking in indexes: https://pypi.org/simple, https://us-python.pkg.dev/colab-wheels/public/simple/\n",
            "Collecting auto-surprise\n",
            "  Downloading auto_surprise-0.1.8-py3-none-any.whl (19 kB)\n",
            "Requirement already satisfied: hyperopt>=0.2.5 in /usr/local/lib/python3.10/dist-packages (from auto-surprise) (0.2.7)\n",
            "Requirement already satisfied: numpy in /usr/local/lib/python3.10/dist-packages (from auto-surprise) (1.22.4)\n",
            "Requirement already satisfied: scikit-learn>=0.23.0 in /usr/local/lib/python3.10/dist-packages (from auto-surprise) (1.2.2)\n",
            "Collecting scikit-surprise (from auto-surprise)\n",
            "  Downloading scikit-surprise-1.1.3.tar.gz (771 kB)\n",
            "\u001b[2K     \u001b[90m━━━━━━━━━━━━━━━━━━━━━━━━━━━━━━━━━━━━━━\u001b[0m \u001b[32m772.0/772.0 kB\u001b[0m \u001b[31m34.7 MB/s\u001b[0m eta \u001b[36m0:00:00\u001b[0m\n",
            "\u001b[?25h  Preparing metadata (setup.py) ... \u001b[?25l\u001b[?25hdone\n",
            "Requirement already satisfied: rich in /usr/local/lib/python3.10/dist-packages (from auto-surprise) (13.3.4)\n",
            "Requirement already satisfied: scipy in /usr/local/lib/python3.10/dist-packages (from hyperopt>=0.2.5->auto-surprise) (1.10.1)\n",
            "Requirement already satisfied: six in /usr/local/lib/python3.10/dist-packages (from hyperopt>=0.2.5->auto-surprise) (1.16.0)\n",
            "Requirement already satisfied: networkx>=2.2 in /usr/local/lib/python3.10/dist-packages (from hyperopt>=0.2.5->auto-surprise) (3.1)\n",
            "Requirement already satisfied: future in /usr/local/lib/python3.10/dist-packages (from hyperopt>=0.2.5->auto-surprise) (0.18.3)\n",
            "Requirement already satisfied: tqdm in /usr/local/lib/python3.10/dist-packages (from hyperopt>=0.2.5->auto-surprise) (4.65.0)\n",
            "Requirement already satisfied: cloudpickle in /usr/local/lib/python3.10/dist-packages (from hyperopt>=0.2.5->auto-surprise) (2.2.1)\n",
            "Requirement already satisfied: py4j in /usr/local/lib/python3.10/dist-packages (from hyperopt>=0.2.5->auto-surprise) (0.10.9.7)\n",
            "Requirement already satisfied: joblib>=1.1.1 in /usr/local/lib/python3.10/dist-packages (from scikit-learn>=0.23.0->auto-surprise) (1.2.0)\n",
            "Requirement already satisfied: threadpoolctl>=2.0.0 in /usr/local/lib/python3.10/dist-packages (from scikit-learn>=0.23.0->auto-surprise) (3.1.0)\n",
            "Requirement already satisfied: markdown-it-py<3.0.0,>=2.2.0 in /usr/local/lib/python3.10/dist-packages (from rich->auto-surprise) (2.2.0)\n",
            "Requirement already satisfied: pygments<3.0.0,>=2.13.0 in /usr/local/lib/python3.10/dist-packages (from rich->auto-surprise) (2.14.0)\n",
            "Requirement already satisfied: mdurl~=0.1 in /usr/local/lib/python3.10/dist-packages (from markdown-it-py<3.0.0,>=2.2.0->rich->auto-surprise) (0.1.2)\n",
            "Building wheels for collected packages: scikit-surprise\n",
            "  Building wheel for scikit-surprise (setup.py) ... \u001b[?25l\u001b[?25hdone\n",
            "  Created wheel for scikit-surprise: filename=scikit_surprise-1.1.3-cp310-cp310-linux_x86_64.whl size=3095449 sha256=2f053b4c5679e184655315769cb4100574d42d275d6b452c8e02006961ed89e4\n",
            "  Stored in directory: /root/.cache/pip/wheels/a5/ca/a8/4e28def53797fdc4363ca4af740db15a9c2f1595ebc51fb445\n",
            "Successfully built scikit-surprise\n",
            "Installing collected packages: scikit-surprise, auto-surprise\n",
            "Successfully installed auto-surprise-0.1.8 scikit-surprise-1.1.3\n"
          ]
        }
      ],
      "source": [
        "#import libraries of surprise package\n",
        "\n",
        "import pandas as pd\n",
        "import numpy as np\n",
        "import matplotlib.pyplot as plt\n",
        "!pip install auto-surprise\n",
        "from surprise import SVD, SVDpp, SlopeOne, NMF, NormalPredictor, KNNWithZScore, BaselineOnly, CoClustering\n",
        "from surprise.prediction_algorithms import KNNWithMeans, KNNBasic, KNNBaseline\n",
        "from surprise import Dataset, Reader\n",
        "from surprise import accuracy\n",
        "from surprise.model_selection import cross_validate, train_test_split, GridSearchCV\n",
        "\n",
        "#from sklearn.metrics import precision_recall_fscore_support #maybe\n"
      ]
    },
    {
      "cell_type": "code",
      "execution_count": 2,
      "metadata": {
        "colab": {
          "base_uri": "https://localhost:8080/",
          "height": 72
        },
        "id": "l6KKlbA7X4Qk",
        "outputId": "694ddc05-c8db-4d99-f152-39a3ce629aeb"
      },
      "outputs": [
        {
          "output_type": "display_data",
          "data": {
            "text/plain": [
              "<IPython.core.display.HTML object>"
            ],
            "text/html": [
              "\n",
              "     <input type=\"file\" id=\"files-aaa8b801-a7f6-49fc-828a-4d839ff871be\" name=\"files[]\" multiple disabled\n",
              "        style=\"border:none\" />\n",
              "     <output id=\"result-aaa8b801-a7f6-49fc-828a-4d839ff871be\">\n",
              "      Upload widget is only available when the cell has been executed in the\n",
              "      current browser session. Please rerun this cell to enable.\n",
              "      </output>\n",
              "      <script>// Copyright 2017 Google LLC\n",
              "//\n",
              "// Licensed under the Apache License, Version 2.0 (the \"License\");\n",
              "// you may not use this file except in compliance with the License.\n",
              "// You may obtain a copy of the License at\n",
              "//\n",
              "//      http://www.apache.org/licenses/LICENSE-2.0\n",
              "//\n",
              "// Unless required by applicable law or agreed to in writing, software\n",
              "// distributed under the License is distributed on an \"AS IS\" BASIS,\n",
              "// WITHOUT WARRANTIES OR CONDITIONS OF ANY KIND, either express or implied.\n",
              "// See the License for the specific language governing permissions and\n",
              "// limitations under the License.\n",
              "\n",
              "/**\n",
              " * @fileoverview Helpers for google.colab Python module.\n",
              " */\n",
              "(function(scope) {\n",
              "function span(text, styleAttributes = {}) {\n",
              "  const element = document.createElement('span');\n",
              "  element.textContent = text;\n",
              "  for (const key of Object.keys(styleAttributes)) {\n",
              "    element.style[key] = styleAttributes[key];\n",
              "  }\n",
              "  return element;\n",
              "}\n",
              "\n",
              "// Max number of bytes which will be uploaded at a time.\n",
              "const MAX_PAYLOAD_SIZE = 100 * 1024;\n",
              "\n",
              "function _uploadFiles(inputId, outputId) {\n",
              "  const steps = uploadFilesStep(inputId, outputId);\n",
              "  const outputElement = document.getElementById(outputId);\n",
              "  // Cache steps on the outputElement to make it available for the next call\n",
              "  // to uploadFilesContinue from Python.\n",
              "  outputElement.steps = steps;\n",
              "\n",
              "  return _uploadFilesContinue(outputId);\n",
              "}\n",
              "\n",
              "// This is roughly an async generator (not supported in the browser yet),\n",
              "// where there are multiple asynchronous steps and the Python side is going\n",
              "// to poll for completion of each step.\n",
              "// This uses a Promise to block the python side on completion of each step,\n",
              "// then passes the result of the previous step as the input to the next step.\n",
              "function _uploadFilesContinue(outputId) {\n",
              "  const outputElement = document.getElementById(outputId);\n",
              "  const steps = outputElement.steps;\n",
              "\n",
              "  const next = steps.next(outputElement.lastPromiseValue);\n",
              "  return Promise.resolve(next.value.promise).then((value) => {\n",
              "    // Cache the last promise value to make it available to the next\n",
              "    // step of the generator.\n",
              "    outputElement.lastPromiseValue = value;\n",
              "    return next.value.response;\n",
              "  });\n",
              "}\n",
              "\n",
              "/**\n",
              " * Generator function which is called between each async step of the upload\n",
              " * process.\n",
              " * @param {string} inputId Element ID of the input file picker element.\n",
              " * @param {string} outputId Element ID of the output display.\n",
              " * @return {!Iterable<!Object>} Iterable of next steps.\n",
              " */\n",
              "function* uploadFilesStep(inputId, outputId) {\n",
              "  const inputElement = document.getElementById(inputId);\n",
              "  inputElement.disabled = false;\n",
              "\n",
              "  const outputElement = document.getElementById(outputId);\n",
              "  outputElement.innerHTML = '';\n",
              "\n",
              "  const pickedPromise = new Promise((resolve) => {\n",
              "    inputElement.addEventListener('change', (e) => {\n",
              "      resolve(e.target.files);\n",
              "    });\n",
              "  });\n",
              "\n",
              "  const cancel = document.createElement('button');\n",
              "  inputElement.parentElement.appendChild(cancel);\n",
              "  cancel.textContent = 'Cancel upload';\n",
              "  const cancelPromise = new Promise((resolve) => {\n",
              "    cancel.onclick = () => {\n",
              "      resolve(null);\n",
              "    };\n",
              "  });\n",
              "\n",
              "  // Wait for the user to pick the files.\n",
              "  const files = yield {\n",
              "    promise: Promise.race([pickedPromise, cancelPromise]),\n",
              "    response: {\n",
              "      action: 'starting',\n",
              "    }\n",
              "  };\n",
              "\n",
              "  cancel.remove();\n",
              "\n",
              "  // Disable the input element since further picks are not allowed.\n",
              "  inputElement.disabled = true;\n",
              "\n",
              "  if (!files) {\n",
              "    return {\n",
              "      response: {\n",
              "        action: 'complete',\n",
              "      }\n",
              "    };\n",
              "  }\n",
              "\n",
              "  for (const file of files) {\n",
              "    const li = document.createElement('li');\n",
              "    li.append(span(file.name, {fontWeight: 'bold'}));\n",
              "    li.append(span(\n",
              "        `(${file.type || 'n/a'}) - ${file.size} bytes, ` +\n",
              "        `last modified: ${\n",
              "            file.lastModifiedDate ? file.lastModifiedDate.toLocaleDateString() :\n",
              "                                    'n/a'} - `));\n",
              "    const percent = span('0% done');\n",
              "    li.appendChild(percent);\n",
              "\n",
              "    outputElement.appendChild(li);\n",
              "\n",
              "    const fileDataPromise = new Promise((resolve) => {\n",
              "      const reader = new FileReader();\n",
              "      reader.onload = (e) => {\n",
              "        resolve(e.target.result);\n",
              "      };\n",
              "      reader.readAsArrayBuffer(file);\n",
              "    });\n",
              "    // Wait for the data to be ready.\n",
              "    let fileData = yield {\n",
              "      promise: fileDataPromise,\n",
              "      response: {\n",
              "        action: 'continue',\n",
              "      }\n",
              "    };\n",
              "\n",
              "    // Use a chunked sending to avoid message size limits. See b/62115660.\n",
              "    let position = 0;\n",
              "    do {\n",
              "      const length = Math.min(fileData.byteLength - position, MAX_PAYLOAD_SIZE);\n",
              "      const chunk = new Uint8Array(fileData, position, length);\n",
              "      position += length;\n",
              "\n",
              "      const base64 = btoa(String.fromCharCode.apply(null, chunk));\n",
              "      yield {\n",
              "        response: {\n",
              "          action: 'append',\n",
              "          file: file.name,\n",
              "          data: base64,\n",
              "        },\n",
              "      };\n",
              "\n",
              "      let percentDone = fileData.byteLength === 0 ?\n",
              "          100 :\n",
              "          Math.round((position / fileData.byteLength) * 100);\n",
              "      percent.textContent = `${percentDone}% done`;\n",
              "\n",
              "    } while (position < fileData.byteLength);\n",
              "  }\n",
              "\n",
              "  // All done.\n",
              "  yield {\n",
              "    response: {\n",
              "      action: 'complete',\n",
              "    }\n",
              "  };\n",
              "}\n",
              "\n",
              "scope.google = scope.google || {};\n",
              "scope.google.colab = scope.google.colab || {};\n",
              "scope.google.colab._files = {\n",
              "  _uploadFiles,\n",
              "  _uploadFilesContinue,\n",
              "};\n",
              "})(self);\n",
              "</script> "
            ]
          },
          "metadata": {}
        },
        {
          "output_type": "stream",
          "name": "stdout",
          "text": [
            "Saving matches.csv to matches.csv\n"
          ]
        }
      ],
      "source": [
        "import pandas as pd \n",
        "import numpy as np \n",
        "from google.colab import files\n",
        "uploaded = files.upload()\n",
        "\n",
        "import io\n",
        "df = pd.read_csv(io.BytesIO(uploaded['matches.csv']))"
      ]
    },
    {
      "cell_type": "code",
      "execution_count": 3,
      "metadata": {
        "id": "RZxWTdDUX4Ql"
      },
      "outputs": [],
      "source": [
        "#Instantiate reader and data\n",
        "reader = Reader(rating_scale=(1, 5))\n",
        "data = Dataset.load_from_df(df[['JobseekerID', 'VacancyID', 'Rating']], reader)"
      ]
    },
    {
      "cell_type": "markdown",
      "metadata": {
        "id": "_ODlDZ8cXakN"
      },
      "source": [
        "##Benchmarks"
      ]
    },
    {
      "cell_type": "code",
      "execution_count": 4,
      "metadata": {
        "colab": {
          "base_uri": "https://localhost:8080/",
          "height": 1000
        },
        "id": "xQe-pCJj6tE2",
        "outputId": "b6de27ca-786d-418f-d8df-5ea614c37f09"
      },
      "outputs": [
        {
          "output_type": "stream",
          "name": "stderr",
          "text": [
            "<ipython-input-4-af3f1715faa4>:20: FutureWarning: The series.append method is deprecated and will be removed from pandas in a future version. Use pandas.concat instead.\n",
            "  tmp = tmp.append(pd.Series([str(algorithm).split(' ')[0].split('.')[-1]], index=['Algorithm']))\n",
            "<ipython-input-4-af3f1715faa4>:20: FutureWarning: The series.append method is deprecated and will be removed from pandas in a future version. Use pandas.concat instead.\n",
            "  tmp = tmp.append(pd.Series([str(algorithm).split(' ')[0].split('.')[-1]], index=['Algorithm']))\n",
            "<ipython-input-4-af3f1715faa4>:20: FutureWarning: The series.append method is deprecated and will be removed from pandas in a future version. Use pandas.concat instead.\n",
            "  tmp = tmp.append(pd.Series([str(algorithm).split(' ')[0].split('.')[-1]], index=['Algorithm']))\n",
            "<ipython-input-4-af3f1715faa4>:20: FutureWarning: The series.append method is deprecated and will be removed from pandas in a future version. Use pandas.concat instead.\n",
            "  tmp = tmp.append(pd.Series([str(algorithm).split(' ')[0].split('.')[-1]], index=['Algorithm']))\n",
            "<ipython-input-4-af3f1715faa4>:20: FutureWarning: The series.append method is deprecated and will be removed from pandas in a future version. Use pandas.concat instead.\n",
            "  tmp = tmp.append(pd.Series([str(algorithm).split(' ')[0].split('.')[-1]], index=['Algorithm']))\n"
          ]
        },
        {
          "output_type": "stream",
          "name": "stdout",
          "text": [
            "Estimating biases using als...\n",
            "Computing the msd similarity matrix...\n",
            "Done computing similarity matrix.\n",
            "Estimating biases using als...\n",
            "Computing the msd similarity matrix...\n",
            "Done computing similarity matrix.\n",
            "Estimating biases using als...\n",
            "Computing the msd similarity matrix...\n",
            "Done computing similarity matrix.\n",
            "Estimating biases using als...\n",
            "Computing the msd similarity matrix...\n",
            "Done computing similarity matrix.\n",
            "Estimating biases using als...\n",
            "Computing the msd similarity matrix...\n",
            "Done computing similarity matrix.\n",
            "Estimating biases using als...\n",
            "Computing the msd similarity matrix...\n",
            "Done computing similarity matrix.\n",
            "Estimating biases using als...\n",
            "Computing the msd similarity matrix...\n",
            "Done computing similarity matrix.\n",
            "Estimating biases using als...\n",
            "Computing the msd similarity matrix...\n",
            "Done computing similarity matrix.\n",
            "Estimating biases using als...\n",
            "Computing the msd similarity matrix...\n",
            "Done computing similarity matrix.\n",
            "Estimating biases using als...\n",
            "Computing the msd similarity matrix...\n",
            "Done computing similarity matrix.\n"
          ]
        },
        {
          "output_type": "stream",
          "name": "stderr",
          "text": [
            "<ipython-input-4-af3f1715faa4>:20: FutureWarning: The series.append method is deprecated and will be removed from pandas in a future version. Use pandas.concat instead.\n",
            "  tmp = tmp.append(pd.Series([str(algorithm).split(' ')[0].split('.')[-1]], index=['Algorithm']))\n"
          ]
        },
        {
          "output_type": "stream",
          "name": "stdout",
          "text": [
            "Computing the msd similarity matrix...\n",
            "Done computing similarity matrix.\n",
            "Computing the msd similarity matrix...\n",
            "Done computing similarity matrix.\n",
            "Computing the msd similarity matrix...\n",
            "Done computing similarity matrix.\n",
            "Computing the msd similarity matrix...\n",
            "Done computing similarity matrix.\n",
            "Computing the msd similarity matrix...\n",
            "Done computing similarity matrix.\n",
            "Computing the msd similarity matrix...\n",
            "Done computing similarity matrix.\n",
            "Computing the msd similarity matrix...\n",
            "Done computing similarity matrix.\n",
            "Computing the msd similarity matrix...\n",
            "Done computing similarity matrix.\n",
            "Computing the msd similarity matrix...\n",
            "Done computing similarity matrix.\n",
            "Computing the msd similarity matrix...\n",
            "Done computing similarity matrix.\n"
          ]
        },
        {
          "output_type": "stream",
          "name": "stderr",
          "text": [
            "<ipython-input-4-af3f1715faa4>:20: FutureWarning: The series.append method is deprecated and will be removed from pandas in a future version. Use pandas.concat instead.\n",
            "  tmp = tmp.append(pd.Series([str(algorithm).split(' ')[0].split('.')[-1]], index=['Algorithm']))\n"
          ]
        },
        {
          "output_type": "stream",
          "name": "stdout",
          "text": [
            "Computing the msd similarity matrix...\n",
            "Done computing similarity matrix.\n",
            "Computing the msd similarity matrix...\n",
            "Done computing similarity matrix.\n",
            "Computing the msd similarity matrix...\n",
            "Done computing similarity matrix.\n",
            "Computing the msd similarity matrix...\n",
            "Done computing similarity matrix.\n",
            "Computing the msd similarity matrix...\n",
            "Done computing similarity matrix.\n",
            "Computing the msd similarity matrix...\n",
            "Done computing similarity matrix.\n",
            "Computing the msd similarity matrix...\n",
            "Done computing similarity matrix.\n",
            "Computing the msd similarity matrix...\n",
            "Done computing similarity matrix.\n",
            "Computing the msd similarity matrix...\n",
            "Done computing similarity matrix.\n",
            "Computing the msd similarity matrix...\n",
            "Done computing similarity matrix.\n"
          ]
        },
        {
          "output_type": "stream",
          "name": "stderr",
          "text": [
            "<ipython-input-4-af3f1715faa4>:20: FutureWarning: The series.append method is deprecated and will be removed from pandas in a future version. Use pandas.concat instead.\n",
            "  tmp = tmp.append(pd.Series([str(algorithm).split(' ')[0].split('.')[-1]], index=['Algorithm']))\n"
          ]
        },
        {
          "output_type": "stream",
          "name": "stdout",
          "text": [
            "Computing the msd similarity matrix...\n",
            "Done computing similarity matrix.\n",
            "Computing the msd similarity matrix...\n",
            "Done computing similarity matrix.\n",
            "Computing the msd similarity matrix...\n",
            "Done computing similarity matrix.\n",
            "Computing the msd similarity matrix...\n",
            "Done computing similarity matrix.\n",
            "Computing the msd similarity matrix...\n",
            "Done computing similarity matrix.\n",
            "Computing the msd similarity matrix...\n",
            "Done computing similarity matrix.\n",
            "Computing the msd similarity matrix...\n",
            "Done computing similarity matrix.\n",
            "Computing the msd similarity matrix...\n",
            "Done computing similarity matrix.\n",
            "Computing the msd similarity matrix...\n",
            "Done computing similarity matrix.\n",
            "Computing the msd similarity matrix...\n"
          ]
        },
        {
          "output_type": "stream",
          "name": "stderr",
          "text": [
            "<ipython-input-4-af3f1715faa4>:20: FutureWarning: The series.append method is deprecated and will be removed from pandas in a future version. Use pandas.concat instead.\n",
            "  tmp = tmp.append(pd.Series([str(algorithm).split(' ')[0].split('.')[-1]], index=['Algorithm']))\n"
          ]
        },
        {
          "output_type": "stream",
          "name": "stdout",
          "text": [
            "Done computing similarity matrix.\n",
            "Estimating biases using als...\n",
            "Estimating biases using als...\n",
            "Estimating biases using als...\n",
            "Estimating biases using als...\n",
            "Estimating biases using als...\n",
            "Estimating biases using als...\n",
            "Estimating biases using als...\n",
            "Estimating biases using als...\n",
            "Estimating biases using als...\n",
            "Estimating biases using als...\n"
          ]
        },
        {
          "output_type": "stream",
          "name": "stderr",
          "text": [
            "<ipython-input-4-af3f1715faa4>:20: FutureWarning: The series.append method is deprecated and will be removed from pandas in a future version. Use pandas.concat instead.\n",
            "  tmp = tmp.append(pd.Series([str(algorithm).split(' ')[0].split('.')[-1]], index=['Algorithm']))\n",
            "<ipython-input-4-af3f1715faa4>:20: FutureWarning: The series.append method is deprecated and will be removed from pandas in a future version. Use pandas.concat instead.\n",
            "  tmp = tmp.append(pd.Series([str(algorithm).split(' ')[0].split('.')[-1]], index=['Algorithm']))\n"
          ]
        },
        {
          "output_type": "execute_result",
          "data": {
            "text/plain": [
              "                 test_rmse  test_mae  test_mse  test_fcp  fit_time  test_time\n",
              "Algorithm                                                                    \n",
              "KNNBasic          1.192766  0.992610  1.422729  0.541083  1.835664   0.655771\n",
              "KNNBaseline       1.193338  0.995939  1.424173  0.539614  2.055866   0.961220\n",
              "KNNWithMeans      1.238164  1.026371  1.533120  0.541566  2.034129   0.709355\n",
              "KNNWithZScore     1.252491  1.032213  1.568809  0.537799  2.201662   0.670958\n",
              "SVDpp             1.270630  1.060715  1.614595  0.527594  1.512843   0.162436\n",
              "SVD               1.274762  1.071730  1.625130  0.524600  0.936553   0.044773\n",
              "NMF               1.376370  1.116610  1.894619  0.532629  1.461236   0.028708\n",
              "CoClustering      1.406379  1.126534  1.978554  0.525209  1.717279   0.023057\n",
              "BaselineOnly      1.331320  1.136749  1.772500  0.503157  0.090777   0.016481\n",
              "SlopeOne          1.414514  1.157550  2.000956  0.505799  0.107290   0.083588\n",
              "NormalPredictor   1.812919  1.474568  3.286772  0.496382  0.057247   0.045367"
            ],
            "text/html": [
              "\n",
              "  <div id=\"df-02db3e02-21c6-4136-b5a3-a6cc21f5be34\">\n",
              "    <div class=\"colab-df-container\">\n",
              "      <div>\n",
              "<style scoped>\n",
              "    .dataframe tbody tr th:only-of-type {\n",
              "        vertical-align: middle;\n",
              "    }\n",
              "\n",
              "    .dataframe tbody tr th {\n",
              "        vertical-align: top;\n",
              "    }\n",
              "\n",
              "    .dataframe thead th {\n",
              "        text-align: right;\n",
              "    }\n",
              "</style>\n",
              "<table border=\"1\" class=\"dataframe\">\n",
              "  <thead>\n",
              "    <tr style=\"text-align: right;\">\n",
              "      <th></th>\n",
              "      <th>test_rmse</th>\n",
              "      <th>test_mae</th>\n",
              "      <th>test_mse</th>\n",
              "      <th>test_fcp</th>\n",
              "      <th>fit_time</th>\n",
              "      <th>test_time</th>\n",
              "    </tr>\n",
              "    <tr>\n",
              "      <th>Algorithm</th>\n",
              "      <th></th>\n",
              "      <th></th>\n",
              "      <th></th>\n",
              "      <th></th>\n",
              "      <th></th>\n",
              "      <th></th>\n",
              "    </tr>\n",
              "  </thead>\n",
              "  <tbody>\n",
              "    <tr>\n",
              "      <th>KNNBasic</th>\n",
              "      <td>1.192766</td>\n",
              "      <td>0.992610</td>\n",
              "      <td>1.422729</td>\n",
              "      <td>0.541083</td>\n",
              "      <td>1.835664</td>\n",
              "      <td>0.655771</td>\n",
              "    </tr>\n",
              "    <tr>\n",
              "      <th>KNNBaseline</th>\n",
              "      <td>1.193338</td>\n",
              "      <td>0.995939</td>\n",
              "      <td>1.424173</td>\n",
              "      <td>0.539614</td>\n",
              "      <td>2.055866</td>\n",
              "      <td>0.961220</td>\n",
              "    </tr>\n",
              "    <tr>\n",
              "      <th>KNNWithMeans</th>\n",
              "      <td>1.238164</td>\n",
              "      <td>1.026371</td>\n",
              "      <td>1.533120</td>\n",
              "      <td>0.541566</td>\n",
              "      <td>2.034129</td>\n",
              "      <td>0.709355</td>\n",
              "    </tr>\n",
              "    <tr>\n",
              "      <th>KNNWithZScore</th>\n",
              "      <td>1.252491</td>\n",
              "      <td>1.032213</td>\n",
              "      <td>1.568809</td>\n",
              "      <td>0.537799</td>\n",
              "      <td>2.201662</td>\n",
              "      <td>0.670958</td>\n",
              "    </tr>\n",
              "    <tr>\n",
              "      <th>SVDpp</th>\n",
              "      <td>1.270630</td>\n",
              "      <td>1.060715</td>\n",
              "      <td>1.614595</td>\n",
              "      <td>0.527594</td>\n",
              "      <td>1.512843</td>\n",
              "      <td>0.162436</td>\n",
              "    </tr>\n",
              "    <tr>\n",
              "      <th>SVD</th>\n",
              "      <td>1.274762</td>\n",
              "      <td>1.071730</td>\n",
              "      <td>1.625130</td>\n",
              "      <td>0.524600</td>\n",
              "      <td>0.936553</td>\n",
              "      <td>0.044773</td>\n",
              "    </tr>\n",
              "    <tr>\n",
              "      <th>NMF</th>\n",
              "      <td>1.376370</td>\n",
              "      <td>1.116610</td>\n",
              "      <td>1.894619</td>\n",
              "      <td>0.532629</td>\n",
              "      <td>1.461236</td>\n",
              "      <td>0.028708</td>\n",
              "    </tr>\n",
              "    <tr>\n",
              "      <th>CoClustering</th>\n",
              "      <td>1.406379</td>\n",
              "      <td>1.126534</td>\n",
              "      <td>1.978554</td>\n",
              "      <td>0.525209</td>\n",
              "      <td>1.717279</td>\n",
              "      <td>0.023057</td>\n",
              "    </tr>\n",
              "    <tr>\n",
              "      <th>BaselineOnly</th>\n",
              "      <td>1.331320</td>\n",
              "      <td>1.136749</td>\n",
              "      <td>1.772500</td>\n",
              "      <td>0.503157</td>\n",
              "      <td>0.090777</td>\n",
              "      <td>0.016481</td>\n",
              "    </tr>\n",
              "    <tr>\n",
              "      <th>SlopeOne</th>\n",
              "      <td>1.414514</td>\n",
              "      <td>1.157550</td>\n",
              "      <td>2.000956</td>\n",
              "      <td>0.505799</td>\n",
              "      <td>0.107290</td>\n",
              "      <td>0.083588</td>\n",
              "    </tr>\n",
              "    <tr>\n",
              "      <th>NormalPredictor</th>\n",
              "      <td>1.812919</td>\n",
              "      <td>1.474568</td>\n",
              "      <td>3.286772</td>\n",
              "      <td>0.496382</td>\n",
              "      <td>0.057247</td>\n",
              "      <td>0.045367</td>\n",
              "    </tr>\n",
              "  </tbody>\n",
              "</table>\n",
              "</div>\n",
              "      <button class=\"colab-df-convert\" onclick=\"convertToInteractive('df-02db3e02-21c6-4136-b5a3-a6cc21f5be34')\"\n",
              "              title=\"Convert this dataframe to an interactive table.\"\n",
              "              style=\"display:none;\">\n",
              "        \n",
              "  <svg xmlns=\"http://www.w3.org/2000/svg\" height=\"24px\"viewBox=\"0 0 24 24\"\n",
              "       width=\"24px\">\n",
              "    <path d=\"M0 0h24v24H0V0z\" fill=\"none\"/>\n",
              "    <path d=\"M18.56 5.44l.94 2.06.94-2.06 2.06-.94-2.06-.94-.94-2.06-.94 2.06-2.06.94zm-11 1L8.5 8.5l.94-2.06 2.06-.94-2.06-.94L8.5 2.5l-.94 2.06-2.06.94zm10 10l.94 2.06.94-2.06 2.06-.94-2.06-.94-.94-2.06-.94 2.06-2.06.94z\"/><path d=\"M17.41 7.96l-1.37-1.37c-.4-.4-.92-.59-1.43-.59-.52 0-1.04.2-1.43.59L10.3 9.45l-7.72 7.72c-.78.78-.78 2.05 0 2.83L4 21.41c.39.39.9.59 1.41.59.51 0 1.02-.2 1.41-.59l7.78-7.78 2.81-2.81c.8-.78.8-2.07 0-2.86zM5.41 20L4 18.59l7.72-7.72 1.47 1.35L5.41 20z\"/>\n",
              "  </svg>\n",
              "      </button>\n",
              "      \n",
              "  <style>\n",
              "    .colab-df-container {\n",
              "      display:flex;\n",
              "      flex-wrap:wrap;\n",
              "      gap: 12px;\n",
              "    }\n",
              "\n",
              "    .colab-df-convert {\n",
              "      background-color: #E8F0FE;\n",
              "      border: none;\n",
              "      border-radius: 50%;\n",
              "      cursor: pointer;\n",
              "      display: none;\n",
              "      fill: #1967D2;\n",
              "      height: 32px;\n",
              "      padding: 0 0 0 0;\n",
              "      width: 32px;\n",
              "    }\n",
              "\n",
              "    .colab-df-convert:hover {\n",
              "      background-color: #E2EBFA;\n",
              "      box-shadow: 0px 1px 2px rgba(60, 64, 67, 0.3), 0px 1px 3px 1px rgba(60, 64, 67, 0.15);\n",
              "      fill: #174EA6;\n",
              "    }\n",
              "\n",
              "    [theme=dark] .colab-df-convert {\n",
              "      background-color: #3B4455;\n",
              "      fill: #D2E3FC;\n",
              "    }\n",
              "\n",
              "    [theme=dark] .colab-df-convert:hover {\n",
              "      background-color: #434B5C;\n",
              "      box-shadow: 0px 1px 3px 1px rgba(0, 0, 0, 0.15);\n",
              "      filter: drop-shadow(0px 1px 2px rgba(0, 0, 0, 0.3));\n",
              "      fill: #FFFFFF;\n",
              "    }\n",
              "  </style>\n",
              "\n",
              "      <script>\n",
              "        const buttonEl =\n",
              "          document.querySelector('#df-02db3e02-21c6-4136-b5a3-a6cc21f5be34 button.colab-df-convert');\n",
              "        buttonEl.style.display =\n",
              "          google.colab.kernel.accessAllowed ? 'block' : 'none';\n",
              "\n",
              "        async function convertToInteractive(key) {\n",
              "          const element = document.querySelector('#df-02db3e02-21c6-4136-b5a3-a6cc21f5be34');\n",
              "          const dataTable =\n",
              "            await google.colab.kernel.invokeFunction('convertToInteractive',\n",
              "                                                     [key], {});\n",
              "          if (!dataTable) return;\n",
              "\n",
              "          const docLinkHtml = 'Like what you see? Visit the ' +\n",
              "            '<a target=\"_blank\" href=https://colab.research.google.com/notebooks/data_table.ipynb>data table notebook</a>'\n",
              "            + ' to learn more about interactive tables.';\n",
              "          element.innerHTML = '';\n",
              "          dataTable['output_type'] = 'display_data';\n",
              "          await google.colab.output.renderOutput(dataTable, element);\n",
              "          const docLink = document.createElement('div');\n",
              "          docLink.innerHTML = docLinkHtml;\n",
              "          element.appendChild(docLink);\n",
              "        }\n",
              "      </script>\n",
              "    </div>\n",
              "  </div>\n",
              "  "
            ]
          },
          "metadata": {},
          "execution_count": 4
        }
      ],
      "source": [
        "#This code is performing a benchmark test for different recommendation algorithms using the Surprise library.\n",
        "#The loop iterates over a list of algorithms including SVD, SVD++, SlopeOne, NMF, NormalPredictor, KNNBaseline, KNNBasic, KNNWithMeans, KNNWithZScore, BaselineOnly, and CoClustering.\n",
        "#For each algorithm, the code performs a 10-fold cross-validation on the data with the root mean squared error (RMSE) as the evaluation metric. The average RMSE is computed and stored in a dataframe along with the algorithm name.\n",
        "#Finally, the dataframe is sorted by the test RMSE and printed out to show the performance of each algorithm.\n",
        "#measures their performance in terms of RMSE (Root Mean Squared Error) score, fit time, and test time.\n",
        "\n",
        "import numpy as np\n",
        "#Set random seed\n",
        "np.random.seed(42)\n",
        "\n",
        "benchmark = []\n",
        "# Iterate over all algorithms\n",
        "for algorithm in [SVD(), SVDpp(), SlopeOne(), NMF(), NormalPredictor(), KNNBaseline(), KNNBasic(), KNNWithMeans(), KNNWithZScore(), BaselineOnly(), CoClustering()]:\n",
        "    # Perform cross validation\n",
        "    results = cross_validate(algorithm, data, measures=['RMSE', 'MAE', 'MSE', 'FCP'], cv=10, verbose=False)\n",
        "#The data variable used in the cross_validate function,  was instantiated earlier together with the Reader (= matches file) \n",
        "\n",
        "    # Get results & append algorithm name\n",
        "    tmp = pd.DataFrame.from_dict(results).mean(axis=0)\n",
        "    tmp = tmp.append(pd.Series([str(algorithm).split(' ')[0].split('.')[-1]], index=['Algorithm']))\n",
        "    benchmark.append(tmp)\n",
        "    \n",
        "pd.DataFrame(benchmark).set_index('Algorithm').sort_values('test_mae') "
      ]
    },
    {
      "cell_type": "code",
      "execution_count": null,
      "metadata": {
        "colab": {
          "base_uri": "https://localhost:8080/"
        },
        "id": "6D66jPKK7D8B",
        "outputId": "a087f9f1-f83b-494d-fe48-3abb5b9f7fef"
      },
      "outputs": [
        {
          "output_type": "stream",
          "name": "stdout",
          "text": [
            "Mounted at /content/drive\n"
          ]
        }
      ],
      "source": [
        "#Works, but does not import the ordered result, not a big deal though\n",
        "import pandas as pd\n",
        "benchmark_df = pd.DataFrame(benchmark)\n",
        "\n",
        "#Export the table to excel\n",
        "benchmark_df.to_csv('Benchmarks', index=False)\n",
        "\n",
        "# Authenticate and mount Google Drive\n",
        "from google.colab import drive\n",
        "drive.mount('/content/drive', force_remount=True)\n",
        "\n",
        "# Save the DataFrames as CSV files to the 'My Drive' folder in Google Drive\n",
        "benchmark_df.to_csv('/content/drive/My Drive/Benchmarks.csv', index=False)"
      ]
    },
    {
      "cell_type": "markdown",
      "metadata": {
        "id": "eAIaBlvV6BAi"
      },
      "source": [
        "Interpretation:\n",
        "\n",
        "*   'test_*' where * corresponds to a lower-case accuracy measure, e.g. 'test_rmse': numpy array with accuracy values for each testset.\n",
        "\n",
        "*   'train_*' where * corresponds to a lower-case accuracy measure, e.g. 'train_rmse': numpy array with accuracy values for each trainset. Only available if return_train_measures is True.\n",
        "\n",
        "*   'fit_time': numpy array with the training time in seconds for each split.\n",
        "*   'test_time': numpy array with the testing time in seconds for each split."
      ]
    },
    {
      "cell_type": "markdown",
      "metadata": {
        "id": "zuia3Goh-gQX"
      },
      "source": [
        "##Clean data: train and predict\n",
        "\n",
        "KNNBaseline algorithm gave us the best rmse, therefore, we will train and predict with KNNBaseline and use the **pearson_baseline similarity measure** - because that's the similarity measure the surprise documentation recommends for KNNBaseline."
      ]
    },
    {
      "cell_type": "markdown",
      "metadata": {
        "id": "qKrND_LMTNOq"
      },
      "source": [
        "####Gridsearch: KNNBaseline"
      ]
    },
    {
      "cell_type": "markdown",
      "metadata": {
        "id": "KnRNOTUY90du"
      },
      "source": [
        "#####Tuned model"
      ]
    },
    {
      "cell_type": "code",
      "execution_count": null,
      "metadata": {
        "id": "4ahmwyIp9Rbi"
      },
      "outputs": [],
      "source": [
        "import random\n",
        "\n",
        "#Set the random seed\n",
        "random.seed(42)\n",
        "np.random.seed(42)"
      ]
    },
    {
      "cell_type": "markdown",
      "metadata": {
        "id": "unmCx3Xt-bUK"
      },
      "source": [
        "* 'name': The name of the similarity to use, as defined in the similarities module. Default is 'MSD'.\n",
        "* 'user_based': Whether similarities will be computed between users or between items. This has a huge impact on the performance of a prediction algorithm. Default is True.\n",
        "* 'min_support': The minimum number of common items (when 'user_based' is 'True') or minimum number of common users (when 'user_based' is 'False') for the similarity not to be zero. \n",
        "* 'shrinkage': Shrinkage parameter to apply (only relevant for pearson_baseline similarity). Default is 100.\n",
        "* The shrinkage parameter helps to avoid overfitting when only few ratings are available"
      ]
    },
    {
      "cell_type": "code",
      "execution_count": null,
      "metadata": {
        "id": "Qe5jlik482RD"
      },
      "outputs": [],
      "source": [
        "param_grid = {\n",
        "    'k': [5, 10, 15],\n",
        "    'sim_options': {\n",
        "        'name': ['pearson_baseline'],\n",
        "        'min_support': [1],\n",
        "        'user_based': [True],\n",
        "        'shrinkage': [5, 10],\n",
        "    },\n",
        "}\n",
        "\n",
        "algo = KNNBaseline\n",
        "\n",
        "gridsvd = GridSearchCV(KNNBaseline, param_grid, n_jobs=-1, measures=[\"rmse\", \"mae\"], cv=10)\n",
        "\n",
        "#code is performing k-fold cross-validation with k=10 using GridSearchCV.\n",
        "#For doing k-fold cross-validation, you don't need to split the data into training and validation set, it is done by splitting the training data into k-folds\n",
        "#each one of which will be used as a validation set in training the other (k-1) folds together as training set."
      ]
    },
    {
      "cell_type": "code",
      "execution_count": null,
      "metadata": {
        "colab": {
          "base_uri": "https://localhost:8080/"
        },
        "id": "yDlOFu8LOmMy",
        "outputId": "c2ff6b36-dd2e-4d34-f8e6-85dc946c75a3"
      },
      "outputs": [
        {
          "output_type": "execute_result",
          "data": {
            "text/plain": [
              "{'rmse': {'k': 15,\n",
              "  'sim_options': {'name': 'pearson_baseline',\n",
              "   'min_support': 1,\n",
              "   'user_based': True,\n",
              "   'shrinkage': 10}},\n",
              " 'mae': {'k': 10,\n",
              "  'sim_options': {'name': 'pearson_baseline',\n",
              "   'min_support': 1,\n",
              "   'user_based': True,\n",
              "   'shrinkage': 10}}}"
            ]
          },
          "metadata": {},
          "execution_count": 8
        }
      ],
      "source": [
        "#The GrisdearchCV returns a KNNBaseline instance which can be used to train your training set\n",
        "# Fit the GridSearchCV object on the entire dataset\n",
        "# The fit method of the GridSearchCV object will then fit the algorithm on the training set of each fold, \n",
        "# validate it on the corresponding validation set, and compute the RMSE score for each combination of hyperparameters.\n",
        "gridsvd.fit(data)\n",
        "gridsvd.best_params"
      ]
    },
    {
      "cell_type": "code",
      "execution_count": null,
      "metadata": {
        "colab": {
          "base_uri": "https://localhost:8080/"
        },
        "id": "tksSCeADmO2M",
        "outputId": "72a7fc65-03ee-4381-aa3b-30f9bb56d839"
      },
      "outputs": [
        {
          "output_type": "stream",
          "name": "stdout",
          "text": [
            "Best MAE score: 0.9592146404891991\n",
            "Best MAE parameters: {'k': 10, 'sim_options': {'name': 'pearson_baseline', 'min_support': 1, 'user_based': True, 'shrinkage': 10}}\n",
            "Best RMSE score: 1.1625266533488186\n",
            "Best RMSE parameters: {'k': 15, 'sim_options': {'name': 'pearson_baseline', 'min_support': 1, 'user_based': True, 'shrinkage': 10}}\n"
          ]
        }
      ],
      "source": [
        "# Get the best RMSE score and corresponding parameters\n",
        "best_rmse = gridsvd.best_score[\"rmse\"]  # best RMSE score\n",
        "best_rmse_params = gridsvd.best_params[\"rmse\"]  # corresponding parameters\n",
        "\n",
        "# Get the best MAE score and corresponding parameters\n",
        "best_mae = gridsvd.best_score[\"mae\"]  # best MAE score\n",
        "best_mae_params = gridsvd.best_params[\"mae\"]  # corresponding parameters\n",
        "\n",
        "# Print the best RMSE and MAE scores and parameters\n",
        "print(\"Best MAE score:\", best_mae)\n",
        "print(\"Best MAE parameters:\", best_mae_params)\n",
        "print(\"Best RMSE score:\", best_rmse)\n",
        "print(\"Best RMSE parameters:\", best_rmse_params)\n",
        "\n",
        "\n",
        "# Once fit() has been called, the best_estimator attribute gives us an algorithm instance \n",
        "# with the optimal set of parameters, which can be used how we please\n"
      ]
    },
    {
      "cell_type": "code",
      "execution_count": null,
      "metadata": {
        "colab": {
          "base_uri": "https://localhost:8080/"
        },
        "id": "F11elIGOxDv9",
        "outputId": "f51b2bb3-bd26-450e-ee2c-a0898d1f41bc"
      },
      "outputs": [
        {
          "output_type": "stream",
          "name": "stdout",
          "text": [
            "Best MAE: 0.9592\n",
            "Best MAE parameters: {'k': 10, 'sim_options': {'name': 'pearson_baseline', 'min_support': 1, 'user_based': True, 'shrinkage': 10}}\n",
            "Best RMSE: 1.1625\n",
            "Best RMSE parameters: {'k': 15, 'sim_options': {'name': 'pearson_baseline', 'min_support': 1, 'user_based': True, 'shrinkage': 10}}\n"
          ]
        }
      ],
      "source": [
        "for metric in gridsvd.best_score.keys():\n",
        "    if metric == 'mae':\n",
        "        print(f\"Best {metric.upper()}: {gridsvd.best_score[metric]:.4f}\")\n",
        "        print(f\"Best {metric.upper()} parameters: {gridsvd.best_params[metric]}\")\n",
        "        \n",
        "for metric in gridsvd.best_score.keys():\n",
        "    if metric == 'rmse':\n",
        "        print(f\"Best {metric.upper()}: {gridsvd.best_score[metric]:.4f}\")\n",
        "        print(f\"Best {metric.upper()} parameters: {gridsvd.best_params[metric]}\")\n"
      ]
    },
    {
      "cell_type": "code",
      "execution_count": null,
      "metadata": {
        "colab": {
          "base_uri": "https://localhost:8080/"
        },
        "id": "gw8vdT14yPTa",
        "outputId": "1dc77136-8bbb-473b-e1f5-8b79f76f67f0"
      },
      "outputs": [
        {
          "output_type": "execute_result",
          "data": {
            "text/plain": [
              "{'split0_test_rmse': array([1.20025967, 1.20054307, 1.17101961, 1.16999766, 1.16722479,\n",
              "        1.16642367]),\n",
              " 'split1_test_rmse': array([1.18913457, 1.19055629, 1.16356009, 1.16269292, 1.16088164,\n",
              "        1.16096191]),\n",
              " 'split2_test_rmse': array([1.2066475 , 1.2047546 , 1.1793637 , 1.17809691, 1.175551  ,\n",
              "        1.17458283]),\n",
              " 'split3_test_rmse': array([1.18270983, 1.18460007, 1.15624225, 1.15582262, 1.15343026,\n",
              "        1.15260496]),\n",
              " 'split4_test_rmse': array([1.20798213, 1.2087244 , 1.17778059, 1.17609381, 1.17646046,\n",
              "        1.17627573]),\n",
              " 'split5_test_rmse': array([1.1782192 , 1.17744215, 1.15102888, 1.1511652 , 1.143332  ,\n",
              "        1.14326566]),\n",
              " 'split6_test_rmse': array([1.20100242, 1.20036291, 1.17198072, 1.17130224, 1.16352386,\n",
              "        1.16504587]),\n",
              " 'split7_test_rmse': array([1.18286593, 1.18373707, 1.15433175, 1.15462631, 1.15248087,\n",
              "        1.15194728]),\n",
              " 'split8_test_rmse': array([1.19658668, 1.19700312, 1.16408084, 1.16355241, 1.16191937,\n",
              "        1.16206619]),\n",
              " 'split9_test_rmse': array([1.20154706, 1.20313924, 1.17958258, 1.17990308, 1.17302826,\n",
              "        1.17209243]),\n",
              " 'mean_test_rmse': array([1.1946955 , 1.19508629, 1.1668971 , 1.16632532, 1.16278325,\n",
              "        1.16252665]),\n",
              " 'std_test_rmse': array([0.01013227, 0.00988038, 0.01009905, 0.00976981, 0.01025499,\n",
              "        0.01015596]),\n",
              " 'rank_test_rmse': array([5, 6, 4, 3, 2, 1]),\n",
              " 'split0_test_mae': array([0.98436981, 0.98571377, 0.96626473, 0.96608638, 0.96796596,\n",
              "        0.96733867]),\n",
              " 'split1_test_mae': array([0.9684264 , 0.96900979, 0.9579857 , 0.95712993, 0.95963869,\n",
              "        0.95936908]),\n",
              " 'split2_test_mae': array([0.9872499 , 0.98566551, 0.97339319, 0.97248577, 0.97361087,\n",
              "        0.97348732]),\n",
              " 'split3_test_mae': array([0.96369655, 0.96545036, 0.95187855, 0.95104844, 0.95156195,\n",
              "        0.95084136]),\n",
              " 'split4_test_mae': array([0.98249588, 0.98391388, 0.96578518, 0.96492486, 0.96727288,\n",
              "        0.96710754]),\n",
              " 'split5_test_mae': array([0.95896997, 0.95658122, 0.94320516, 0.94285893, 0.94107777,\n",
              "        0.94115436]),\n",
              " 'split6_test_mae': array([0.97716571, 0.9769796 , 0.96361789, 0.96377443, 0.96057178,\n",
              "        0.96148731]),\n",
              " 'split7_test_mae': array([0.96530174, 0.96544223, 0.95136972, 0.95143408, 0.95298842,\n",
              "        0.95280387]),\n",
              " 'split8_test_mae': array([0.97128619, 0.97142696, 0.95554812, 0.95513532, 0.9580626 ,\n",
              "        0.95825147]),\n",
              " 'split9_test_mae': array([0.9750858 , 0.97674718, 0.96643923, 0.96726826, 0.96605456,\n",
              "        0.96558235]),\n",
              " 'mean_test_mae': array([0.97340479, 0.97369305, 0.95954875, 0.95921464, 0.95988055,\n",
              "        0.95974233]),\n",
              " 'std_test_mae': array([0.0089949 , 0.00931844, 0.00866598, 0.00870243, 0.00905951,\n",
              "        0.00901815]),\n",
              " 'rank_test_mae': array([5, 6, 2, 1, 4, 3]),\n",
              " 'mean_fit_time': array([4.78751388, 4.79683967, 4.90835009, 4.86880169, 5.07215855,\n",
              "        6.87503405]),\n",
              " 'std_fit_time': array([0.52458334, 0.64955342, 0.60430929, 0.65513399, 1.02131271,\n",
              "        2.12037057]),\n",
              " 'mean_test_time': array([0.6788939 , 0.61741731, 0.72979608, 0.70945156, 0.92412527,\n",
              "        0.78877649]),\n",
              " 'std_test_time': array([0.20212815, 0.21841792, 0.24759663, 0.25286483, 0.33057542,\n",
              "        0.30190414]),\n",
              " 'params': [{'k': 5,\n",
              "   'sim_options': {'name': 'pearson_baseline',\n",
              "    'min_support': 1,\n",
              "    'user_based': True,\n",
              "    'shrinkage': 5}},\n",
              "  {'k': 5,\n",
              "   'sim_options': {'name': 'pearson_baseline',\n",
              "    'min_support': 1,\n",
              "    'user_based': True,\n",
              "    'shrinkage': 10}},\n",
              "  {'k': 10,\n",
              "   'sim_options': {'name': 'pearson_baseline',\n",
              "    'min_support': 1,\n",
              "    'user_based': True,\n",
              "    'shrinkage': 5}},\n",
              "  {'k': 10,\n",
              "   'sim_options': {'name': 'pearson_baseline',\n",
              "    'min_support': 1,\n",
              "    'user_based': True,\n",
              "    'shrinkage': 10}},\n",
              "  {'k': 15,\n",
              "   'sim_options': {'name': 'pearson_baseline',\n",
              "    'min_support': 1,\n",
              "    'user_based': True,\n",
              "    'shrinkage': 5}},\n",
              "  {'k': 15,\n",
              "   'sim_options': {'name': 'pearson_baseline',\n",
              "    'min_support': 1,\n",
              "    'user_based': True,\n",
              "    'shrinkage': 10}}],\n",
              " 'param_k': [5, 5, 10, 10, 15, 15],\n",
              " 'param_sim_options': [{'name': 'pearson_baseline',\n",
              "   'min_support': 1,\n",
              "   'user_based': True,\n",
              "   'shrinkage': 5},\n",
              "  {'name': 'pearson_baseline',\n",
              "   'min_support': 1,\n",
              "   'user_based': True,\n",
              "   'shrinkage': 10},\n",
              "  {'name': 'pearson_baseline',\n",
              "   'min_support': 1,\n",
              "   'user_based': True,\n",
              "   'shrinkage': 5},\n",
              "  {'name': 'pearson_baseline',\n",
              "   'min_support': 1,\n",
              "   'user_based': True,\n",
              "   'shrinkage': 10},\n",
              "  {'name': 'pearson_baseline',\n",
              "   'min_support': 1,\n",
              "   'user_based': True,\n",
              "   'shrinkage': 5},\n",
              "  {'name': 'pearson_baseline',\n",
              "   'min_support': 1,\n",
              "   'user_based': True,\n",
              "   'shrinkage': 10}]}"
            ]
          },
          "metadata": {},
          "execution_count": 11
        }
      ],
      "source": [
        "gridsvd.cv_results\n",
        "\n",
        "#still necessary??"
      ]
    },
    {
      "cell_type": "code",
      "execution_count": null,
      "metadata": {
        "id": "cy3N812LOtxr"
      },
      "outputs": [],
      "source": [
        "# get the results. This code outputs the tables\n",
        "results = pd.DataFrame(gridsvd.cv_results)"
      ]
    },
    {
      "cell_type": "code",
      "execution_count": null,
      "metadata": {
        "colab": {
          "base_uri": "https://localhost:8080/"
        },
        "id": "Aupz5VJBOuvP",
        "outputId": "20d97051-be67-4f1e-c55e-18603dab41a6"
      },
      "outputs": [
        {
          "output_type": "stream",
          "name": "stdout",
          "text": [
            "   split0_test_rmse  split1_test_rmse  split2_test_rmse  split3_test_rmse  \\\n",
            "0          1.200260          1.189135          1.206648          1.182710   \n",
            "1          1.200543          1.190556          1.204755          1.184600   \n",
            "2          1.171020          1.163560          1.179364          1.156242   \n",
            "3          1.169998          1.162693          1.178097          1.155823   \n",
            "4          1.167225          1.160882          1.175551          1.153430   \n",
            "5          1.166424          1.160962          1.174583          1.152605   \n",
            "\n",
            "   split4_test_rmse  split5_test_rmse  split6_test_rmse  split7_test_rmse  \\\n",
            "0          1.207982          1.178219          1.201002          1.182866   \n",
            "1          1.208724          1.177442          1.200363          1.183737   \n",
            "2          1.177781          1.151029          1.171981          1.154332   \n",
            "3          1.176094          1.151165          1.171302          1.154626   \n",
            "4          1.176460          1.143332          1.163524          1.152481   \n",
            "5          1.176276          1.143266          1.165046          1.151947   \n",
            "\n",
            "   split8_test_rmse  split9_test_rmse  ...  mean_test_mae  std_test_mae  \\\n",
            "0          1.196587          1.201547  ...       0.973405      0.008995   \n",
            "1          1.197003          1.203139  ...       0.973693      0.009318   \n",
            "2          1.164081          1.179583  ...       0.959549      0.008666   \n",
            "3          1.163552          1.179903  ...       0.959215      0.008702   \n",
            "4          1.161919          1.173028  ...       0.959881      0.009060   \n",
            "5          1.162066          1.172092  ...       0.959742      0.009018   \n",
            "\n",
            "   rank_test_mae  mean_fit_time  std_fit_time  mean_test_time  std_test_time  \\\n",
            "0              5       4.787514      0.524583        0.678894       0.202128   \n",
            "1              6       4.796840      0.649553        0.617417       0.218418   \n",
            "2              2       4.908350      0.604309        0.729796       0.247597   \n",
            "3              1       4.868802      0.655134        0.709452       0.252865   \n",
            "4              4       5.072159      1.021313        0.924125       0.330575   \n",
            "5              3       6.875034      2.120371        0.788776       0.301904   \n",
            "\n",
            "                                              params  param_k  \\\n",
            "0  {'k': 5, 'sim_options': {'name': 'pearson_base...        5   \n",
            "1  {'k': 5, 'sim_options': {'name': 'pearson_base...        5   \n",
            "2  {'k': 10, 'sim_options': {'name': 'pearson_bas...       10   \n",
            "3  {'k': 10, 'sim_options': {'name': 'pearson_bas...       10   \n",
            "4  {'k': 15, 'sim_options': {'name': 'pearson_bas...       15   \n",
            "5  {'k': 15, 'sim_options': {'name': 'pearson_bas...       15   \n",
            "\n",
            "                                   param_sim_options  \n",
            "0  {'name': 'pearson_baseline', 'min_support': 1,...  \n",
            "1  {'name': 'pearson_baseline', 'min_support': 1,...  \n",
            "2  {'name': 'pearson_baseline', 'min_support': 1,...  \n",
            "3  {'name': 'pearson_baseline', 'min_support': 1,...  \n",
            "4  {'name': 'pearson_baseline', 'min_support': 1,...  \n",
            "5  {'name': 'pearson_baseline', 'min_support': 1,...  \n",
            "\n",
            "[6 rows x 33 columns]\n"
          ]
        }
      ],
      "source": [
        "print(results)"
      ]
    },
    {
      "cell_type": "code",
      "source": [
        "from IPython.display import display\n",
        "results = pd.DataFrame(gridsvd.cv_results)\n",
        "display(results)\n"
      ],
      "metadata": {
        "colab": {
          "base_uri": "https://localhost:8080/",
          "height": 643
        },
        "id": "x9J8TfmP4YPQ",
        "outputId": "f1be920b-9d90-41b5-8ea8-2bcad816960b"
      },
      "execution_count": null,
      "outputs": [
        {
          "output_type": "display_data",
          "data": {
            "text/plain": [
              "   split0_test_rmse  split1_test_rmse  split2_test_rmse  split3_test_rmse  \\\n",
              "0          1.200260          1.189135          1.206648          1.182710   \n",
              "1          1.200543          1.190556          1.204755          1.184600   \n",
              "2          1.171020          1.163560          1.179364          1.156242   \n",
              "3          1.169998          1.162693          1.178097          1.155823   \n",
              "4          1.167225          1.160882          1.175551          1.153430   \n",
              "5          1.166424          1.160962          1.174583          1.152605   \n",
              "\n",
              "   split4_test_rmse  split5_test_rmse  split6_test_rmse  split7_test_rmse  \\\n",
              "0          1.207982          1.178219          1.201002          1.182866   \n",
              "1          1.208724          1.177442          1.200363          1.183737   \n",
              "2          1.177781          1.151029          1.171981          1.154332   \n",
              "3          1.176094          1.151165          1.171302          1.154626   \n",
              "4          1.176460          1.143332          1.163524          1.152481   \n",
              "5          1.176276          1.143266          1.165046          1.151947   \n",
              "\n",
              "   split8_test_rmse  split9_test_rmse  ...  mean_test_mae  std_test_mae  \\\n",
              "0          1.196587          1.201547  ...       0.973405      0.008995   \n",
              "1          1.197003          1.203139  ...       0.973693      0.009318   \n",
              "2          1.164081          1.179583  ...       0.959549      0.008666   \n",
              "3          1.163552          1.179903  ...       0.959215      0.008702   \n",
              "4          1.161919          1.173028  ...       0.959881      0.009060   \n",
              "5          1.162066          1.172092  ...       0.959742      0.009018   \n",
              "\n",
              "   rank_test_mae  mean_fit_time  std_fit_time  mean_test_time  std_test_time  \\\n",
              "0              5       4.787514      0.524583        0.678894       0.202128   \n",
              "1              6       4.796840      0.649553        0.617417       0.218418   \n",
              "2              2       4.908350      0.604309        0.729796       0.247597   \n",
              "3              1       4.868802      0.655134        0.709452       0.252865   \n",
              "4              4       5.072159      1.021313        0.924125       0.330575   \n",
              "5              3       6.875034      2.120371        0.788776       0.301904   \n",
              "\n",
              "                                              params  param_k  \\\n",
              "0  {'k': 5, 'sim_options': {'name': 'pearson_base...        5   \n",
              "1  {'k': 5, 'sim_options': {'name': 'pearson_base...        5   \n",
              "2  {'k': 10, 'sim_options': {'name': 'pearson_bas...       10   \n",
              "3  {'k': 10, 'sim_options': {'name': 'pearson_bas...       10   \n",
              "4  {'k': 15, 'sim_options': {'name': 'pearson_bas...       15   \n",
              "5  {'k': 15, 'sim_options': {'name': 'pearson_bas...       15   \n",
              "\n",
              "                                   param_sim_options  \n",
              "0  {'name': 'pearson_baseline', 'min_support': 1,...  \n",
              "1  {'name': 'pearson_baseline', 'min_support': 1,...  \n",
              "2  {'name': 'pearson_baseline', 'min_support': 1,...  \n",
              "3  {'name': 'pearson_baseline', 'min_support': 1,...  \n",
              "4  {'name': 'pearson_baseline', 'min_support': 1,...  \n",
              "5  {'name': 'pearson_baseline', 'min_support': 1,...  \n",
              "\n",
              "[6 rows x 33 columns]"
            ],
            "text/html": [
              "\n",
              "  <div id=\"df-508f2f66-5f2e-46d3-bf9a-016780dc1878\">\n",
              "    <div class=\"colab-df-container\">\n",
              "      <div>\n",
              "<style scoped>\n",
              "    .dataframe tbody tr th:only-of-type {\n",
              "        vertical-align: middle;\n",
              "    }\n",
              "\n",
              "    .dataframe tbody tr th {\n",
              "        vertical-align: top;\n",
              "    }\n",
              "\n",
              "    .dataframe thead th {\n",
              "        text-align: right;\n",
              "    }\n",
              "</style>\n",
              "<table border=\"1\" class=\"dataframe\">\n",
              "  <thead>\n",
              "    <tr style=\"text-align: right;\">\n",
              "      <th></th>\n",
              "      <th>split0_test_rmse</th>\n",
              "      <th>split1_test_rmse</th>\n",
              "      <th>split2_test_rmse</th>\n",
              "      <th>split3_test_rmse</th>\n",
              "      <th>split4_test_rmse</th>\n",
              "      <th>split5_test_rmse</th>\n",
              "      <th>split6_test_rmse</th>\n",
              "      <th>split7_test_rmse</th>\n",
              "      <th>split8_test_rmse</th>\n",
              "      <th>split9_test_rmse</th>\n",
              "      <th>...</th>\n",
              "      <th>mean_test_mae</th>\n",
              "      <th>std_test_mae</th>\n",
              "      <th>rank_test_mae</th>\n",
              "      <th>mean_fit_time</th>\n",
              "      <th>std_fit_time</th>\n",
              "      <th>mean_test_time</th>\n",
              "      <th>std_test_time</th>\n",
              "      <th>params</th>\n",
              "      <th>param_k</th>\n",
              "      <th>param_sim_options</th>\n",
              "    </tr>\n",
              "  </thead>\n",
              "  <tbody>\n",
              "    <tr>\n",
              "      <th>0</th>\n",
              "      <td>1.200260</td>\n",
              "      <td>1.189135</td>\n",
              "      <td>1.206648</td>\n",
              "      <td>1.182710</td>\n",
              "      <td>1.207982</td>\n",
              "      <td>1.178219</td>\n",
              "      <td>1.201002</td>\n",
              "      <td>1.182866</td>\n",
              "      <td>1.196587</td>\n",
              "      <td>1.201547</td>\n",
              "      <td>...</td>\n",
              "      <td>0.973405</td>\n",
              "      <td>0.008995</td>\n",
              "      <td>5</td>\n",
              "      <td>4.787514</td>\n",
              "      <td>0.524583</td>\n",
              "      <td>0.678894</td>\n",
              "      <td>0.202128</td>\n",
              "      <td>{'k': 5, 'sim_options': {'name': 'pearson_base...</td>\n",
              "      <td>5</td>\n",
              "      <td>{'name': 'pearson_baseline', 'min_support': 1,...</td>\n",
              "    </tr>\n",
              "    <tr>\n",
              "      <th>1</th>\n",
              "      <td>1.200543</td>\n",
              "      <td>1.190556</td>\n",
              "      <td>1.204755</td>\n",
              "      <td>1.184600</td>\n",
              "      <td>1.208724</td>\n",
              "      <td>1.177442</td>\n",
              "      <td>1.200363</td>\n",
              "      <td>1.183737</td>\n",
              "      <td>1.197003</td>\n",
              "      <td>1.203139</td>\n",
              "      <td>...</td>\n",
              "      <td>0.973693</td>\n",
              "      <td>0.009318</td>\n",
              "      <td>6</td>\n",
              "      <td>4.796840</td>\n",
              "      <td>0.649553</td>\n",
              "      <td>0.617417</td>\n",
              "      <td>0.218418</td>\n",
              "      <td>{'k': 5, 'sim_options': {'name': 'pearson_base...</td>\n",
              "      <td>5</td>\n",
              "      <td>{'name': 'pearson_baseline', 'min_support': 1,...</td>\n",
              "    </tr>\n",
              "    <tr>\n",
              "      <th>2</th>\n",
              "      <td>1.171020</td>\n",
              "      <td>1.163560</td>\n",
              "      <td>1.179364</td>\n",
              "      <td>1.156242</td>\n",
              "      <td>1.177781</td>\n",
              "      <td>1.151029</td>\n",
              "      <td>1.171981</td>\n",
              "      <td>1.154332</td>\n",
              "      <td>1.164081</td>\n",
              "      <td>1.179583</td>\n",
              "      <td>...</td>\n",
              "      <td>0.959549</td>\n",
              "      <td>0.008666</td>\n",
              "      <td>2</td>\n",
              "      <td>4.908350</td>\n",
              "      <td>0.604309</td>\n",
              "      <td>0.729796</td>\n",
              "      <td>0.247597</td>\n",
              "      <td>{'k': 10, 'sim_options': {'name': 'pearson_bas...</td>\n",
              "      <td>10</td>\n",
              "      <td>{'name': 'pearson_baseline', 'min_support': 1,...</td>\n",
              "    </tr>\n",
              "    <tr>\n",
              "      <th>3</th>\n",
              "      <td>1.169998</td>\n",
              "      <td>1.162693</td>\n",
              "      <td>1.178097</td>\n",
              "      <td>1.155823</td>\n",
              "      <td>1.176094</td>\n",
              "      <td>1.151165</td>\n",
              "      <td>1.171302</td>\n",
              "      <td>1.154626</td>\n",
              "      <td>1.163552</td>\n",
              "      <td>1.179903</td>\n",
              "      <td>...</td>\n",
              "      <td>0.959215</td>\n",
              "      <td>0.008702</td>\n",
              "      <td>1</td>\n",
              "      <td>4.868802</td>\n",
              "      <td>0.655134</td>\n",
              "      <td>0.709452</td>\n",
              "      <td>0.252865</td>\n",
              "      <td>{'k': 10, 'sim_options': {'name': 'pearson_bas...</td>\n",
              "      <td>10</td>\n",
              "      <td>{'name': 'pearson_baseline', 'min_support': 1,...</td>\n",
              "    </tr>\n",
              "    <tr>\n",
              "      <th>4</th>\n",
              "      <td>1.167225</td>\n",
              "      <td>1.160882</td>\n",
              "      <td>1.175551</td>\n",
              "      <td>1.153430</td>\n",
              "      <td>1.176460</td>\n",
              "      <td>1.143332</td>\n",
              "      <td>1.163524</td>\n",
              "      <td>1.152481</td>\n",
              "      <td>1.161919</td>\n",
              "      <td>1.173028</td>\n",
              "      <td>...</td>\n",
              "      <td>0.959881</td>\n",
              "      <td>0.009060</td>\n",
              "      <td>4</td>\n",
              "      <td>5.072159</td>\n",
              "      <td>1.021313</td>\n",
              "      <td>0.924125</td>\n",
              "      <td>0.330575</td>\n",
              "      <td>{'k': 15, 'sim_options': {'name': 'pearson_bas...</td>\n",
              "      <td>15</td>\n",
              "      <td>{'name': 'pearson_baseline', 'min_support': 1,...</td>\n",
              "    </tr>\n",
              "    <tr>\n",
              "      <th>5</th>\n",
              "      <td>1.166424</td>\n",
              "      <td>1.160962</td>\n",
              "      <td>1.174583</td>\n",
              "      <td>1.152605</td>\n",
              "      <td>1.176276</td>\n",
              "      <td>1.143266</td>\n",
              "      <td>1.165046</td>\n",
              "      <td>1.151947</td>\n",
              "      <td>1.162066</td>\n",
              "      <td>1.172092</td>\n",
              "      <td>...</td>\n",
              "      <td>0.959742</td>\n",
              "      <td>0.009018</td>\n",
              "      <td>3</td>\n",
              "      <td>6.875034</td>\n",
              "      <td>2.120371</td>\n",
              "      <td>0.788776</td>\n",
              "      <td>0.301904</td>\n",
              "      <td>{'k': 15, 'sim_options': {'name': 'pearson_bas...</td>\n",
              "      <td>15</td>\n",
              "      <td>{'name': 'pearson_baseline', 'min_support': 1,...</td>\n",
              "    </tr>\n",
              "  </tbody>\n",
              "</table>\n",
              "<p>6 rows × 33 columns</p>\n",
              "</div>\n",
              "      <button class=\"colab-df-convert\" onclick=\"convertToInteractive('df-508f2f66-5f2e-46d3-bf9a-016780dc1878')\"\n",
              "              title=\"Convert this dataframe to an interactive table.\"\n",
              "              style=\"display:none;\">\n",
              "        \n",
              "  <svg xmlns=\"http://www.w3.org/2000/svg\" height=\"24px\"viewBox=\"0 0 24 24\"\n",
              "       width=\"24px\">\n",
              "    <path d=\"M0 0h24v24H0V0z\" fill=\"none\"/>\n",
              "    <path d=\"M18.56 5.44l.94 2.06.94-2.06 2.06-.94-2.06-.94-.94-2.06-.94 2.06-2.06.94zm-11 1L8.5 8.5l.94-2.06 2.06-.94-2.06-.94L8.5 2.5l-.94 2.06-2.06.94zm10 10l.94 2.06.94-2.06 2.06-.94-2.06-.94-.94-2.06-.94 2.06-2.06.94z\"/><path d=\"M17.41 7.96l-1.37-1.37c-.4-.4-.92-.59-1.43-.59-.52 0-1.04.2-1.43.59L10.3 9.45l-7.72 7.72c-.78.78-.78 2.05 0 2.83L4 21.41c.39.39.9.59 1.41.59.51 0 1.02-.2 1.41-.59l7.78-7.78 2.81-2.81c.8-.78.8-2.07 0-2.86zM5.41 20L4 18.59l7.72-7.72 1.47 1.35L5.41 20z\"/>\n",
              "  </svg>\n",
              "      </button>\n",
              "      \n",
              "  <style>\n",
              "    .colab-df-container {\n",
              "      display:flex;\n",
              "      flex-wrap:wrap;\n",
              "      gap: 12px;\n",
              "    }\n",
              "\n",
              "    .colab-df-convert {\n",
              "      background-color: #E8F0FE;\n",
              "      border: none;\n",
              "      border-radius: 50%;\n",
              "      cursor: pointer;\n",
              "      display: none;\n",
              "      fill: #1967D2;\n",
              "      height: 32px;\n",
              "      padding: 0 0 0 0;\n",
              "      width: 32px;\n",
              "    }\n",
              "\n",
              "    .colab-df-convert:hover {\n",
              "      background-color: #E2EBFA;\n",
              "      box-shadow: 0px 1px 2px rgba(60, 64, 67, 0.3), 0px 1px 3px 1px rgba(60, 64, 67, 0.15);\n",
              "      fill: #174EA6;\n",
              "    }\n",
              "\n",
              "    [theme=dark] .colab-df-convert {\n",
              "      background-color: #3B4455;\n",
              "      fill: #D2E3FC;\n",
              "    }\n",
              "\n",
              "    [theme=dark] .colab-df-convert:hover {\n",
              "      background-color: #434B5C;\n",
              "      box-shadow: 0px 1px 3px 1px rgba(0, 0, 0, 0.15);\n",
              "      filter: drop-shadow(0px 1px 2px rgba(0, 0, 0, 0.3));\n",
              "      fill: #FFFFFF;\n",
              "    }\n",
              "  </style>\n",
              "\n",
              "      <script>\n",
              "        const buttonEl =\n",
              "          document.querySelector('#df-508f2f66-5f2e-46d3-bf9a-016780dc1878 button.colab-df-convert');\n",
              "        buttonEl.style.display =\n",
              "          google.colab.kernel.accessAllowed ? 'block' : 'none';\n",
              "\n",
              "        async function convertToInteractive(key) {\n",
              "          const element = document.querySelector('#df-508f2f66-5f2e-46d3-bf9a-016780dc1878');\n",
              "          const dataTable =\n",
              "            await google.colab.kernel.invokeFunction('convertToInteractive',\n",
              "                                                     [key], {});\n",
              "          if (!dataTable) return;\n",
              "\n",
              "          const docLinkHtml = 'Like what you see? Visit the ' +\n",
              "            '<a target=\"_blank\" href=https://colab.research.google.com/notebooks/data_table.ipynb>data table notebook</a>'\n",
              "            + ' to learn more about interactive tables.';\n",
              "          element.innerHTML = '';\n",
              "          dataTable['output_type'] = 'display_data';\n",
              "          await google.colab.output.renderOutput(dataTable, element);\n",
              "          const docLink = document.createElement('div');\n",
              "          docLink.innerHTML = docLinkHtml;\n",
              "          element.appendChild(docLink);\n",
              "        }\n",
              "      </script>\n",
              "    </div>\n",
              "  </div>\n",
              "  "
            ]
          },
          "metadata": {}
        }
      ]
    },
    {
      "cell_type": "code",
      "execution_count": null,
      "metadata": {
        "id": "msKFjSLZoT2h"
      },
      "outputs": [],
      "source": [
        "results.to_csv('ResultsKNNBasleineNoNoise.csv', index=False)"
      ]
    },
    {
      "cell_type": "markdown",
      "metadata": {
        "id": "kFFXmfj1O_xP"
      },
      "source": [
        "#####Let's build a pandas data frame with all the predictions. This is in parallel with the notebook"
      ]
    },
    {
      "cell_type": "code",
      "execution_count": null,
      "metadata": {
        "id": "uymArmvwPA20"
      },
      "outputs": [],
      "source": [
        "def get_Iu(uid):\n",
        "    \"\"\" return the number of items rated by given user\n",
        "    args: \n",
        "      uid: the id of the user\n",
        "    returns: \n",
        "      the number of items rated by the user\n",
        "    \"\"\"\n",
        "    try:\n",
        "        return len(trainset.ur[trainset.to_inner_uid(uid)])\n",
        "    except ValueError: # user was not part of the trainset\n",
        "        return 0\n",
        "    \n",
        "def get_Ui(iid):\n",
        "    \"\"\" return number of users that have rated given item\n",
        "    args:\n",
        "      iid: the raw id of the item\n",
        "    returns:\n",
        "      the number of users that have rated the item.\n",
        "    \"\"\"\n",
        "    try: \n",
        "        return len(trainset.ir[trainset.to_inner_iid(iid)])\n",
        "    except ValueError:\n",
        "        return 0\n",
        "    \n",
        "df = pd.DataFrame(predictions, columns=['uid', 'iid', 'rui', 'est', 'details'])\n",
        "df['Iu'] = df.uid.apply(get_Iu)\n",
        "df['Ui'] = df.iid.apply(get_Ui)\n",
        "df['err'] = abs(df.est - df.rui)\n",
        "best_predictions = df.sort_values(by='err')[:10]\n",
        "worst_predictions = df.sort_values(by='err')[-10:]"
      ]
    },
    {
      "cell_type": "code",
      "execution_count": null,
      "metadata": {
        "colab": {
          "base_uri": "https://localhost:8080/"
        },
        "id": "bmpI6Ot4PCv5",
        "outputId": "dffaf6c6-43c2-4d46-d0c0-a29215c05f1b"
      },
      "outputs": [
        {
          "name": "stdout",
          "output_type": "stream",
          "text": [
            "        uid    iid  rui       est                                    details  \\\n",
            "8354  23013  39509  5.0  5.000000  {'actual_k': 10, 'was_impossible': False}   \n",
            "7563  21244  32890  5.0  5.000000  {'actual_k': 10, 'was_impossible': False}   \n",
            "6663  14617  26410  5.0  5.000000  {'actual_k': 10, 'was_impossible': False}   \n",
            "4997  24493  26134  3.0  3.000154  {'actual_k': 10, 'was_impossible': False}   \n",
            "5992  12100  46802  3.0  3.000411  {'actual_k': 10, 'was_impossible': False}   \n",
            "158   13955  40044  3.0  2.999143  {'actual_k': 10, 'was_impossible': False}   \n",
            "7122  15739  40283  3.0  2.998657  {'actual_k': 10, 'was_impossible': False}   \n",
            "6891  20118  28211  4.0  3.998299  {'actual_k': 10, 'was_impossible': False}   \n",
            "3592  22164  28211  4.0  3.998299  {'actual_k': 10, 'was_impossible': False}   \n",
            "5584  15094  47662  3.0  3.002535  {'actual_k': 10, 'was_impossible': False}   \n",
            "\n",
            "      Iu   Ui       err  \n",
            "8354   8   83  0.000000  \n",
            "7563  10   78  0.000000  \n",
            "6663  10  106  0.000000  \n",
            "4997   9   89  0.000154  \n",
            "5992  10   93  0.000411  \n",
            "158   10   92  0.000857  \n",
            "7122  11   86  0.001343  \n",
            "6891   2   72  0.001701  \n",
            "3592   2   72  0.001701  \n",
            "5584   9  102  0.002535  \n"
          ]
        }
      ],
      "source": [
        "print(best_predictions)\n",
        "\n",
        "#uid: id of the user\n",
        "#iid: the raw id of the vacancy\n",
        "#rui: actual rating given by a jobseeker i to a vacancy j in the dataset.\n",
        "#est: estimated rating by algorithm\n",
        "#Iu: number of vacancies rated by given jobseeker\n",
        "#Ui: number of jobseekers that have rated given vacancy\n",
        "#err: absolute difference est - rui (true rating) of a particular user-item pair. "
      ]
    },
    {
      "cell_type": "code",
      "execution_count": null,
      "metadata": {
        "colab": {
          "base_uri": "https://localhost:8080/"
        },
        "id": "HrOd4BRgPErs",
        "outputId": "2933e330-7465-4bda-971b-728efb22079d"
      },
      "outputs": [
        {
          "name": "stdout",
          "output_type": "stream",
          "text": [
            "        uid    iid  rui       est                                    details  \\\n",
            "8283  22330  49498  1.0  4.322291  {'actual_k': 10, 'was_impossible': False}   \n",
            "4949  20169  25460  1.0  4.323838  {'actual_k': 10, 'was_impossible': False}   \n",
            "540   13367  41360  1.0  4.362772  {'actual_k': 10, 'was_impossible': False}   \n",
            "2773  15205  31199  5.0  1.602716  {'actual_k': 10, 'was_impossible': False}   \n",
            "670   16983  36317  1.0  4.409571  {'actual_k': 10, 'was_impossible': False}   \n",
            "2027  22988  47916  1.0  4.443901  {'actual_k': 10, 'was_impossible': False}   \n",
            "7865  14883  30264  1.0  4.445657  {'actual_k': 10, 'was_impossible': False}   \n",
            "1521  13405  31508  1.0  4.448394  {'actual_k': 10, 'was_impossible': False}   \n",
            "6669  12733  29431  1.0  4.491060  {'actual_k': 10, 'was_impossible': False}   \n",
            "4609  21627  27296  1.0  4.516583  {'actual_k': 10, 'was_impossible': False}   \n",
            "\n",
            "      Iu  Ui       err  \n",
            "8283   2  84  3.322291  \n",
            "4949   3  89  3.323838  \n",
            "540    2  94  3.362772  \n",
            "2773   4  86  3.397284  \n",
            "670    6  85  3.409571  \n",
            "2027   9  88  3.443901  \n",
            "7865   3  97  3.445657  \n",
            "1521   8  87  3.448394  \n",
            "6669   2  89  3.491060  \n",
            "4609   2  85  3.516583  \n"
          ]
        }
      ],
      "source": [
        "print(worst_predictions)"
      ]
    },
    {
      "cell_type": "markdown",
      "metadata": {
        "id": "nVP_WU0LPHs6"
      },
      "source": [
        "#####Recommend the top 5 vacancies to a jobseeker"
      ]
    },
    {
      "cell_type": "code",
      "source": [
        "import pandas as pd \n",
        "import numpy as np \n",
        "from surprise import KNNBaseline, Dataset, Reader\n",
        "from surprise.model_selection import GridSearchCV\n",
        "\n",
        "# Load the dataset\n",
        "df = pd.read_csv('matches.csv')"
      ],
      "metadata": {
        "id": "qhxMqXKGBWMh"
      },
      "execution_count": null,
      "outputs": []
    },
    {
      "cell_type": "code",
      "source": [
        "# Define the rating scale\n",
        "reader = Reader(rating_scale=(1, 5))\n",
        "\n",
        "# Load the dataset into the Surprise format\n",
        "data = Dataset.load_from_df(df[['JobseekerID', 'VacancyID', 'Rating']], reader)\n"
      ],
      "metadata": {
        "id": "5qyhf8sZDW66"
      },
      "execution_count": null,
      "outputs": []
    },
    {
      "cell_type": "code",
      "source": [
        "# Set the best hyperparameters found by GridSearchCV\n",
        "best_k = gridsvd.best_params['mae']['k']\n",
        "best_min_support = gridsvd.best_params['mae']['sim_options']['min_support']\n",
        "\n",
        "# Define the SVD model\n",
        "model = KNNBaseline(k=best_k, sim_options={'name': 'pearson_baseline', 'min_support': best_min_support, 'user_based': True, 'shrinkage': 5})\n",
        "\n",
        "# Train the model on the dataset\n",
        "trainset = data.build_full_trainset()\n",
        "model.fit(trainset)"
      ],
      "metadata": {
        "colab": {
          "base_uri": "https://localhost:8080/"
        },
        "id": "B8kpxA7WDclL",
        "outputId": "75b81ea0-ed1c-416f-8552-540590b9d264"
      },
      "execution_count": null,
      "outputs": [
        {
          "output_type": "stream",
          "name": "stdout",
          "text": [
            "Estimating biases using als...\n",
            "Computing the pearson_baseline similarity matrix...\n",
            "Done computing similarity matrix.\n"
          ]
        },
        {
          "output_type": "execute_result",
          "data": {
            "text/plain": [
              "<surprise.prediction_algorithms.knns.KNNBaseline at 0x7fbe0be479a0>"
            ]
          },
          "metadata": {},
          "execution_count": 30
        }
      ]
    },
    {
      "cell_type": "code",
      "source": [
        "# Define a function to get top N recommended vacancies for a given jobseeker\n",
        "def get_top_n_vacancies(jobseeker_id, n=5):\n",
        "   \n",
        "    # Check if the jobseeker ID exists in the dataset\n",
        "    if jobseeker_id not in df['JobseekerID'].unique():\n",
        "        print(f\"Error: Jobseeker with id {jobseeker_id} does not exist.\")\n",
        "        return\n",
        "    \n",
        "    # Get a list of all vacancies\n",
        "    vacancies = df['VacancyID'].unique().tolist()\n",
        "\n",
        "    # Create a list of tuples (vacancy_id, predicted_rating) for the given jobseeker\n",
        "    jobseeker_ratings = [(vacancy_id, round(model.predict(jobseeker_id, vacancy_id).est, 2)) for vacancy_id in vacancies]\n",
        "    \n",
        "    # Filter out the vacancies that the jobseeker has already rated\n",
        "    rated_vacancies = df.loc[df['JobseekerID'] == jobseeker_id, 'VacancyID'].tolist()\n",
        "    jobseeker_ratings = [(vacancy_id, rating) for vacancy_id, rating in jobseeker_ratings if vacancy_id not in rated_vacancies]\n",
        "\n",
        "    # Sort the list in descending order of predicted rating\n",
        "    jobseeker_ratings.sort(key=lambda x: x[1], reverse=True)\n",
        "    \n",
        "    # Return the top n recommended vacancies for the given jobseeker\n",
        "    return jobseeker_ratings[:n]\n",
        "\n",
        "# Prompt the user to input the jobseeker ID\n",
        "jobseeker_id = int(input(\"Enter the jobseeker ID: \"))\n",
        "\n",
        "# Get the top N recommended vacancies for the given jobseeker\n",
        "n = 5  # number of recommended vacancies\n",
        "jobseeker_ratings = get_top_n_vacancies(jobseeker_id, n)\n",
        "\n",
        "#print:\n",
        "print(f\"Jobseeker ID {jobseeker_id} matches the following vacancies:\")\n",
        "for i in range(n):\n",
        "    vacancy_id = jobseeker_ratings[i][0]\n",
        "    rating = jobseeker_ratings[i][1]\n",
        "    print(f\"VacancyID {vacancy_id} with a rating of {rating}\")\n"
      ],
      "metadata": {
        "colab": {
          "base_uri": "https://localhost:8080/"
        },
        "id": "u5SCuUp9Gt0I",
        "outputId": "306ae2a0-7b9d-4a3c-8785-f1f7716d7a69"
      },
      "execution_count": null,
      "outputs": [
        {
          "output_type": "stream",
          "name": "stdout",
          "text": [
            "Enter the jobseeker ID: 14696\n",
            "Jobseeker ID 14696 matches the following vacancies:\n",
            "VacancyID 36404 with a rating of 3.85\n",
            "VacancyID 25460 with a rating of 3.85\n",
            "VacancyID 32627 with a rating of 3.81\n",
            "VacancyID 49215 with a rating of 3.81\n",
            "VacancyID 34904 with a rating of 3.81\n"
          ]
        }
      ]
    },
    {
      "cell_type": "markdown",
      "metadata": {
        "id": "CXoPYmcQN_SI"
      },
      "source": [
        "####Gridsearch: KNNBasic"
      ]
    },
    {
      "cell_type": "markdown",
      "metadata": {
        "id": "s1HQEe8J9ji4"
      },
      "source": [
        "#####Tuned model"
      ]
    },
    {
      "cell_type": "code",
      "execution_count": null,
      "metadata": {
        "id": "qclCGShBCtA1"
      },
      "outputs": [],
      "source": [
        "import random\n",
        "\n",
        "#Set the random seed\n",
        "random.seed(42)\n",
        "np.random.seed(42)"
      ]
    },
    {
      "cell_type": "code",
      "execution_count": null,
      "metadata": {
        "id": "ngBXDU2yCtBB"
      },
      "outputs": [],
      "source": [
        "param_grid = {\n",
        "    'k': [10, 20],\n",
        "    'sim_options': {\n",
        "        'name': ['msd'],\n",
        "        'min_support': [1],\n",
        "        'user_based': [True],\n",
        "        'shrinkage': [10],\n",
        "    },\n",
        "}\n",
        "\n",
        "gridsvd = GridSearchCV(KNNBasic, param_grid, n_jobs=-1, measures=[\"rmse\", \"mae\"], cv=10)"
      ]
    },
    {
      "cell_type": "code",
      "execution_count": null,
      "metadata": {
        "colab": {
          "base_uri": "https://localhost:8080/"
        },
        "id": "LjYtWvSXCtBC",
        "outputId": "678acdd5-d994-4d83-d382-1362def03c13"
      },
      "outputs": [
        {
          "output_type": "execute_result",
          "data": {
            "text/plain": [
              "{'rmse': {'k': 20,\n",
              "  'sim_options': {'name': 'msd',\n",
              "   'min_support': 1,\n",
              "   'user_based': True,\n",
              "   'shrinkage': 10}},\n",
              " 'mae': {'k': 10,\n",
              "  'sim_options': {'name': 'msd',\n",
              "   'min_support': 1,\n",
              "   'user_based': True,\n",
              "   'shrinkage': 10}}}"
            ]
          },
          "metadata": {},
          "execution_count": 48
        }
      ],
      "source": [
        "gridsvd.fit(data)\n",
        "gridsvd.best_params"
      ]
    },
    {
      "cell_type": "code",
      "execution_count": null,
      "metadata": {
        "colab": {
          "base_uri": "https://localhost:8080/"
        },
        "id": "umv4onrTtU9i",
        "outputId": "ccab7d0d-1386-47bb-8a7f-ba020c696112"
      },
      "outputs": [
        {
          "output_type": "stream",
          "name": "stdout",
          "text": [
            "Best MAE score: 0.9569254717432962\n",
            "Best MAE parameters: {'k': 10, 'sim_options': {'name': 'msd', 'min_support': 1, 'user_based': True, 'shrinkage': 10}}\n",
            "Best RMSE score: 1.16209207362427\n",
            "Best RMSE parameters: {'k': 20, 'sim_options': {'name': 'msd', 'min_support': 1, 'user_based': True, 'shrinkage': 10}}\n"
          ]
        }
      ],
      "source": [
        "# Get the best RMSE score and corresponding parameters\n",
        "best_rmse = gridsvd.best_score[\"rmse\"]  # best RMSE score\n",
        "best_rmse_params = gridsvd.best_params[\"rmse\"]  # corresponding parameters\n",
        "\n",
        "# Get the best MAE score and corresponding parameters\n",
        "best_mae = gridsvd.best_score[\"mae\"]  # best MAE score\n",
        "best_mae_params = gridsvd.best_params[\"mae\"]  # corresponding parameters\n",
        "\n",
        "# Print the best RMSE and MAE scores and parameters\n",
        "print(\"Best MAE score:\", best_mae)\n",
        "print(\"Best MAE parameters:\", best_mae_params)\n",
        "print(\"Best RMSE score:\", best_rmse)\n",
        "print(\"Best RMSE parameters:\", best_rmse_params)\n",
        "\n",
        "\n",
        "# Once fit() has been called, the best_estimator attribute gives us an algorithm instance \n",
        "# with the optimal set of parameters, which can be used how we please\n"
      ]
    },
    {
      "cell_type": "code",
      "execution_count": null,
      "metadata": {
        "colab": {
          "base_uri": "https://localhost:8080/"
        },
        "id": "wqXOKPcAuJYL",
        "outputId": "f5495530-1245-4c0e-a87a-790844b5813c"
      },
      "outputs": [
        {
          "output_type": "stream",
          "name": "stdout",
          "text": [
            "Best MAE: 0.9569\n",
            "Best MAE parameters: {'k': 10, 'sim_options': {'name': 'msd', 'min_support': 1, 'user_based': True, 'shrinkage': 10}}\n",
            "Best RMSE: 1.1621\n",
            "Best RMSE parameters: {'k': 20, 'sim_options': {'name': 'msd', 'min_support': 1, 'user_based': True, 'shrinkage': 10}}\n"
          ]
        }
      ],
      "source": [
        "for metric in gridsvd.best_score.keys():\n",
        "    if metric == 'mae':\n",
        "        print(f\"Best {metric.upper()}: {gridsvd.best_score[metric]:.4f}\")\n",
        "        print(f\"Best {metric.upper()} parameters: {gridsvd.best_params[metric]}\")\n",
        "        \n",
        "for metric in gridsvd.best_score.keys():\n",
        "    if metric == 'rmse':\n",
        "        print(f\"Best {metric.upper()}: {gridsvd.best_score[metric]:.4f}\")\n",
        "        print(f\"Best {metric.upper()} parameters: {gridsvd.best_params[metric]}\")\n"
      ]
    },
    {
      "cell_type": "code",
      "execution_count": null,
      "metadata": {
        "colab": {
          "base_uri": "https://localhost:8080/"
        },
        "id": "YinEhRZnx15x",
        "outputId": "082b2d4d-55aa-46b6-c679-73562e926ec4"
      },
      "outputs": [
        {
          "data": {
            "text/plain": [
              "{'split0_test_rmse': array([1.16845556, 1.16287368]),\n",
              " 'split1_test_rmse': array([1.16608954, 1.16131706]),\n",
              " 'split2_test_rmse': array([1.16231795, 1.16003709]),\n",
              " 'split3_test_rmse': array([1.16938947, 1.16438161]),\n",
              " 'split4_test_rmse': array([1.18710351, 1.18126779]),\n",
              " 'split5_test_rmse': array([1.1512281 , 1.14558157]),\n",
              " 'split6_test_rmse': array([1.16619002, 1.15994649]),\n",
              " 'split7_test_rmse': array([1.16358024, 1.1517478 ]),\n",
              " 'split8_test_rmse': array([1.16421374, 1.15659354]),\n",
              " 'split9_test_rmse': array([1.17936851, 1.17124148]),\n",
              " 'mean_test_rmse': array([1.16779366, 1.16149881]),\n",
              " 'std_test_rmse': array([0.00922105, 0.00934353]),\n",
              " 'rank_test_rmse': array([2, 1]),\n",
              " 'split0_test_mae': array([0.95578855, 0.95830537]),\n",
              " 'split1_test_mae': array([0.95095488, 0.95492767]),\n",
              " 'split2_test_mae': array([0.94801451, 0.95484248]),\n",
              " 'split3_test_mae': array([0.9579469, 0.9593803]),\n",
              " 'split4_test_mae': array([0.97778661, 0.97974501]),\n",
              " 'split5_test_mae': array([0.94336832, 0.94657844]),\n",
              " 'split6_test_mae': array([0.95473902, 0.95785469]),\n",
              " 'split7_test_mae': array([0.9496947 , 0.94930069]),\n",
              " 'split8_test_mae': array([0.95238807, 0.95652803]),\n",
              " 'split9_test_mae': array([0.96301915, 0.96295508]),\n",
              " 'mean_test_mae': array([0.95537007, 0.95804178]),\n",
              " 'std_test_mae': array([0.00909376, 0.00852705]),\n",
              " 'rank_test_mae': array([1, 2]),\n",
              " 'mean_fit_time': array([4.17507024, 3.42003813]),\n",
              " 'std_fit_time': array([1.07727289, 0.42753488]),\n",
              " 'mean_test_time': array([0.90373771, 1.09034519]),\n",
              " 'std_test_time': array([0.40413778, 0.73921241]),\n",
              " 'params': [{'k': 10,\n",
              "   'sim_options': {'name': 'msd',\n",
              "    'min_support': 1,\n",
              "    'user_based': True,\n",
              "    'shrinkage': 10}},\n",
              "  {'k': 20,\n",
              "   'sim_options': {'name': 'msd',\n",
              "    'min_support': 1,\n",
              "    'user_based': True,\n",
              "    'shrinkage': 10}}],\n",
              " 'param_k': [10, 20],\n",
              " 'param_sim_options': [{'name': 'msd',\n",
              "   'min_support': 1,\n",
              "   'user_based': True,\n",
              "   'shrinkage': 10},\n",
              "  {'name': 'msd', 'min_support': 1, 'user_based': True, 'shrinkage': 10}]}"
            ]
          },
          "execution_count": 41,
          "metadata": {},
          "output_type": "execute_result"
        }
      ],
      "source": [
        "gridsvd.cv_results\n",
        "\n",
        "#still necessary??"
      ]
    },
    {
      "cell_type": "code",
      "execution_count": null,
      "metadata": {
        "id": "5K12w4jLtU9j"
      },
      "outputs": [],
      "source": [
        "# get the results. This code outputs the tables\n",
        "results = pd.DataFrame(gridsvd.cv_results)"
      ]
    },
    {
      "cell_type": "code",
      "execution_count": null,
      "metadata": {
        "colab": {
          "base_uri": "https://localhost:8080/"
        },
        "id": "lA39oh3ttU9j",
        "outputId": "afd63121-2e4c-4520-d2d2-3293f1cca33f"
      },
      "outputs": [
        {
          "name": "stdout",
          "output_type": "stream",
          "text": [
            "   split0_test_rmse  split1_test_rmse  split2_test_rmse  split3_test_rmse  \\\n",
            "0          1.168456          1.166090          1.162318          1.169389   \n",
            "1          1.162874          1.161317          1.160037          1.164382   \n",
            "\n",
            "   split4_test_rmse  split5_test_rmse  split6_test_rmse  split7_test_rmse  \\\n",
            "0          1.187104          1.151228          1.166190          1.163580   \n",
            "1          1.181268          1.145582          1.159946          1.151748   \n",
            "\n",
            "   split8_test_rmse  split9_test_rmse  ...  mean_test_mae  std_test_mae  \\\n",
            "0          1.164214          1.179369  ...       0.955370      0.009094   \n",
            "1          1.156594          1.171241  ...       0.958042      0.008527   \n",
            "\n",
            "   rank_test_mae  mean_fit_time  std_fit_time  mean_test_time  std_test_time  \\\n",
            "0              1       4.175070      1.077273        0.903738       0.404138   \n",
            "1              2       3.420038      0.427535        1.090345       0.739212   \n",
            "\n",
            "                                              params  param_k  \\\n",
            "0  {'k': 10, 'sim_options': {'name': 'msd', 'min_...       10   \n",
            "1  {'k': 20, 'sim_options': {'name': 'msd', 'min_...       20   \n",
            "\n",
            "                                   param_sim_options  \n",
            "0  {'name': 'msd', 'min_support': 1, 'user_based'...  \n",
            "1  {'name': 'msd', 'min_support': 1, 'user_based'...  \n",
            "\n",
            "[2 rows x 33 columns]\n"
          ]
        }
      ],
      "source": [
        "print(results)"
      ]
    },
    {
      "cell_type": "code",
      "source": [
        "from IPython.display import display\n",
        "results = pd.DataFrame(gridsvd.cv_results)\n",
        "display(results)\n"
      ],
      "metadata": {
        "colab": {
          "base_uri": "https://localhost:8080/",
          "height": 643
        },
        "outputId": "ae42ec07-863a-4775-e05d-866cf470f9d1",
        "id": "XNY3Mf80JG__"
      },
      "execution_count": null,
      "outputs": [
        {
          "output_type": "display_data",
          "data": {
            "text/plain": [
              "   split0_test_rmse  split1_test_rmse  split2_test_rmse  split3_test_rmse  \\\n",
              "0          1.200260          1.189135          1.206648          1.182710   \n",
              "1          1.200543          1.190556          1.204755          1.184600   \n",
              "2          1.171020          1.163560          1.179364          1.156242   \n",
              "3          1.169998          1.162693          1.178097          1.155823   \n",
              "4          1.167225          1.160882          1.175551          1.153430   \n",
              "5          1.166424          1.160962          1.174583          1.152605   \n",
              "\n",
              "   split4_test_rmse  split5_test_rmse  split6_test_rmse  split7_test_rmse  \\\n",
              "0          1.207982          1.178219          1.201002          1.182866   \n",
              "1          1.208724          1.177442          1.200363          1.183737   \n",
              "2          1.177781          1.151029          1.171981          1.154332   \n",
              "3          1.176094          1.151165          1.171302          1.154626   \n",
              "4          1.176460          1.143332          1.163524          1.152481   \n",
              "5          1.176276          1.143266          1.165046          1.151947   \n",
              "\n",
              "   split8_test_rmse  split9_test_rmse  ...  mean_test_mae  std_test_mae  \\\n",
              "0          1.196587          1.201547  ...       0.973405      0.008995   \n",
              "1          1.197003          1.203139  ...       0.973693      0.009318   \n",
              "2          1.164081          1.179583  ...       0.959549      0.008666   \n",
              "3          1.163552          1.179903  ...       0.959215      0.008702   \n",
              "4          1.161919          1.173028  ...       0.959881      0.009060   \n",
              "5          1.162066          1.172092  ...       0.959742      0.009018   \n",
              "\n",
              "   rank_test_mae  mean_fit_time  std_fit_time  mean_test_time  std_test_time  \\\n",
              "0              5       5.412770      0.698913        0.639486       0.191040   \n",
              "1              6       5.138805      0.633815        0.628564       0.164081   \n",
              "2              2       5.034792      0.589576        0.791313       0.255473   \n",
              "3              1       5.029229      0.517102        0.759834       0.247583   \n",
              "4              4       5.170362      0.682236        0.924694       0.291014   \n",
              "5              3       5.304140      0.689959        0.784127       0.159236   \n",
              "\n",
              "                                              params  param_k  \\\n",
              "0  {'k': 5, 'sim_options': {'name': 'pearson_base...        5   \n",
              "1  {'k': 5, 'sim_options': {'name': 'pearson_base...        5   \n",
              "2  {'k': 10, 'sim_options': {'name': 'pearson_bas...       10   \n",
              "3  {'k': 10, 'sim_options': {'name': 'pearson_bas...       10   \n",
              "4  {'k': 15, 'sim_options': {'name': 'pearson_bas...       15   \n",
              "5  {'k': 15, 'sim_options': {'name': 'pearson_bas...       15   \n",
              "\n",
              "                                   param_sim_options  \n",
              "0  {'name': 'pearson_baseline', 'min_support': 1,...  \n",
              "1  {'name': 'pearson_baseline', 'min_support': 1,...  \n",
              "2  {'name': 'pearson_baseline', 'min_support': 1,...  \n",
              "3  {'name': 'pearson_baseline', 'min_support': 1,...  \n",
              "4  {'name': 'pearson_baseline', 'min_support': 1,...  \n",
              "5  {'name': 'pearson_baseline', 'min_support': 1,...  \n",
              "\n",
              "[6 rows x 33 columns]"
            ],
            "text/html": [
              "\n",
              "  <div id=\"df-dfa74356-bc5e-4aaa-978b-4f79f5c2b89b\">\n",
              "    <div class=\"colab-df-container\">\n",
              "      <div>\n",
              "<style scoped>\n",
              "    .dataframe tbody tr th:only-of-type {\n",
              "        vertical-align: middle;\n",
              "    }\n",
              "\n",
              "    .dataframe tbody tr th {\n",
              "        vertical-align: top;\n",
              "    }\n",
              "\n",
              "    .dataframe thead th {\n",
              "        text-align: right;\n",
              "    }\n",
              "</style>\n",
              "<table border=\"1\" class=\"dataframe\">\n",
              "  <thead>\n",
              "    <tr style=\"text-align: right;\">\n",
              "      <th></th>\n",
              "      <th>split0_test_rmse</th>\n",
              "      <th>split1_test_rmse</th>\n",
              "      <th>split2_test_rmse</th>\n",
              "      <th>split3_test_rmse</th>\n",
              "      <th>split4_test_rmse</th>\n",
              "      <th>split5_test_rmse</th>\n",
              "      <th>split6_test_rmse</th>\n",
              "      <th>split7_test_rmse</th>\n",
              "      <th>split8_test_rmse</th>\n",
              "      <th>split9_test_rmse</th>\n",
              "      <th>...</th>\n",
              "      <th>mean_test_mae</th>\n",
              "      <th>std_test_mae</th>\n",
              "      <th>rank_test_mae</th>\n",
              "      <th>mean_fit_time</th>\n",
              "      <th>std_fit_time</th>\n",
              "      <th>mean_test_time</th>\n",
              "      <th>std_test_time</th>\n",
              "      <th>params</th>\n",
              "      <th>param_k</th>\n",
              "      <th>param_sim_options</th>\n",
              "    </tr>\n",
              "  </thead>\n",
              "  <tbody>\n",
              "    <tr>\n",
              "      <th>0</th>\n",
              "      <td>1.200260</td>\n",
              "      <td>1.189135</td>\n",
              "      <td>1.206648</td>\n",
              "      <td>1.182710</td>\n",
              "      <td>1.207982</td>\n",
              "      <td>1.178219</td>\n",
              "      <td>1.201002</td>\n",
              "      <td>1.182866</td>\n",
              "      <td>1.196587</td>\n",
              "      <td>1.201547</td>\n",
              "      <td>...</td>\n",
              "      <td>0.973405</td>\n",
              "      <td>0.008995</td>\n",
              "      <td>5</td>\n",
              "      <td>5.412770</td>\n",
              "      <td>0.698913</td>\n",
              "      <td>0.639486</td>\n",
              "      <td>0.191040</td>\n",
              "      <td>{'k': 5, 'sim_options': {'name': 'pearson_base...</td>\n",
              "      <td>5</td>\n",
              "      <td>{'name': 'pearson_baseline', 'min_support': 1,...</td>\n",
              "    </tr>\n",
              "    <tr>\n",
              "      <th>1</th>\n",
              "      <td>1.200543</td>\n",
              "      <td>1.190556</td>\n",
              "      <td>1.204755</td>\n",
              "      <td>1.184600</td>\n",
              "      <td>1.208724</td>\n",
              "      <td>1.177442</td>\n",
              "      <td>1.200363</td>\n",
              "      <td>1.183737</td>\n",
              "      <td>1.197003</td>\n",
              "      <td>1.203139</td>\n",
              "      <td>...</td>\n",
              "      <td>0.973693</td>\n",
              "      <td>0.009318</td>\n",
              "      <td>6</td>\n",
              "      <td>5.138805</td>\n",
              "      <td>0.633815</td>\n",
              "      <td>0.628564</td>\n",
              "      <td>0.164081</td>\n",
              "      <td>{'k': 5, 'sim_options': {'name': 'pearson_base...</td>\n",
              "      <td>5</td>\n",
              "      <td>{'name': 'pearson_baseline', 'min_support': 1,...</td>\n",
              "    </tr>\n",
              "    <tr>\n",
              "      <th>2</th>\n",
              "      <td>1.171020</td>\n",
              "      <td>1.163560</td>\n",
              "      <td>1.179364</td>\n",
              "      <td>1.156242</td>\n",
              "      <td>1.177781</td>\n",
              "      <td>1.151029</td>\n",
              "      <td>1.171981</td>\n",
              "      <td>1.154332</td>\n",
              "      <td>1.164081</td>\n",
              "      <td>1.179583</td>\n",
              "      <td>...</td>\n",
              "      <td>0.959549</td>\n",
              "      <td>0.008666</td>\n",
              "      <td>2</td>\n",
              "      <td>5.034792</td>\n",
              "      <td>0.589576</td>\n",
              "      <td>0.791313</td>\n",
              "      <td>0.255473</td>\n",
              "      <td>{'k': 10, 'sim_options': {'name': 'pearson_bas...</td>\n",
              "      <td>10</td>\n",
              "      <td>{'name': 'pearson_baseline', 'min_support': 1,...</td>\n",
              "    </tr>\n",
              "    <tr>\n",
              "      <th>3</th>\n",
              "      <td>1.169998</td>\n",
              "      <td>1.162693</td>\n",
              "      <td>1.178097</td>\n",
              "      <td>1.155823</td>\n",
              "      <td>1.176094</td>\n",
              "      <td>1.151165</td>\n",
              "      <td>1.171302</td>\n",
              "      <td>1.154626</td>\n",
              "      <td>1.163552</td>\n",
              "      <td>1.179903</td>\n",
              "      <td>...</td>\n",
              "      <td>0.959215</td>\n",
              "      <td>0.008702</td>\n",
              "      <td>1</td>\n",
              "      <td>5.029229</td>\n",
              "      <td>0.517102</td>\n",
              "      <td>0.759834</td>\n",
              "      <td>0.247583</td>\n",
              "      <td>{'k': 10, 'sim_options': {'name': 'pearson_bas...</td>\n",
              "      <td>10</td>\n",
              "      <td>{'name': 'pearson_baseline', 'min_support': 1,...</td>\n",
              "    </tr>\n",
              "    <tr>\n",
              "      <th>4</th>\n",
              "      <td>1.167225</td>\n",
              "      <td>1.160882</td>\n",
              "      <td>1.175551</td>\n",
              "      <td>1.153430</td>\n",
              "      <td>1.176460</td>\n",
              "      <td>1.143332</td>\n",
              "      <td>1.163524</td>\n",
              "      <td>1.152481</td>\n",
              "      <td>1.161919</td>\n",
              "      <td>1.173028</td>\n",
              "      <td>...</td>\n",
              "      <td>0.959881</td>\n",
              "      <td>0.009060</td>\n",
              "      <td>4</td>\n",
              "      <td>5.170362</td>\n",
              "      <td>0.682236</td>\n",
              "      <td>0.924694</td>\n",
              "      <td>0.291014</td>\n",
              "      <td>{'k': 15, 'sim_options': {'name': 'pearson_bas...</td>\n",
              "      <td>15</td>\n",
              "      <td>{'name': 'pearson_baseline', 'min_support': 1,...</td>\n",
              "    </tr>\n",
              "    <tr>\n",
              "      <th>5</th>\n",
              "      <td>1.166424</td>\n",
              "      <td>1.160962</td>\n",
              "      <td>1.174583</td>\n",
              "      <td>1.152605</td>\n",
              "      <td>1.176276</td>\n",
              "      <td>1.143266</td>\n",
              "      <td>1.165046</td>\n",
              "      <td>1.151947</td>\n",
              "      <td>1.162066</td>\n",
              "      <td>1.172092</td>\n",
              "      <td>...</td>\n",
              "      <td>0.959742</td>\n",
              "      <td>0.009018</td>\n",
              "      <td>3</td>\n",
              "      <td>5.304140</td>\n",
              "      <td>0.689959</td>\n",
              "      <td>0.784127</td>\n",
              "      <td>0.159236</td>\n",
              "      <td>{'k': 15, 'sim_options': {'name': 'pearson_bas...</td>\n",
              "      <td>15</td>\n",
              "      <td>{'name': 'pearson_baseline', 'min_support': 1,...</td>\n",
              "    </tr>\n",
              "  </tbody>\n",
              "</table>\n",
              "<p>6 rows × 33 columns</p>\n",
              "</div>\n",
              "      <button class=\"colab-df-convert\" onclick=\"convertToInteractive('df-dfa74356-bc5e-4aaa-978b-4f79f5c2b89b')\"\n",
              "              title=\"Convert this dataframe to an interactive table.\"\n",
              "              style=\"display:none;\">\n",
              "        \n",
              "  <svg xmlns=\"http://www.w3.org/2000/svg\" height=\"24px\"viewBox=\"0 0 24 24\"\n",
              "       width=\"24px\">\n",
              "    <path d=\"M0 0h24v24H0V0z\" fill=\"none\"/>\n",
              "    <path d=\"M18.56 5.44l.94 2.06.94-2.06 2.06-.94-2.06-.94-.94-2.06-.94 2.06-2.06.94zm-11 1L8.5 8.5l.94-2.06 2.06-.94-2.06-.94L8.5 2.5l-.94 2.06-2.06.94zm10 10l.94 2.06.94-2.06 2.06-.94-2.06-.94-.94-2.06-.94 2.06-2.06.94z\"/><path d=\"M17.41 7.96l-1.37-1.37c-.4-.4-.92-.59-1.43-.59-.52 0-1.04.2-1.43.59L10.3 9.45l-7.72 7.72c-.78.78-.78 2.05 0 2.83L4 21.41c.39.39.9.59 1.41.59.51 0 1.02-.2 1.41-.59l7.78-7.78 2.81-2.81c.8-.78.8-2.07 0-2.86zM5.41 20L4 18.59l7.72-7.72 1.47 1.35L5.41 20z\"/>\n",
              "  </svg>\n",
              "      </button>\n",
              "      \n",
              "  <style>\n",
              "    .colab-df-container {\n",
              "      display:flex;\n",
              "      flex-wrap:wrap;\n",
              "      gap: 12px;\n",
              "    }\n",
              "\n",
              "    .colab-df-convert {\n",
              "      background-color: #E8F0FE;\n",
              "      border: none;\n",
              "      border-radius: 50%;\n",
              "      cursor: pointer;\n",
              "      display: none;\n",
              "      fill: #1967D2;\n",
              "      height: 32px;\n",
              "      padding: 0 0 0 0;\n",
              "      width: 32px;\n",
              "    }\n",
              "\n",
              "    .colab-df-convert:hover {\n",
              "      background-color: #E2EBFA;\n",
              "      box-shadow: 0px 1px 2px rgba(60, 64, 67, 0.3), 0px 1px 3px 1px rgba(60, 64, 67, 0.15);\n",
              "      fill: #174EA6;\n",
              "    }\n",
              "\n",
              "    [theme=dark] .colab-df-convert {\n",
              "      background-color: #3B4455;\n",
              "      fill: #D2E3FC;\n",
              "    }\n",
              "\n",
              "    [theme=dark] .colab-df-convert:hover {\n",
              "      background-color: #434B5C;\n",
              "      box-shadow: 0px 1px 3px 1px rgba(0, 0, 0, 0.15);\n",
              "      filter: drop-shadow(0px 1px 2px rgba(0, 0, 0, 0.3));\n",
              "      fill: #FFFFFF;\n",
              "    }\n",
              "  </style>\n",
              "\n",
              "      <script>\n",
              "        const buttonEl =\n",
              "          document.querySelector('#df-dfa74356-bc5e-4aaa-978b-4f79f5c2b89b button.colab-df-convert');\n",
              "        buttonEl.style.display =\n",
              "          google.colab.kernel.accessAllowed ? 'block' : 'none';\n",
              "\n",
              "        async function convertToInteractive(key) {\n",
              "          const element = document.querySelector('#df-dfa74356-bc5e-4aaa-978b-4f79f5c2b89b');\n",
              "          const dataTable =\n",
              "            await google.colab.kernel.invokeFunction('convertToInteractive',\n",
              "                                                     [key], {});\n",
              "          if (!dataTable) return;\n",
              "\n",
              "          const docLinkHtml = 'Like what you see? Visit the ' +\n",
              "            '<a target=\"_blank\" href=https://colab.research.google.com/notebooks/data_table.ipynb>data table notebook</a>'\n",
              "            + ' to learn more about interactive tables.';\n",
              "          element.innerHTML = '';\n",
              "          dataTable['output_type'] = 'display_data';\n",
              "          await google.colab.output.renderOutput(dataTable, element);\n",
              "          const docLink = document.createElement('div');\n",
              "          docLink.innerHTML = docLinkHtml;\n",
              "          element.appendChild(docLink);\n",
              "        }\n",
              "      </script>\n",
              "    </div>\n",
              "  </div>\n",
              "  "
            ]
          },
          "metadata": {}
        }
      ]
    },
    {
      "cell_type": "code",
      "execution_count": null,
      "metadata": {
        "id": "7zx_SAobtU9k"
      },
      "outputs": [],
      "source": [
        "results.to_csv('ResultsKNNBasicNoNoise.csv', index=False)"
      ]
    },
    {
      "cell_type": "code",
      "execution_count": null,
      "metadata": {
        "id": "RMRklYleuiqo"
      },
      "outputs": [],
      "source": [
        "####CHECK HIERNAAAAAAA"
      ]
    },
    {
      "cell_type": "code",
      "execution_count": null,
      "metadata": {
        "colab": {
          "base_uri": "https://localhost:8080/"
        },
        "id": "fTBoCSsTCtBC",
        "outputId": "552ac8e4-6267-4d1b-969e-4d9283f4ec08"
      },
      "outputs": [
        {
          "data": {
            "text/plain": [
              "{'split0_test_rmse': array([1.17496379, 1.16955682]),\n",
              " 'split1_test_rmse': array([1.16000418, 1.15621652]),\n",
              " 'split2_test_rmse': array([1.18117841, 1.17262191]),\n",
              " 'split3_test_rmse': array([1.15757497, 1.15219594]),\n",
              " 'split4_test_rmse': array([1.18351536, 1.16883782]),\n",
              " 'split5_test_rmse': array([1.15111699, 1.14910504]),\n",
              " 'split6_test_rmse': array([1.18133794, 1.17004437]),\n",
              " 'split7_test_rmse': array([1.1570876 , 1.15321601]),\n",
              " 'split8_test_rmse': array([1.16628216, 1.16005882]),\n",
              " 'split9_test_rmse': array([1.17379885, 1.16906747]),\n",
              " 'mean_test_rmse': array([1.16868602, 1.16209207]),\n",
              " 'std_test_rmse': array([0.01117763, 0.0084145 ]),\n",
              " 'rank_test_rmse': array([2, 1]),\n",
              " 'split0_test_mae': array([0.96562424, 0.96912426]),\n",
              " 'split1_test_mae': array([0.95332589, 0.95870587]),\n",
              " 'split2_test_mae': array([0.97072834, 0.9690826 ]),\n",
              " 'split3_test_mae': array([0.94655034, 0.9500516 ]),\n",
              " 'split4_test_mae': array([0.96368268, 0.95836019]),\n",
              " 'split5_test_mae': array([0.94019283, 0.94396326]),\n",
              " 'split6_test_mae': array([0.96609923, 0.96654544]),\n",
              " 'split7_test_mae': array([0.95082863, 0.95424399]),\n",
              " 'split8_test_mae': array([0.95584465, 0.95687122]),\n",
              " 'split9_test_mae': array([0.95637789, 0.96165327]),\n",
              " 'mean_test_mae': array([0.95692547, 0.95886017]),\n",
              " 'std_test_mae': array([0.00913907, 0.00775733]),\n",
              " 'rank_test_mae': array([1, 2]),\n",
              " 'split0_test_fcp': array([0.54249173, 0.5389498 ]),\n",
              " 'split1_test_fcp': array([0.53659126, 0.5423655 ]),\n",
              " 'split2_test_fcp': array([0.54032885, 0.54689232]),\n",
              " 'split3_test_fcp': array([0.53716047, 0.53681621]),\n",
              " 'split4_test_fcp': array([0.53337196, 0.52926763]),\n",
              " 'split5_test_fcp': array([0.55883833, 0.54949948]),\n",
              " 'split6_test_fcp': array([0.53303776, 0.52247191]),\n",
              " 'split7_test_fcp': array([0.54430368, 0.54470158]),\n",
              " 'split8_test_fcp': array([0.54459619, 0.54865386]),\n",
              " 'split9_test_fcp': array([0.53155307, 0.53510494]),\n",
              " 'mean_test_fcp': array([0.54022733, 0.53947232]),\n",
              " 'std_test_fcp': array([0.00764046, 0.00833767]),\n",
              " 'rank_test_fcp': array([1, 2]),\n",
              " 'mean_fit_time': array([3.18819406, 4.41852007]),\n",
              " 'std_fit_time': array([0.47913106, 0.91016739]),\n",
              " 'mean_test_time': array([0.76988752, 1.29660332]),\n",
              " 'std_test_time': array([0.30854852, 0.49570069]),\n",
              " 'params': [{'k': 10,\n",
              "   'sim_options': {'name': 'msd',\n",
              "    'min_support': 1,\n",
              "    'user_based': True,\n",
              "    'shrinkage': 10}},\n",
              "  {'k': 20,\n",
              "   'sim_options': {'name': 'msd',\n",
              "    'min_support': 1,\n",
              "    'user_based': True,\n",
              "    'shrinkage': 10}}],\n",
              " 'param_k': [10, 20],\n",
              " 'param_sim_options': [{'name': 'msd',\n",
              "   'min_support': 1,\n",
              "   'user_based': True,\n",
              "   'shrinkage': 10},\n",
              "  {'name': 'msd', 'min_support': 1, 'user_based': True, 'shrinkage': 10}]}"
            ]
          },
          "execution_count": 28,
          "metadata": {},
          "output_type": "execute_result"
        }
      ],
      "source": [
        "gridsvd.cv_results"
      ]
    },
    {
      "cell_type": "markdown",
      "source": [
        "#####Recommend the top 5 vacancies to a jobseeker"
      ],
      "metadata": {
        "id": "YiOf4EjrHwV9"
      }
    },
    {
      "cell_type": "code",
      "source": [
        "import pandas as pd \n",
        "import numpy as np \n",
        "from surprise import KNNBasic, Dataset, Reader\n",
        "from surprise.model_selection import GridSearchCV\n",
        "\n",
        "# Load the dataset\n",
        "df = pd.read_csv('matches.csv')"
      ],
      "metadata": {
        "id": "IsUhx_sAH0LP"
      },
      "execution_count": null,
      "outputs": []
    },
    {
      "cell_type": "code",
      "source": [
        "# Define the rating scale\n",
        "reader = Reader(rating_scale=(1, 5))\n",
        "\n",
        "# Load the dataset into the Surprise format\n",
        "data = Dataset.load_from_df(df[['JobseekerID', 'VacancyID', 'Rating']], reader)\n"
      ],
      "metadata": {
        "id": "kE6G2Cs7H0LP"
      },
      "execution_count": null,
      "outputs": []
    },
    {
      "cell_type": "code",
      "source": [
        "# Set the best hyperparameters found by GridSearchCV\n",
        "best_k = gridsvd.best_params['mae']['k']\n",
        "best_min_support = gridsvd.best_params['mae']['sim_options']['min_support']\n",
        "\n",
        "# Define the SVD model\n",
        "model = KNNBaseline(k=best_k, sim_options={'name': 'pearson_baseline', 'min_support': best_min_support, 'user_based': True, 'shrinkage': 5})\n",
        "\n",
        "# Train the model on the dataset\n",
        "trainset = data.build_full_trainset()\n",
        "model.fit(trainset)"
      ],
      "metadata": {
        "colab": {
          "base_uri": "https://localhost:8080/"
        },
        "outputId": "e744892e-4902-4a0f-cf0d-2043d462830f",
        "id": "Ejt_Yl7MH0LP"
      },
      "execution_count": null,
      "outputs": [
        {
          "output_type": "stream",
          "name": "stdout",
          "text": [
            "Estimating biases using als...\n",
            "Computing the pearson_baseline similarity matrix...\n",
            "Done computing similarity matrix.\n"
          ]
        },
        {
          "output_type": "execute_result",
          "data": {
            "text/plain": [
              "<surprise.prediction_algorithms.knns.KNNBaseline at 0x7f221c7e7ee0>"
            ]
          },
          "metadata": {},
          "execution_count": 53
        }
      ]
    },
    {
      "cell_type": "code",
      "source": [
        "# Define a function to get top N recommended vacancies for a given jobseeker\n",
        "def get_top_n_vacancies(jobseeker_id, n=5):\n",
        "   \n",
        "    # Check if the jobseeker ID exists in the dataset\n",
        "    if jobseeker_id not in df['JobseekerID'].unique():\n",
        "        print(f\"Error: Jobseeker with id {jobseeker_id} does not exist.\")\n",
        "        return\n",
        "    \n",
        "    # Get a list of all vacancies\n",
        "    vacancies = df['VacancyID'].unique().tolist()\n",
        "\n",
        "    # Create a list of tuples (vacancy_id, predicted_rating) for the given jobseeker\n",
        "    jobseeker_ratings = [(vacancy_id, round(model.predict(jobseeker_id, vacancy_id).est, 2)) for vacancy_id in vacancies]\n",
        "    \n",
        "    # Filter out the vacancies that the jobseeker has already rated\n",
        "    rated_vacancies = df.loc[df['JobseekerID'] == jobseeker_id, 'VacancyID'].tolist()\n",
        "    jobseeker_ratings = [(vacancy_id, rating) for vacancy_id, rating in jobseeker_ratings if vacancy_id not in rated_vacancies]\n",
        "\n",
        "    # Sort the list in descending order of predicted rating\n",
        "    jobseeker_ratings.sort(key=lambda x: x[1], reverse=True)\n",
        "    \n",
        "    # Return the top n recommended vacancies for the given jobseeker\n",
        "    return jobseeker_ratings[:n]\n",
        "\n",
        "# Prompt the user to input the jobseeker ID\n",
        "jobseeker_id = int(input(\"Enter the jobseeker ID: \"))\n",
        "\n",
        "# Get the top N recommended vacancies for the given jobseeker\n",
        "n = 5  # number of recommended vacancies\n",
        "jobseeker_ratings = get_top_n_vacancies(jobseeker_id, n)\n",
        "\n",
        "#print:\n",
        "print(f\"Jobseeker ID {jobseeker_id} matches the following vacancies:\")\n",
        "for i in range(n):\n",
        "    vacancy_id = jobseeker_ratings[i][0]\n",
        "    rating = jobseeker_ratings[i][1]\n",
        "    print(f\"VacancyID {vacancy_id} with a rating of {rating}\")\n"
      ],
      "metadata": {
        "colab": {
          "base_uri": "https://localhost:8080/"
        },
        "outputId": "d523cd32-c8a5-47eb-87ea-d94ddc72ba9c",
        "id": "3YYuChb4H0LQ"
      },
      "execution_count": null,
      "outputs": [
        {
          "output_type": "stream",
          "name": "stdout",
          "text": [
            "Enter the jobseeker ID: 14696\n",
            "Jobseeker ID 14696 matches the following vacancies:\n",
            "VacancyID 36404 with a rating of 3.85\n",
            "VacancyID 25460 with a rating of 3.85\n",
            "VacancyID 32627 with a rating of 3.81\n",
            "VacancyID 49215 with a rating of 3.81\n",
            "VacancyID 34904 with a rating of 3.81\n"
          ]
        }
      ]
    },
    {
      "cell_type": "markdown",
      "metadata": {
        "id": "9BTeCjrtOBC8"
      },
      "source": [
        "####Gridsearch: KNNWithMeans"
      ]
    },
    {
      "cell_type": "markdown",
      "metadata": {
        "id": "ZNohxj4H9ao-"
      },
      "source": [
        "###### Tuned model"
      ]
    },
    {
      "cell_type": "code",
      "execution_count": null,
      "metadata": {
        "id": "Dz-L0iBS9bTz"
      },
      "outputs": [],
      "source": [
        "import random\n",
        "\n",
        "#Set the random seed\n",
        "random.seed(42)\n",
        "np.random.seed(42)"
      ]
    },
    {
      "cell_type": "code",
      "execution_count": null,
      "metadata": {
        "id": "nyjC3EpahgQl"
      },
      "outputs": [],
      "source": [
        "param_grid = {\n",
        "    'k': [10, 20],\n",
        "    'sim_options': {\n",
        "        'name': ['msd'],\n",
        "        'min_support': [1],\n",
        "        'user_based': [True],\n",
        "        'shrinkage': [10],\n",
        "    },\n",
        "}\n",
        "\n",
        "gridsvd = GridSearchCV(KNNWithMeans, param_grid, n_jobs=-1, measures=[\"rmse\", \"mae\", \"fcp\"], cv=10)"
      ]
    },
    {
      "cell_type": "code",
      "execution_count": null,
      "metadata": {
        "colab": {
          "base_uri": "https://localhost:8080/"
        },
        "id": "U3Q5BeQkifYK",
        "outputId": "17101712-cd10-4bd6-d3da-e15be7c68de2"
      },
      "outputs": [
        {
          "data": {
            "text/plain": [
              "{'rmse': {'k': 10,\n",
              "  'sim_options': {'name': 'msd',\n",
              "   'min_support': 1,\n",
              "   'user_based': True,\n",
              "   'shrinkage': 10}},\n",
              " 'mae': {'k': 10,\n",
              "  'sim_options': {'name': 'msd',\n",
              "   'min_support': 1,\n",
              "   'user_based': True,\n",
              "   'shrinkage': 10}},\n",
              " 'fcp': {'k': 10,\n",
              "  'sim_options': {'name': 'msd',\n",
              "   'min_support': 1,\n",
              "   'user_based': True,\n",
              "   'shrinkage': 10}}}"
            ]
          },
          "execution_count": 19,
          "metadata": {},
          "output_type": "execute_result"
        }
      ],
      "source": [
        "gridsvd.fit(data)\n",
        "gridsvd.best_params"
      ]
    },
    {
      "cell_type": "code",
      "execution_count": null,
      "metadata": {
        "colab": {
          "base_uri": "https://localhost:8080/"
        },
        "outputId": "ccab7d0d-1386-47bb-8a7f-ba020c696112",
        "id": "YtD2sCR0QdCu"
      },
      "outputs": [
        {
          "output_type": "stream",
          "name": "stdout",
          "text": [
            "Best MAE score: 0.9569254717432962\n",
            "Best MAE parameters: {'k': 10, 'sim_options': {'name': 'msd', 'min_support': 1, 'user_based': True, 'shrinkage': 10}}\n",
            "Best RMSE score: 1.16209207362427\n",
            "Best RMSE parameters: {'k': 20, 'sim_options': {'name': 'msd', 'min_support': 1, 'user_based': True, 'shrinkage': 10}}\n"
          ]
        }
      ],
      "source": [
        "# Get the best RMSE score and corresponding parameters\n",
        "best_rmse = gridsvd.best_score[\"rmse\"]  # best RMSE score\n",
        "best_rmse_params = gridsvd.best_params[\"rmse\"]  # corresponding parameters\n",
        "\n",
        "# Get the best MAE score and corresponding parameters\n",
        "best_mae = gridsvd.best_score[\"mae\"]  # best MAE score\n",
        "best_mae_params = gridsvd.best_params[\"mae\"]  # corresponding parameters\n",
        "\n",
        "# Print the best RMSE and MAE scores and parameters\n",
        "print(\"Best MAE score:\", best_mae)\n",
        "print(\"Best MAE parameters:\", best_mae_params)\n",
        "print(\"Best RMSE score:\", best_rmse)\n",
        "print(\"Best RMSE parameters:\", best_rmse_params)\n",
        "\n",
        "\n",
        "# Once fit() has been called, the best_estimator attribute gives us an algorithm instance \n",
        "# with the optimal set of parameters, which can be used how we please\n"
      ]
    },
    {
      "cell_type": "code",
      "execution_count": null,
      "metadata": {
        "colab": {
          "base_uri": "https://localhost:8080/"
        },
        "outputId": "f5495530-1245-4c0e-a87a-790844b5813c",
        "id": "xLHk8xAZQdCv"
      },
      "outputs": [
        {
          "output_type": "stream",
          "name": "stdout",
          "text": [
            "Best MAE: 0.9569\n",
            "Best MAE parameters: {'k': 10, 'sim_options': {'name': 'msd', 'min_support': 1, 'user_based': True, 'shrinkage': 10}}\n",
            "Best RMSE: 1.1621\n",
            "Best RMSE parameters: {'k': 20, 'sim_options': {'name': 'msd', 'min_support': 1, 'user_based': True, 'shrinkage': 10}}\n"
          ]
        }
      ],
      "source": [
        "for metric in gridsvd.best_score.keys():\n",
        "    if metric == 'mae':\n",
        "        print(f\"Best {metric.upper()}: {gridsvd.best_score[metric]:.4f}\")\n",
        "        print(f\"Best {metric.upper()} parameters: {gridsvd.best_params[metric]}\")\n",
        "        \n",
        "for metric in gridsvd.best_score.keys():\n",
        "    if metric == 'rmse':\n",
        "        print(f\"Best {metric.upper()}: {gridsvd.best_score[metric]:.4f}\")\n",
        "        print(f\"Best {metric.upper()} parameters: {gridsvd.best_params[metric]}\")\n"
      ]
    },
    {
      "cell_type": "code",
      "execution_count": null,
      "metadata": {
        "colab": {
          "base_uri": "https://localhost:8080/"
        },
        "outputId": "082b2d4d-55aa-46b6-c679-73562e926ec4",
        "id": "yrtCMSyuQdCv"
      },
      "outputs": [
        {
          "data": {
            "text/plain": [
              "{'split0_test_rmse': array([1.16845556, 1.16287368]),\n",
              " 'split1_test_rmse': array([1.16608954, 1.16131706]),\n",
              " 'split2_test_rmse': array([1.16231795, 1.16003709]),\n",
              " 'split3_test_rmse': array([1.16938947, 1.16438161]),\n",
              " 'split4_test_rmse': array([1.18710351, 1.18126779]),\n",
              " 'split5_test_rmse': array([1.1512281 , 1.14558157]),\n",
              " 'split6_test_rmse': array([1.16619002, 1.15994649]),\n",
              " 'split7_test_rmse': array([1.16358024, 1.1517478 ]),\n",
              " 'split8_test_rmse': array([1.16421374, 1.15659354]),\n",
              " 'split9_test_rmse': array([1.17936851, 1.17124148]),\n",
              " 'mean_test_rmse': array([1.16779366, 1.16149881]),\n",
              " 'std_test_rmse': array([0.00922105, 0.00934353]),\n",
              " 'rank_test_rmse': array([2, 1]),\n",
              " 'split0_test_mae': array([0.95578855, 0.95830537]),\n",
              " 'split1_test_mae': array([0.95095488, 0.95492767]),\n",
              " 'split2_test_mae': array([0.94801451, 0.95484248]),\n",
              " 'split3_test_mae': array([0.9579469, 0.9593803]),\n",
              " 'split4_test_mae': array([0.97778661, 0.97974501]),\n",
              " 'split5_test_mae': array([0.94336832, 0.94657844]),\n",
              " 'split6_test_mae': array([0.95473902, 0.95785469]),\n",
              " 'split7_test_mae': array([0.9496947 , 0.94930069]),\n",
              " 'split8_test_mae': array([0.95238807, 0.95652803]),\n",
              " 'split9_test_mae': array([0.96301915, 0.96295508]),\n",
              " 'mean_test_mae': array([0.95537007, 0.95804178]),\n",
              " 'std_test_mae': array([0.00909376, 0.00852705]),\n",
              " 'rank_test_mae': array([1, 2]),\n",
              " 'mean_fit_time': array([4.17507024, 3.42003813]),\n",
              " 'std_fit_time': array([1.07727289, 0.42753488]),\n",
              " 'mean_test_time': array([0.90373771, 1.09034519]),\n",
              " 'std_test_time': array([0.40413778, 0.73921241]),\n",
              " 'params': [{'k': 10,\n",
              "   'sim_options': {'name': 'msd',\n",
              "    'min_support': 1,\n",
              "    'user_based': True,\n",
              "    'shrinkage': 10}},\n",
              "  {'k': 20,\n",
              "   'sim_options': {'name': 'msd',\n",
              "    'min_support': 1,\n",
              "    'user_based': True,\n",
              "    'shrinkage': 10}}],\n",
              " 'param_k': [10, 20],\n",
              " 'param_sim_options': [{'name': 'msd',\n",
              "   'min_support': 1,\n",
              "   'user_based': True,\n",
              "   'shrinkage': 10},\n",
              "  {'name': 'msd', 'min_support': 1, 'user_based': True, 'shrinkage': 10}]}"
            ]
          },
          "execution_count": 41,
          "metadata": {},
          "output_type": "execute_result"
        }
      ],
      "source": [
        "gridsvd.cv_results\n",
        "\n",
        "#still necessary??"
      ]
    },
    {
      "cell_type": "code",
      "execution_count": null,
      "metadata": {
        "id": "yQOh6WSpQdCw"
      },
      "outputs": [],
      "source": [
        "# get the results. This code outputs the tables\n",
        "results = pd.DataFrame(gridsvd.cv_results)"
      ]
    },
    {
      "cell_type": "code",
      "execution_count": null,
      "metadata": {
        "colab": {
          "base_uri": "https://localhost:8080/"
        },
        "outputId": "afd63121-2e4c-4520-d2d2-3293f1cca33f",
        "id": "ZV1pHZ_FQdCw"
      },
      "outputs": [
        {
          "name": "stdout",
          "output_type": "stream",
          "text": [
            "   split0_test_rmse  split1_test_rmse  split2_test_rmse  split3_test_rmse  \\\n",
            "0          1.168456          1.166090          1.162318          1.169389   \n",
            "1          1.162874          1.161317          1.160037          1.164382   \n",
            "\n",
            "   split4_test_rmse  split5_test_rmse  split6_test_rmse  split7_test_rmse  \\\n",
            "0          1.187104          1.151228          1.166190          1.163580   \n",
            "1          1.181268          1.145582          1.159946          1.151748   \n",
            "\n",
            "   split8_test_rmse  split9_test_rmse  ...  mean_test_mae  std_test_mae  \\\n",
            "0          1.164214          1.179369  ...       0.955370      0.009094   \n",
            "1          1.156594          1.171241  ...       0.958042      0.008527   \n",
            "\n",
            "   rank_test_mae  mean_fit_time  std_fit_time  mean_test_time  std_test_time  \\\n",
            "0              1       4.175070      1.077273        0.903738       0.404138   \n",
            "1              2       3.420038      0.427535        1.090345       0.739212   \n",
            "\n",
            "                                              params  param_k  \\\n",
            "0  {'k': 10, 'sim_options': {'name': 'msd', 'min_...       10   \n",
            "1  {'k': 20, 'sim_options': {'name': 'msd', 'min_...       20   \n",
            "\n",
            "                                   param_sim_options  \n",
            "0  {'name': 'msd', 'min_support': 1, 'user_based'...  \n",
            "1  {'name': 'msd', 'min_support': 1, 'user_based'...  \n",
            "\n",
            "[2 rows x 33 columns]\n"
          ]
        }
      ],
      "source": [
        "print(results)"
      ]
    },
    {
      "cell_type": "code",
      "source": [
        "from IPython.display import display\n",
        "results = pd.DataFrame(gridsvd.cv_results)\n",
        "display(results)\n"
      ],
      "metadata": {
        "colab": {
          "base_uri": "https://localhost:8080/",
          "height": 643
        },
        "outputId": "ae42ec07-863a-4775-e05d-866cf470f9d1",
        "id": "z4uVxeQVQdCw"
      },
      "execution_count": null,
      "outputs": [
        {
          "output_type": "display_data",
          "data": {
            "text/plain": [
              "   split0_test_rmse  split1_test_rmse  split2_test_rmse  split3_test_rmse  \\\n",
              "0          1.200260          1.189135          1.206648          1.182710   \n",
              "1          1.200543          1.190556          1.204755          1.184600   \n",
              "2          1.171020          1.163560          1.179364          1.156242   \n",
              "3          1.169998          1.162693          1.178097          1.155823   \n",
              "4          1.167225          1.160882          1.175551          1.153430   \n",
              "5          1.166424          1.160962          1.174583          1.152605   \n",
              "\n",
              "   split4_test_rmse  split5_test_rmse  split6_test_rmse  split7_test_rmse  \\\n",
              "0          1.207982          1.178219          1.201002          1.182866   \n",
              "1          1.208724          1.177442          1.200363          1.183737   \n",
              "2          1.177781          1.151029          1.171981          1.154332   \n",
              "3          1.176094          1.151165          1.171302          1.154626   \n",
              "4          1.176460          1.143332          1.163524          1.152481   \n",
              "5          1.176276          1.143266          1.165046          1.151947   \n",
              "\n",
              "   split8_test_rmse  split9_test_rmse  ...  mean_test_mae  std_test_mae  \\\n",
              "0          1.196587          1.201547  ...       0.973405      0.008995   \n",
              "1          1.197003          1.203139  ...       0.973693      0.009318   \n",
              "2          1.164081          1.179583  ...       0.959549      0.008666   \n",
              "3          1.163552          1.179903  ...       0.959215      0.008702   \n",
              "4          1.161919          1.173028  ...       0.959881      0.009060   \n",
              "5          1.162066          1.172092  ...       0.959742      0.009018   \n",
              "\n",
              "   rank_test_mae  mean_fit_time  std_fit_time  mean_test_time  std_test_time  \\\n",
              "0              5       5.412770      0.698913        0.639486       0.191040   \n",
              "1              6       5.138805      0.633815        0.628564       0.164081   \n",
              "2              2       5.034792      0.589576        0.791313       0.255473   \n",
              "3              1       5.029229      0.517102        0.759834       0.247583   \n",
              "4              4       5.170362      0.682236        0.924694       0.291014   \n",
              "5              3       5.304140      0.689959        0.784127       0.159236   \n",
              "\n",
              "                                              params  param_k  \\\n",
              "0  {'k': 5, 'sim_options': {'name': 'pearson_base...        5   \n",
              "1  {'k': 5, 'sim_options': {'name': 'pearson_base...        5   \n",
              "2  {'k': 10, 'sim_options': {'name': 'pearson_bas...       10   \n",
              "3  {'k': 10, 'sim_options': {'name': 'pearson_bas...       10   \n",
              "4  {'k': 15, 'sim_options': {'name': 'pearson_bas...       15   \n",
              "5  {'k': 15, 'sim_options': {'name': 'pearson_bas...       15   \n",
              "\n",
              "                                   param_sim_options  \n",
              "0  {'name': 'pearson_baseline', 'min_support': 1,...  \n",
              "1  {'name': 'pearson_baseline', 'min_support': 1,...  \n",
              "2  {'name': 'pearson_baseline', 'min_support': 1,...  \n",
              "3  {'name': 'pearson_baseline', 'min_support': 1,...  \n",
              "4  {'name': 'pearson_baseline', 'min_support': 1,...  \n",
              "5  {'name': 'pearson_baseline', 'min_support': 1,...  \n",
              "\n",
              "[6 rows x 33 columns]"
            ],
            "text/html": [
              "\n",
              "  <div id=\"df-dfa74356-bc5e-4aaa-978b-4f79f5c2b89b\">\n",
              "    <div class=\"colab-df-container\">\n",
              "      <div>\n",
              "<style scoped>\n",
              "    .dataframe tbody tr th:only-of-type {\n",
              "        vertical-align: middle;\n",
              "    }\n",
              "\n",
              "    .dataframe tbody tr th {\n",
              "        vertical-align: top;\n",
              "    }\n",
              "\n",
              "    .dataframe thead th {\n",
              "        text-align: right;\n",
              "    }\n",
              "</style>\n",
              "<table border=\"1\" class=\"dataframe\">\n",
              "  <thead>\n",
              "    <tr style=\"text-align: right;\">\n",
              "      <th></th>\n",
              "      <th>split0_test_rmse</th>\n",
              "      <th>split1_test_rmse</th>\n",
              "      <th>split2_test_rmse</th>\n",
              "      <th>split3_test_rmse</th>\n",
              "      <th>split4_test_rmse</th>\n",
              "      <th>split5_test_rmse</th>\n",
              "      <th>split6_test_rmse</th>\n",
              "      <th>split7_test_rmse</th>\n",
              "      <th>split8_test_rmse</th>\n",
              "      <th>split9_test_rmse</th>\n",
              "      <th>...</th>\n",
              "      <th>mean_test_mae</th>\n",
              "      <th>std_test_mae</th>\n",
              "      <th>rank_test_mae</th>\n",
              "      <th>mean_fit_time</th>\n",
              "      <th>std_fit_time</th>\n",
              "      <th>mean_test_time</th>\n",
              "      <th>std_test_time</th>\n",
              "      <th>params</th>\n",
              "      <th>param_k</th>\n",
              "      <th>param_sim_options</th>\n",
              "    </tr>\n",
              "  </thead>\n",
              "  <tbody>\n",
              "    <tr>\n",
              "      <th>0</th>\n",
              "      <td>1.200260</td>\n",
              "      <td>1.189135</td>\n",
              "      <td>1.206648</td>\n",
              "      <td>1.182710</td>\n",
              "      <td>1.207982</td>\n",
              "      <td>1.178219</td>\n",
              "      <td>1.201002</td>\n",
              "      <td>1.182866</td>\n",
              "      <td>1.196587</td>\n",
              "      <td>1.201547</td>\n",
              "      <td>...</td>\n",
              "      <td>0.973405</td>\n",
              "      <td>0.008995</td>\n",
              "      <td>5</td>\n",
              "      <td>5.412770</td>\n",
              "      <td>0.698913</td>\n",
              "      <td>0.639486</td>\n",
              "      <td>0.191040</td>\n",
              "      <td>{'k': 5, 'sim_options': {'name': 'pearson_base...</td>\n",
              "      <td>5</td>\n",
              "      <td>{'name': 'pearson_baseline', 'min_support': 1,...</td>\n",
              "    </tr>\n",
              "    <tr>\n",
              "      <th>1</th>\n",
              "      <td>1.200543</td>\n",
              "      <td>1.190556</td>\n",
              "      <td>1.204755</td>\n",
              "      <td>1.184600</td>\n",
              "      <td>1.208724</td>\n",
              "      <td>1.177442</td>\n",
              "      <td>1.200363</td>\n",
              "      <td>1.183737</td>\n",
              "      <td>1.197003</td>\n",
              "      <td>1.203139</td>\n",
              "      <td>...</td>\n",
              "      <td>0.973693</td>\n",
              "      <td>0.009318</td>\n",
              "      <td>6</td>\n",
              "      <td>5.138805</td>\n",
              "      <td>0.633815</td>\n",
              "      <td>0.628564</td>\n",
              "      <td>0.164081</td>\n",
              "      <td>{'k': 5, 'sim_options': {'name': 'pearson_base...</td>\n",
              "      <td>5</td>\n",
              "      <td>{'name': 'pearson_baseline', 'min_support': 1,...</td>\n",
              "    </tr>\n",
              "    <tr>\n",
              "      <th>2</th>\n",
              "      <td>1.171020</td>\n",
              "      <td>1.163560</td>\n",
              "      <td>1.179364</td>\n",
              "      <td>1.156242</td>\n",
              "      <td>1.177781</td>\n",
              "      <td>1.151029</td>\n",
              "      <td>1.171981</td>\n",
              "      <td>1.154332</td>\n",
              "      <td>1.164081</td>\n",
              "      <td>1.179583</td>\n",
              "      <td>...</td>\n",
              "      <td>0.959549</td>\n",
              "      <td>0.008666</td>\n",
              "      <td>2</td>\n",
              "      <td>5.034792</td>\n",
              "      <td>0.589576</td>\n",
              "      <td>0.791313</td>\n",
              "      <td>0.255473</td>\n",
              "      <td>{'k': 10, 'sim_options': {'name': 'pearson_bas...</td>\n",
              "      <td>10</td>\n",
              "      <td>{'name': 'pearson_baseline', 'min_support': 1,...</td>\n",
              "    </tr>\n",
              "    <tr>\n",
              "      <th>3</th>\n",
              "      <td>1.169998</td>\n",
              "      <td>1.162693</td>\n",
              "      <td>1.178097</td>\n",
              "      <td>1.155823</td>\n",
              "      <td>1.176094</td>\n",
              "      <td>1.151165</td>\n",
              "      <td>1.171302</td>\n",
              "      <td>1.154626</td>\n",
              "      <td>1.163552</td>\n",
              "      <td>1.179903</td>\n",
              "      <td>...</td>\n",
              "      <td>0.959215</td>\n",
              "      <td>0.008702</td>\n",
              "      <td>1</td>\n",
              "      <td>5.029229</td>\n",
              "      <td>0.517102</td>\n",
              "      <td>0.759834</td>\n",
              "      <td>0.247583</td>\n",
              "      <td>{'k': 10, 'sim_options': {'name': 'pearson_bas...</td>\n",
              "      <td>10</td>\n",
              "      <td>{'name': 'pearson_baseline', 'min_support': 1,...</td>\n",
              "    </tr>\n",
              "    <tr>\n",
              "      <th>4</th>\n",
              "      <td>1.167225</td>\n",
              "      <td>1.160882</td>\n",
              "      <td>1.175551</td>\n",
              "      <td>1.153430</td>\n",
              "      <td>1.176460</td>\n",
              "      <td>1.143332</td>\n",
              "      <td>1.163524</td>\n",
              "      <td>1.152481</td>\n",
              "      <td>1.161919</td>\n",
              "      <td>1.173028</td>\n",
              "      <td>...</td>\n",
              "      <td>0.959881</td>\n",
              "      <td>0.009060</td>\n",
              "      <td>4</td>\n",
              "      <td>5.170362</td>\n",
              "      <td>0.682236</td>\n",
              "      <td>0.924694</td>\n",
              "      <td>0.291014</td>\n",
              "      <td>{'k': 15, 'sim_options': {'name': 'pearson_bas...</td>\n",
              "      <td>15</td>\n",
              "      <td>{'name': 'pearson_baseline', 'min_support': 1,...</td>\n",
              "    </tr>\n",
              "    <tr>\n",
              "      <th>5</th>\n",
              "      <td>1.166424</td>\n",
              "      <td>1.160962</td>\n",
              "      <td>1.174583</td>\n",
              "      <td>1.152605</td>\n",
              "      <td>1.176276</td>\n",
              "      <td>1.143266</td>\n",
              "      <td>1.165046</td>\n",
              "      <td>1.151947</td>\n",
              "      <td>1.162066</td>\n",
              "      <td>1.172092</td>\n",
              "      <td>...</td>\n",
              "      <td>0.959742</td>\n",
              "      <td>0.009018</td>\n",
              "      <td>3</td>\n",
              "      <td>5.304140</td>\n",
              "      <td>0.689959</td>\n",
              "      <td>0.784127</td>\n",
              "      <td>0.159236</td>\n",
              "      <td>{'k': 15, 'sim_options': {'name': 'pearson_bas...</td>\n",
              "      <td>15</td>\n",
              "      <td>{'name': 'pearson_baseline', 'min_support': 1,...</td>\n",
              "    </tr>\n",
              "  </tbody>\n",
              "</table>\n",
              "<p>6 rows × 33 columns</p>\n",
              "</div>\n",
              "      <button class=\"colab-df-convert\" onclick=\"convertToInteractive('df-dfa74356-bc5e-4aaa-978b-4f79f5c2b89b')\"\n",
              "              title=\"Convert this dataframe to an interactive table.\"\n",
              "              style=\"display:none;\">\n",
              "        \n",
              "  <svg xmlns=\"http://www.w3.org/2000/svg\" height=\"24px\"viewBox=\"0 0 24 24\"\n",
              "       width=\"24px\">\n",
              "    <path d=\"M0 0h24v24H0V0z\" fill=\"none\"/>\n",
              "    <path d=\"M18.56 5.44l.94 2.06.94-2.06 2.06-.94-2.06-.94-.94-2.06-.94 2.06-2.06.94zm-11 1L8.5 8.5l.94-2.06 2.06-.94-2.06-.94L8.5 2.5l-.94 2.06-2.06.94zm10 10l.94 2.06.94-2.06 2.06-.94-2.06-.94-.94-2.06-.94 2.06-2.06.94z\"/><path d=\"M17.41 7.96l-1.37-1.37c-.4-.4-.92-.59-1.43-.59-.52 0-1.04.2-1.43.59L10.3 9.45l-7.72 7.72c-.78.78-.78 2.05 0 2.83L4 21.41c.39.39.9.59 1.41.59.51 0 1.02-.2 1.41-.59l7.78-7.78 2.81-2.81c.8-.78.8-2.07 0-2.86zM5.41 20L4 18.59l7.72-7.72 1.47 1.35L5.41 20z\"/>\n",
              "  </svg>\n",
              "      </button>\n",
              "      \n",
              "  <style>\n",
              "    .colab-df-container {\n",
              "      display:flex;\n",
              "      flex-wrap:wrap;\n",
              "      gap: 12px;\n",
              "    }\n",
              "\n",
              "    .colab-df-convert {\n",
              "      background-color: #E8F0FE;\n",
              "      border: none;\n",
              "      border-radius: 50%;\n",
              "      cursor: pointer;\n",
              "      display: none;\n",
              "      fill: #1967D2;\n",
              "      height: 32px;\n",
              "      padding: 0 0 0 0;\n",
              "      width: 32px;\n",
              "    }\n",
              "\n",
              "    .colab-df-convert:hover {\n",
              "      background-color: #E2EBFA;\n",
              "      box-shadow: 0px 1px 2px rgba(60, 64, 67, 0.3), 0px 1px 3px 1px rgba(60, 64, 67, 0.15);\n",
              "      fill: #174EA6;\n",
              "    }\n",
              "\n",
              "    [theme=dark] .colab-df-convert {\n",
              "      background-color: #3B4455;\n",
              "      fill: #D2E3FC;\n",
              "    }\n",
              "\n",
              "    [theme=dark] .colab-df-convert:hover {\n",
              "      background-color: #434B5C;\n",
              "      box-shadow: 0px 1px 3px 1px rgba(0, 0, 0, 0.15);\n",
              "      filter: drop-shadow(0px 1px 2px rgba(0, 0, 0, 0.3));\n",
              "      fill: #FFFFFF;\n",
              "    }\n",
              "  </style>\n",
              "\n",
              "      <script>\n",
              "        const buttonEl =\n",
              "          document.querySelector('#df-dfa74356-bc5e-4aaa-978b-4f79f5c2b89b button.colab-df-convert');\n",
              "        buttonEl.style.display =\n",
              "          google.colab.kernel.accessAllowed ? 'block' : 'none';\n",
              "\n",
              "        async function convertToInteractive(key) {\n",
              "          const element = document.querySelector('#df-dfa74356-bc5e-4aaa-978b-4f79f5c2b89b');\n",
              "          const dataTable =\n",
              "            await google.colab.kernel.invokeFunction('convertToInteractive',\n",
              "                                                     [key], {});\n",
              "          if (!dataTable) return;\n",
              "\n",
              "          const docLinkHtml = 'Like what you see? Visit the ' +\n",
              "            '<a target=\"_blank\" href=https://colab.research.google.com/notebooks/data_table.ipynb>data table notebook</a>'\n",
              "            + ' to learn more about interactive tables.';\n",
              "          element.innerHTML = '';\n",
              "          dataTable['output_type'] = 'display_data';\n",
              "          await google.colab.output.renderOutput(dataTable, element);\n",
              "          const docLink = document.createElement('div');\n",
              "          docLink.innerHTML = docLinkHtml;\n",
              "          element.appendChild(docLink);\n",
              "        }\n",
              "      </script>\n",
              "    </div>\n",
              "  </div>\n",
              "  "
            ]
          },
          "metadata": {}
        }
      ]
    },
    {
      "cell_type": "code",
      "execution_count": null,
      "metadata": {
        "id": "i6uNNuMyQdCx"
      },
      "outputs": [],
      "source": [
        "results.to_csv('ResultsKNNWITHMEANSNoNoise.csv', index=False)"
      ]
    },
    {
      "cell_type": "code",
      "execution_count": null,
      "metadata": {
        "id": "xWM_pokwQdCx"
      },
      "outputs": [],
      "source": [
        "####CHECK HIERNAAAAAAA"
      ]
    },
    {
      "cell_type": "code",
      "execution_count": null,
      "metadata": {
        "colab": {
          "base_uri": "https://localhost:8080/"
        },
        "outputId": "552ac8e4-6267-4d1b-969e-4d9283f4ec08",
        "id": "QPk1WZ4rQdCx"
      },
      "outputs": [
        {
          "data": {
            "text/plain": [
              "{'split0_test_rmse': array([1.17496379, 1.16955682]),\n",
              " 'split1_test_rmse': array([1.16000418, 1.15621652]),\n",
              " 'split2_test_rmse': array([1.18117841, 1.17262191]),\n",
              " 'split3_test_rmse': array([1.15757497, 1.15219594]),\n",
              " 'split4_test_rmse': array([1.18351536, 1.16883782]),\n",
              " 'split5_test_rmse': array([1.15111699, 1.14910504]),\n",
              " 'split6_test_rmse': array([1.18133794, 1.17004437]),\n",
              " 'split7_test_rmse': array([1.1570876 , 1.15321601]),\n",
              " 'split8_test_rmse': array([1.16628216, 1.16005882]),\n",
              " 'split9_test_rmse': array([1.17379885, 1.16906747]),\n",
              " 'mean_test_rmse': array([1.16868602, 1.16209207]),\n",
              " 'std_test_rmse': array([0.01117763, 0.0084145 ]),\n",
              " 'rank_test_rmse': array([2, 1]),\n",
              " 'split0_test_mae': array([0.96562424, 0.96912426]),\n",
              " 'split1_test_mae': array([0.95332589, 0.95870587]),\n",
              " 'split2_test_mae': array([0.97072834, 0.9690826 ]),\n",
              " 'split3_test_mae': array([0.94655034, 0.9500516 ]),\n",
              " 'split4_test_mae': array([0.96368268, 0.95836019]),\n",
              " 'split5_test_mae': array([0.94019283, 0.94396326]),\n",
              " 'split6_test_mae': array([0.96609923, 0.96654544]),\n",
              " 'split7_test_mae': array([0.95082863, 0.95424399]),\n",
              " 'split8_test_mae': array([0.95584465, 0.95687122]),\n",
              " 'split9_test_mae': array([0.95637789, 0.96165327]),\n",
              " 'mean_test_mae': array([0.95692547, 0.95886017]),\n",
              " 'std_test_mae': array([0.00913907, 0.00775733]),\n",
              " 'rank_test_mae': array([1, 2]),\n",
              " 'split0_test_fcp': array([0.54249173, 0.5389498 ]),\n",
              " 'split1_test_fcp': array([0.53659126, 0.5423655 ]),\n",
              " 'split2_test_fcp': array([0.54032885, 0.54689232]),\n",
              " 'split3_test_fcp': array([0.53716047, 0.53681621]),\n",
              " 'split4_test_fcp': array([0.53337196, 0.52926763]),\n",
              " 'split5_test_fcp': array([0.55883833, 0.54949948]),\n",
              " 'split6_test_fcp': array([0.53303776, 0.52247191]),\n",
              " 'split7_test_fcp': array([0.54430368, 0.54470158]),\n",
              " 'split8_test_fcp': array([0.54459619, 0.54865386]),\n",
              " 'split9_test_fcp': array([0.53155307, 0.53510494]),\n",
              " 'mean_test_fcp': array([0.54022733, 0.53947232]),\n",
              " 'std_test_fcp': array([0.00764046, 0.00833767]),\n",
              " 'rank_test_fcp': array([1, 2]),\n",
              " 'mean_fit_time': array([3.18819406, 4.41852007]),\n",
              " 'std_fit_time': array([0.47913106, 0.91016739]),\n",
              " 'mean_test_time': array([0.76988752, 1.29660332]),\n",
              " 'std_test_time': array([0.30854852, 0.49570069]),\n",
              " 'params': [{'k': 10,\n",
              "   'sim_options': {'name': 'msd',\n",
              "    'min_support': 1,\n",
              "    'user_based': True,\n",
              "    'shrinkage': 10}},\n",
              "  {'k': 20,\n",
              "   'sim_options': {'name': 'msd',\n",
              "    'min_support': 1,\n",
              "    'user_based': True,\n",
              "    'shrinkage': 10}}],\n",
              " 'param_k': [10, 20],\n",
              " 'param_sim_options': [{'name': 'msd',\n",
              "   'min_support': 1,\n",
              "   'user_based': True,\n",
              "   'shrinkage': 10},\n",
              "  {'name': 'msd', 'min_support': 1, 'user_based': True, 'shrinkage': 10}]}"
            ]
          },
          "execution_count": 28,
          "metadata": {},
          "output_type": "execute_result"
        }
      ],
      "source": [
        "gridsvd.cv_results"
      ]
    },
    {
      "cell_type": "markdown",
      "source": [
        "#####Recommend the top 5 vacancies to a jobseeker"
      ],
      "metadata": {
        "id": "ADmzw_ElIzD-"
      }
    },
    {
      "cell_type": "code",
      "source": [
        "import pandas as pd \n",
        "import numpy as np \n",
        "from surprise import KNNWithMeans, Dataset, Reader\n",
        "from surprise.model_selection import GridSearchCV\n",
        "\n",
        "# Load the dataset\n",
        "df = pd.read_csv('matches.csv')"
      ],
      "metadata": {
        "id": "NbxzYVCTI1Y1"
      },
      "execution_count": null,
      "outputs": []
    },
    {
      "cell_type": "code",
      "source": [
        "# Define the rating scale\n",
        "reader = Reader(rating_scale=(1, 5))\n",
        "\n",
        "# Load the dataset into the Surprise format\n",
        "data = Dataset.load_from_df(df[['JobseekerID', 'VacancyID', 'Rating']], reader)\n"
      ],
      "metadata": {
        "id": "ZanXAE7rI1Y1"
      },
      "execution_count": null,
      "outputs": []
    },
    {
      "cell_type": "code",
      "source": [
        "# Set the best hyperparameters found by GridSearchCV\n",
        "best_k = gridsvd.best_params['mae']['k']\n",
        "best_min_support = gridsvd.best_params['mae']['sim_options']['min_support']\n",
        "\n",
        "# Define the SVD model\n",
        "model = KNNWithMeans(k=best_k, sim_options={'name': 'pearson_baseline', 'min_support': best_min_support, 'user_based': True, 'shrinkage': 5})\n",
        "\n",
        "# Train the model on the dataset\n",
        "trainset = data.build_full_trainset()\n",
        "model.fit(trainset)"
      ],
      "metadata": {
        "colab": {
          "base_uri": "https://localhost:8080/"
        },
        "outputId": "e744892e-4902-4a0f-cf0d-2043d462830f",
        "id": "1MMWfHmBI1Y1"
      },
      "execution_count": null,
      "outputs": [
        {
          "output_type": "stream",
          "name": "stdout",
          "text": [
            "Estimating biases using als...\n",
            "Computing the pearson_baseline similarity matrix...\n",
            "Done computing similarity matrix.\n"
          ]
        },
        {
          "output_type": "execute_result",
          "data": {
            "text/plain": [
              "<surprise.prediction_algorithms.knns.KNNBaseline at 0x7f221c7e7ee0>"
            ]
          },
          "metadata": {},
          "execution_count": 53
        }
      ]
    },
    {
      "cell_type": "code",
      "source": [
        "# Define a function to get top N recommended vacancies for a given jobseeker\n",
        "def get_top_n_vacancies(jobseeker_id, n=5):\n",
        "   \n",
        "    # Check if the jobseeker ID exists in the dataset\n",
        "    if jobseeker_id not in df['JobseekerID'].unique():\n",
        "        print(f\"Error: Jobseeker with id {jobseeker_id} does not exist.\")\n",
        "        return\n",
        "    \n",
        "    # Get a list of all vacancies\n",
        "    vacancies = df['VacancyID'].unique().tolist()\n",
        "\n",
        "    # Create a list of tuples (vacancy_id, predicted_rating) for the given jobseeker\n",
        "    jobseeker_ratings = [(vacancy_id, round(model.predict(jobseeker_id, vacancy_id).est, 2)) for vacancy_id in vacancies]\n",
        "    \n",
        "    # Filter out the vacancies that the jobseeker has already rated\n",
        "    rated_vacancies = df.loc[df['JobseekerID'] == jobseeker_id, 'VacancyID'].tolist()\n",
        "    jobseeker_ratings = [(vacancy_id, rating) for vacancy_id, rating in jobseeker_ratings if vacancy_id not in rated_vacancies]\n",
        "\n",
        "    # Sort the list in descending order of predicted rating\n",
        "    jobseeker_ratings.sort(key=lambda x: x[1], reverse=True)\n",
        "    \n",
        "    # Return the top n recommended vacancies for the given jobseeker\n",
        "    return jobseeker_ratings[:n]\n",
        "\n",
        "# Prompt the user to input the jobseeker ID\n",
        "jobseeker_id = int(input(\"Enter the jobseeker ID: \"))\n",
        "\n",
        "# Get the top N recommended vacancies for the given jobseeker\n",
        "n = 5  # number of recommended vacancies\n",
        "jobseeker_ratings = get_top_n_vacancies(jobseeker_id, n)\n",
        "\n",
        "#print:\n",
        "print(f\"Jobseeker ID {jobseeker_id} matches the following vacancies:\")\n",
        "for i in range(n):\n",
        "    vacancy_id = jobseeker_ratings[i][0]\n",
        "    rating = jobseeker_ratings[i][1]\n",
        "    print(f\"VacancyID {vacancy_id} with a rating of {rating}\")\n"
      ],
      "metadata": {
        "colab": {
          "base_uri": "https://localhost:8080/"
        },
        "outputId": "d523cd32-c8a5-47eb-87ea-d94ddc72ba9c",
        "id": "1hKx7B0lI1Y2"
      },
      "execution_count": null,
      "outputs": [
        {
          "output_type": "stream",
          "name": "stdout",
          "text": [
            "Enter the jobseeker ID: 14696\n",
            "Jobseeker ID 14696 matches the following vacancies:\n",
            "VacancyID 36404 with a rating of 3.85\n",
            "VacancyID 25460 with a rating of 3.85\n",
            "VacancyID 32627 with a rating of 3.81\n",
            "VacancyID 49215 with a rating of 3.81\n",
            "VacancyID 34904 with a rating of 3.81\n"
          ]
        }
      ]
    },
    {
      "cell_type": "code",
      "execution_count": null,
      "metadata": {
        "colab": {
          "base_uri": "https://localhost:8080/"
        },
        "outputId": "c1937f96-e9d2-4604-94ed-688ed821068f",
        "id": "Hx324A7FOmbn"
      },
      "outputs": [
        {
          "name": "stdout",
          "output_type": "stream",
          "text": [
            "The predicted rating for jobseeker 20473 and vacancy 30356 is 4.0\n"
          ]
        }
      ],
      "source": [
        "#NOT RIGHT\n",
        "\n",
        "# Use the algorithm to make predictions on new data\n",
        "# Note: When evaluating the algorithm's performance, you would use the test set to evaluate the algorithm's predictions on unseen data.\n",
        "#  However, in this case, you are only interested in making a single prediction on a specific user-item pair.\n",
        "#user_id = 20473\n",
        "#item_id = 30356\n",
        "#predicted_rating = best_algo.predict(user_id, item_id).est\n",
        "#print(\"The predicted rating for jobseeker \" + str(user_id) + \" and vacancy \" + str(item_id) + \" is \" + str(predicted_rating))"
      ]
    },
    {
      "cell_type": "markdown",
      "metadata": {
        "id": "Q2bdXrVfVWNI"
      },
      "source": [
        "##Noisy data 10%: train and predict"
      ]
    },
    {
      "cell_type": "code",
      "execution_count": null,
      "metadata": {
        "colab": {
          "base_uri": "https://localhost:8080/",
          "height": 73
        },
        "id": "Z8QzXvu2Wf5V",
        "outputId": "cfdb41ae-09d9-424f-f4b9-ba452efd38c5"
      },
      "outputs": [
        {
          "data": {
            "text/html": [
              "\n",
              "     <input type=\"file\" id=\"files-3ac737b9-b693-4147-afa8-cf23dd789c14\" name=\"files[]\" multiple disabled\n",
              "        style=\"border:none\" />\n",
              "     <output id=\"result-3ac737b9-b693-4147-afa8-cf23dd789c14\">\n",
              "      Upload widget is only available when the cell has been executed in the\n",
              "      current browser session. Please rerun this cell to enable.\n",
              "      </output>\n",
              "      <script>// Copyright 2017 Google LLC\n",
              "//\n",
              "// Licensed under the Apache License, Version 2.0 (the \"License\");\n",
              "// you may not use this file except in compliance with the License.\n",
              "// You may obtain a copy of the License at\n",
              "//\n",
              "//      http://www.apache.org/licenses/LICENSE-2.0\n",
              "//\n",
              "// Unless required by applicable law or agreed to in writing, software\n",
              "// distributed under the License is distributed on an \"AS IS\" BASIS,\n",
              "// WITHOUT WARRANTIES OR CONDITIONS OF ANY KIND, either express or implied.\n",
              "// See the License for the specific language governing permissions and\n",
              "// limitations under the License.\n",
              "\n",
              "/**\n",
              " * @fileoverview Helpers for google.colab Python module.\n",
              " */\n",
              "(function(scope) {\n",
              "function span(text, styleAttributes = {}) {\n",
              "  const element = document.createElement('span');\n",
              "  element.textContent = text;\n",
              "  for (const key of Object.keys(styleAttributes)) {\n",
              "    element.style[key] = styleAttributes[key];\n",
              "  }\n",
              "  return element;\n",
              "}\n",
              "\n",
              "// Max number of bytes which will be uploaded at a time.\n",
              "const MAX_PAYLOAD_SIZE = 100 * 1024;\n",
              "\n",
              "function _uploadFiles(inputId, outputId) {\n",
              "  const steps = uploadFilesStep(inputId, outputId);\n",
              "  const outputElement = document.getElementById(outputId);\n",
              "  // Cache steps on the outputElement to make it available for the next call\n",
              "  // to uploadFilesContinue from Python.\n",
              "  outputElement.steps = steps;\n",
              "\n",
              "  return _uploadFilesContinue(outputId);\n",
              "}\n",
              "\n",
              "// This is roughly an async generator (not supported in the browser yet),\n",
              "// where there are multiple asynchronous steps and the Python side is going\n",
              "// to poll for completion of each step.\n",
              "// This uses a Promise to block the python side on completion of each step,\n",
              "// then passes the result of the previous step as the input to the next step.\n",
              "function _uploadFilesContinue(outputId) {\n",
              "  const outputElement = document.getElementById(outputId);\n",
              "  const steps = outputElement.steps;\n",
              "\n",
              "  const next = steps.next(outputElement.lastPromiseValue);\n",
              "  return Promise.resolve(next.value.promise).then((value) => {\n",
              "    // Cache the last promise value to make it available to the next\n",
              "    // step of the generator.\n",
              "    outputElement.lastPromiseValue = value;\n",
              "    return next.value.response;\n",
              "  });\n",
              "}\n",
              "\n",
              "/**\n",
              " * Generator function which is called between each async step of the upload\n",
              " * process.\n",
              " * @param {string} inputId Element ID of the input file picker element.\n",
              " * @param {string} outputId Element ID of the output display.\n",
              " * @return {!Iterable<!Object>} Iterable of next steps.\n",
              " */\n",
              "function* uploadFilesStep(inputId, outputId) {\n",
              "  const inputElement = document.getElementById(inputId);\n",
              "  inputElement.disabled = false;\n",
              "\n",
              "  const outputElement = document.getElementById(outputId);\n",
              "  outputElement.innerHTML = '';\n",
              "\n",
              "  const pickedPromise = new Promise((resolve) => {\n",
              "    inputElement.addEventListener('change', (e) => {\n",
              "      resolve(e.target.files);\n",
              "    });\n",
              "  });\n",
              "\n",
              "  const cancel = document.createElement('button');\n",
              "  inputElement.parentElement.appendChild(cancel);\n",
              "  cancel.textContent = 'Cancel upload';\n",
              "  const cancelPromise = new Promise((resolve) => {\n",
              "    cancel.onclick = () => {\n",
              "      resolve(null);\n",
              "    };\n",
              "  });\n",
              "\n",
              "  // Wait for the user to pick the files.\n",
              "  const files = yield {\n",
              "    promise: Promise.race([pickedPromise, cancelPromise]),\n",
              "    response: {\n",
              "      action: 'starting',\n",
              "    }\n",
              "  };\n",
              "\n",
              "  cancel.remove();\n",
              "\n",
              "  // Disable the input element since further picks are not allowed.\n",
              "  inputElement.disabled = true;\n",
              "\n",
              "  if (!files) {\n",
              "    return {\n",
              "      response: {\n",
              "        action: 'complete',\n",
              "      }\n",
              "    };\n",
              "  }\n",
              "\n",
              "  for (const file of files) {\n",
              "    const li = document.createElement('li');\n",
              "    li.append(span(file.name, {fontWeight: 'bold'}));\n",
              "    li.append(span(\n",
              "        `(${file.type || 'n/a'}) - ${file.size} bytes, ` +\n",
              "        `last modified: ${\n",
              "            file.lastModifiedDate ? file.lastModifiedDate.toLocaleDateString() :\n",
              "                                    'n/a'} - `));\n",
              "    const percent = span('0% done');\n",
              "    li.appendChild(percent);\n",
              "\n",
              "    outputElement.appendChild(li);\n",
              "\n",
              "    const fileDataPromise = new Promise((resolve) => {\n",
              "      const reader = new FileReader();\n",
              "      reader.onload = (e) => {\n",
              "        resolve(e.target.result);\n",
              "      };\n",
              "      reader.readAsArrayBuffer(file);\n",
              "    });\n",
              "    // Wait for the data to be ready.\n",
              "    let fileData = yield {\n",
              "      promise: fileDataPromise,\n",
              "      response: {\n",
              "        action: 'continue',\n",
              "      }\n",
              "    };\n",
              "\n",
              "    // Use a chunked sending to avoid message size limits. See b/62115660.\n",
              "    let position = 0;\n",
              "    do {\n",
              "      const length = Math.min(fileData.byteLength - position, MAX_PAYLOAD_SIZE);\n",
              "      const chunk = new Uint8Array(fileData, position, length);\n",
              "      position += length;\n",
              "\n",
              "      const base64 = btoa(String.fromCharCode.apply(null, chunk));\n",
              "      yield {\n",
              "        response: {\n",
              "          action: 'append',\n",
              "          file: file.name,\n",
              "          data: base64,\n",
              "        },\n",
              "      };\n",
              "\n",
              "      let percentDone = fileData.byteLength === 0 ?\n",
              "          100 :\n",
              "          Math.round((position / fileData.byteLength) * 100);\n",
              "      percent.textContent = `${percentDone}% done`;\n",
              "\n",
              "    } while (position < fileData.byteLength);\n",
              "  }\n",
              "\n",
              "  // All done.\n",
              "  yield {\n",
              "    response: {\n",
              "      action: 'complete',\n",
              "    }\n",
              "  };\n",
              "}\n",
              "\n",
              "scope.google = scope.google || {};\n",
              "scope.google.colab = scope.google.colab || {};\n",
              "scope.google.colab._files = {\n",
              "  _uploadFiles,\n",
              "  _uploadFilesContinue,\n",
              "};\n",
              "})(self);\n",
              "</script> "
            ],
            "text/plain": [
              "<IPython.core.display.HTML object>"
            ]
          },
          "metadata": {},
          "output_type": "display_data"
        },
        {
          "name": "stdout",
          "output_type": "stream",
          "text": [
            "Saving data_with_noise10%.csv to data_with_noise10% (1).csv\n"
          ]
        }
      ],
      "source": [
        "import pandas as pd \n",
        "import numpy as np \n",
        "from google.colab import files\n",
        "uploaded = files.upload()\n",
        "\n",
        "import io\n",
        "df = pd.read_csv(io.BytesIO(uploaded['data_with_noise10%.csv']))"
      ]
    },
    {
      "cell_type": "code",
      "execution_count": null,
      "metadata": {
        "id": "PcrMMjPJ4j5M"
      },
      "outputs": [],
      "source": [
        "import random\n",
        "\n",
        "#Set the random seed\n",
        "random.seed(42)\n",
        "np.random.seed(42)"
      ]
    },
    {
      "cell_type": "markdown",
      "metadata": {
        "id": "QyWcBWXPVnw-"
      },
      "source": [
        "####Gridsearch: KNNBaseline"
      ]
    },
    {
      "cell_type": "markdown",
      "metadata": {
        "id": "DIf_j538xrEe"
      },
      "source": [
        "Tuned model"
      ]
    },
    {
      "cell_type": "code",
      "execution_count": null,
      "metadata": {
        "id": "z0xZzQyq6tp-"
      },
      "outputs": [],
      "source": [
        "param_grid = {\n",
        "    'k': [15],\n",
        "    'sim_options': {\n",
        "        'name': ['pearson_baseline'],\n",
        "        'min_support': [1],\n",
        "        'user_based': [True], #user based vs item based => False\n",
        "        'shrinkage': [10],\n",
        "    },\n",
        "}\n",
        "\n",
        "gridsvd = GridSearchCV(KNNBaseline, param_grid, n_jobs=-1, measures=[\"rmse\"], cv=10)\n"
      ]
    },
    {
      "cell_type": "code",
      "execution_count": null,
      "metadata": {
        "colab": {
          "base_uri": "https://localhost:8080/"
        },
        "id": "CLwIlrgX4tTN",
        "outputId": "73f04874-dc7b-4be5-da0c-e00ca91735f5"
      },
      "outputs": [
        {
          "name": "stdout",
          "output_type": "stream",
          "text": [
            "1.1629810375534604\n",
            "{'k': 15, 'sim_options': {'name': 'pearson_baseline', 'min_support': 1, 'user_based': True, 'shrinkage': 10}}\n"
          ]
        }
      ],
      "source": [
        "gridsvd.fit(data)\n",
        "gridsvd.best_params\n",
        "\n",
        "\n",
        "#Print best score and best parameters from the GridSearch that gave the best RMSE score\n",
        "print(gridsvd.best_score[\"rmse\"])\n",
        "print(gridsvd.best_params[\"rmse\"])"
      ]
    },
    {
      "cell_type": "code",
      "execution_count": null,
      "metadata": {
        "colab": {
          "base_uri": "https://localhost:8080/"
        },
        "id": "lSfPOQTo5R3I",
        "outputId": "aaa61d49-3f34-43eb-fe02-3df8d533a3b8"
      },
      "outputs": [
        {
          "data": {
            "text/plain": [
              "{'split0_test_rmse': array([1.16647284]),\n",
              " 'split1_test_rmse': array([1.1593341]),\n",
              " 'split2_test_rmse': array([1.16233889]),\n",
              " 'split3_test_rmse': array([1.1646095]),\n",
              " 'split4_test_rmse': array([1.18056581]),\n",
              " 'split5_test_rmse': array([1.14626262]),\n",
              " 'split6_test_rmse': array([1.15696627]),\n",
              " 'split7_test_rmse': array([1.16122827]),\n",
              " 'split8_test_rmse': array([1.16035152]),\n",
              " 'split9_test_rmse': array([1.17168055]),\n",
              " 'mean_test_rmse': array([1.16298104]),\n",
              " 'std_test_rmse': array([0.00859728]),\n",
              " 'rank_test_rmse': array([1]),\n",
              " 'mean_fit_time': array([4.80373526]),\n",
              " 'std_fit_time': array([0.57575949]),\n",
              " 'mean_test_time': array([0.69168997]),\n",
              " 'std_test_time': array([0.14031994]),\n",
              " 'params': [{'k': 15,\n",
              "   'sim_options': {'name': 'pearson_baseline',\n",
              "    'min_support': 1,\n",
              "    'user_based': True,\n",
              "    'shrinkage': 10}}],\n",
              " 'param_k': [15],\n",
              " 'param_sim_options': [{'name': 'pearson_baseline',\n",
              "   'min_support': 1,\n",
              "   'user_based': True,\n",
              "   'shrinkage': 10}]}"
            ]
          },
          "execution_count": 39,
          "metadata": {},
          "output_type": "execute_result"
        }
      ],
      "source": [
        "gridsvd.cv_results"
      ]
    },
    {
      "cell_type": "markdown",
      "metadata": {
        "id": "tRSGsLiB5bo4"
      },
      "source": [
        "####Gridsearch: KNNBasic"
      ]
    },
    {
      "cell_type": "markdown",
      "metadata": {
        "id": "btqSbKJYy0eu"
      },
      "source": [
        "Tuned model"
      ]
    },
    {
      "cell_type": "code",
      "execution_count": null,
      "metadata": {
        "id": "0pDwARk4670U"
      },
      "outputs": [],
      "source": [
        "param_grid = {\n",
        "   'k': [15],\n",
        "    'sim_options': {\n",
        "        'name': ['msd'],\n",
        "        'min_support': [1],\n",
        "        'user_based': [True],\n",
        "        'shrinkage': [15],\n",
        "   \n",
        "    },\n",
        "}\n",
        "\n",
        "gridsvd = GridSearchCV(KNNBasic, param_grid, n_jobs=-1, measures=[\"rmse\"], cv=10)"
      ]
    },
    {
      "cell_type": "code",
      "execution_count": null,
      "metadata": {
        "colab": {
          "base_uri": "https://localhost:8080/"
        },
        "id": "K9xDihTO6EnF",
        "outputId": "118de87b-967a-4951-c26a-d0b4eb68b91d"
      },
      "outputs": [
        {
          "name": "stdout",
          "output_type": "stream",
          "text": [
            "1.1621125344328633\n",
            "{'k': 15, 'sim_options': {'name': 'msd', 'min_support': 1, 'user_based': True, 'shrinkage': 15}}\n"
          ]
        }
      ],
      "source": [
        "gridsvd.fit(data)\n",
        "gridsvd.best_params\n",
        "\n",
        "\n",
        "#Print best score and best parameters from the GridSearch that gave the best RMSE score\n",
        "print(gridsvd.best_score[\"rmse\"])\n",
        "print(gridsvd.best_params[\"rmse\"])"
      ]
    },
    {
      "cell_type": "code",
      "execution_count": null,
      "metadata": {
        "colab": {
          "base_uri": "https://localhost:8080/"
        },
        "id": "EkNdgRrS_uJe",
        "outputId": "bff6050b-c22b-4e07-cb65-60fdd55d94be"
      },
      "outputs": [
        {
          "data": {
            "text/plain": [
              "{'split0_test_rmse': array([1.1604622]),\n",
              " 'split1_test_rmse': array([1.16499367]),\n",
              " 'split2_test_rmse': array([1.16173546]),\n",
              " 'split3_test_rmse': array([1.17303277]),\n",
              " 'split4_test_rmse': array([1.1531215]),\n",
              " 'split5_test_rmse': array([1.14193108]),\n",
              " 'split6_test_rmse': array([1.17447859]),\n",
              " 'split7_test_rmse': array([1.15113992]),\n",
              " 'split8_test_rmse': array([1.17392134]),\n",
              " 'split9_test_rmse': array([1.16630882]),\n",
              " 'mean_test_rmse': array([1.16211253]),\n",
              " 'std_test_rmse': array([0.01024169]),\n",
              " 'rank_test_rmse': array([1]),\n",
              " 'mean_fit_time': array([2.76656508]),\n",
              " 'std_fit_time': array([0.13083968]),\n",
              " 'mean_test_time': array([0.70234916]),\n",
              " 'std_test_time': array([0.24366124]),\n",
              " 'params': [{'k': 15,\n",
              "   'sim_options': {'name': 'msd',\n",
              "    'min_support': 1,\n",
              "    'user_based': True,\n",
              "    'shrinkage': 15}}],\n",
              " 'param_k': [15],\n",
              " 'param_sim_options': [{'name': 'msd',\n",
              "   'min_support': 1,\n",
              "   'user_based': True,\n",
              "   'shrinkage': 15}]}"
            ]
          },
          "execution_count": 42,
          "metadata": {},
          "output_type": "execute_result"
        }
      ],
      "source": [
        "gridsvd.cv_results"
      ]
    },
    {
      "cell_type": "markdown",
      "metadata": {
        "id": "tq1CxLfl-wQi"
      },
      "source": [
        "####Gridsearch: KNNWithMeans"
      ]
    },
    {
      "cell_type": "markdown",
      "metadata": {
        "id": "Nh1DrPHdzMvU"
      },
      "source": [
        "Tuned model"
      ]
    },
    {
      "cell_type": "code",
      "execution_count": null,
      "metadata": {
        "id": "DBdq7NPf7C96"
      },
      "outputs": [],
      "source": [
        "param_grid = {\n",
        "    'k': [11],\n",
        "    'sim_options': {\n",
        "        'name': ['msd'],\n",
        "        'min_support': [1],\n",
        "        'user_based': [True],\n",
        "        'shrinkage': [5],\n",
        "    \n",
        "    },\n",
        "}\n",
        "\n",
        "\n",
        "gridsvd = GridSearchCV(KNNWithMeans, param_grid, n_jobs=-1, measures=[\"rmse\"], cv=10)"
      ]
    },
    {
      "cell_type": "code",
      "execution_count": null,
      "metadata": {
        "colab": {
          "base_uri": "https://localhost:8080/"
        },
        "id": "qcdoXmOC_GXL",
        "outputId": "7d530763-f802-4966-e8b2-6381a8a41a83"
      },
      "outputs": [
        {
          "name": "stdout",
          "output_type": "stream",
          "text": [
            "1.1955818382406274\n",
            "{'k': 11, 'sim_options': {'name': 'msd', 'min_support': 1, 'user_based': True, 'shrinkage': 5}}\n"
          ]
        }
      ],
      "source": [
        "gridsvd.fit(data)\n",
        "gridsvd.best_params\n",
        "\n",
        "\n",
        "#Print best score and best parameters from the GridSearch that gave the best RMSE score\n",
        "print(gridsvd.best_score[\"rmse\"])\n",
        "print(gridsvd.best_params[\"rmse\"])"
      ]
    },
    {
      "cell_type": "code",
      "execution_count": null,
      "metadata": {
        "colab": {
          "base_uri": "https://localhost:8080/"
        },
        "id": "JI3RRGC9_v_R",
        "outputId": "12cf8dad-02e9-4876-ba3b-f42521a70733"
      },
      "outputs": [
        {
          "data": {
            "text/plain": [
              "{'split0_test_rmse': array([1.19091043]),\n",
              " 'split1_test_rmse': array([1.1966754]),\n",
              " 'split2_test_rmse': array([1.20311148]),\n",
              " 'split3_test_rmse': array([1.18979056]),\n",
              " 'split4_test_rmse': array([1.18195007]),\n",
              " 'split5_test_rmse': array([1.21165209]),\n",
              " 'split6_test_rmse': array([1.19803112]),\n",
              " 'split7_test_rmse': array([1.19181266]),\n",
              " 'split8_test_rmse': array([1.20605396]),\n",
              " 'split9_test_rmse': array([1.18583063]),\n",
              " 'mean_test_rmse': array([1.19558184]),\n",
              " 'std_test_rmse': array([0.0088447]),\n",
              " 'rank_test_rmse': array([1]),\n",
              " 'mean_fit_time': array([2.95099635]),\n",
              " 'std_fit_time': array([0.40170854]),\n",
              " 'mean_test_time': array([0.54315836]),\n",
              " 'std_test_time': array([0.04126525]),\n",
              " 'params': [{'k': 11,\n",
              "   'sim_options': {'name': 'msd',\n",
              "    'min_support': 1,\n",
              "    'user_based': True,\n",
              "    'shrinkage': 5}}],\n",
              " 'param_k': [11],\n",
              " 'param_sim_options': [{'name': 'msd',\n",
              "   'min_support': 1,\n",
              "   'user_based': True,\n",
              "   'shrinkage': 5}]}"
            ]
          },
          "execution_count": 45,
          "metadata": {},
          "output_type": "execute_result"
        }
      ],
      "source": [
        "gridsvd.cv_results"
      ]
    },
    {
      "cell_type": "markdown",
      "metadata": {
        "id": "dZjNqEdUVeD7"
      },
      "source": [
        "##Noisy data 20%: train and predict"
      ]
    },
    {
      "cell_type": "code",
      "execution_count": null,
      "metadata": {
        "colab": {
          "base_uri": "https://localhost:8080/",
          "height": 73
        },
        "id": "CIJlMnJaW3hV",
        "outputId": "a074dcdc-5777-43d3-8f42-341ac95fee69"
      },
      "outputs": [
        {
          "data": {
            "text/html": [
              "\n",
              "     <input type=\"file\" id=\"files-f11c4d06-2cfb-442d-a44b-e963a5f8c74a\" name=\"files[]\" multiple disabled\n",
              "        style=\"border:none\" />\n",
              "     <output id=\"result-f11c4d06-2cfb-442d-a44b-e963a5f8c74a\">\n",
              "      Upload widget is only available when the cell has been executed in the\n",
              "      current browser session. Please rerun this cell to enable.\n",
              "      </output>\n",
              "      <script>// Copyright 2017 Google LLC\n",
              "//\n",
              "// Licensed under the Apache License, Version 2.0 (the \"License\");\n",
              "// you may not use this file except in compliance with the License.\n",
              "// You may obtain a copy of the License at\n",
              "//\n",
              "//      http://www.apache.org/licenses/LICENSE-2.0\n",
              "//\n",
              "// Unless required by applicable law or agreed to in writing, software\n",
              "// distributed under the License is distributed on an \"AS IS\" BASIS,\n",
              "// WITHOUT WARRANTIES OR CONDITIONS OF ANY KIND, either express or implied.\n",
              "// See the License for the specific language governing permissions and\n",
              "// limitations under the License.\n",
              "\n",
              "/**\n",
              " * @fileoverview Helpers for google.colab Python module.\n",
              " */\n",
              "(function(scope) {\n",
              "function span(text, styleAttributes = {}) {\n",
              "  const element = document.createElement('span');\n",
              "  element.textContent = text;\n",
              "  for (const key of Object.keys(styleAttributes)) {\n",
              "    element.style[key] = styleAttributes[key];\n",
              "  }\n",
              "  return element;\n",
              "}\n",
              "\n",
              "// Max number of bytes which will be uploaded at a time.\n",
              "const MAX_PAYLOAD_SIZE = 100 * 1024;\n",
              "\n",
              "function _uploadFiles(inputId, outputId) {\n",
              "  const steps = uploadFilesStep(inputId, outputId);\n",
              "  const outputElement = document.getElementById(outputId);\n",
              "  // Cache steps on the outputElement to make it available for the next call\n",
              "  // to uploadFilesContinue from Python.\n",
              "  outputElement.steps = steps;\n",
              "\n",
              "  return _uploadFilesContinue(outputId);\n",
              "}\n",
              "\n",
              "// This is roughly an async generator (not supported in the browser yet),\n",
              "// where there are multiple asynchronous steps and the Python side is going\n",
              "// to poll for completion of each step.\n",
              "// This uses a Promise to block the python side on completion of each step,\n",
              "// then passes the result of the previous step as the input to the next step.\n",
              "function _uploadFilesContinue(outputId) {\n",
              "  const outputElement = document.getElementById(outputId);\n",
              "  const steps = outputElement.steps;\n",
              "\n",
              "  const next = steps.next(outputElement.lastPromiseValue);\n",
              "  return Promise.resolve(next.value.promise).then((value) => {\n",
              "    // Cache the last promise value to make it available to the next\n",
              "    // step of the generator.\n",
              "    outputElement.lastPromiseValue = value;\n",
              "    return next.value.response;\n",
              "  });\n",
              "}\n",
              "\n",
              "/**\n",
              " * Generator function which is called between each async step of the upload\n",
              " * process.\n",
              " * @param {string} inputId Element ID of the input file picker element.\n",
              " * @param {string} outputId Element ID of the output display.\n",
              " * @return {!Iterable<!Object>} Iterable of next steps.\n",
              " */\n",
              "function* uploadFilesStep(inputId, outputId) {\n",
              "  const inputElement = document.getElementById(inputId);\n",
              "  inputElement.disabled = false;\n",
              "\n",
              "  const outputElement = document.getElementById(outputId);\n",
              "  outputElement.innerHTML = '';\n",
              "\n",
              "  const pickedPromise = new Promise((resolve) => {\n",
              "    inputElement.addEventListener('change', (e) => {\n",
              "      resolve(e.target.files);\n",
              "    });\n",
              "  });\n",
              "\n",
              "  const cancel = document.createElement('button');\n",
              "  inputElement.parentElement.appendChild(cancel);\n",
              "  cancel.textContent = 'Cancel upload';\n",
              "  const cancelPromise = new Promise((resolve) => {\n",
              "    cancel.onclick = () => {\n",
              "      resolve(null);\n",
              "    };\n",
              "  });\n",
              "\n",
              "  // Wait for the user to pick the files.\n",
              "  const files = yield {\n",
              "    promise: Promise.race([pickedPromise, cancelPromise]),\n",
              "    response: {\n",
              "      action: 'starting',\n",
              "    }\n",
              "  };\n",
              "\n",
              "  cancel.remove();\n",
              "\n",
              "  // Disable the input element since further picks are not allowed.\n",
              "  inputElement.disabled = true;\n",
              "\n",
              "  if (!files) {\n",
              "    return {\n",
              "      response: {\n",
              "        action: 'complete',\n",
              "      }\n",
              "    };\n",
              "  }\n",
              "\n",
              "  for (const file of files) {\n",
              "    const li = document.createElement('li');\n",
              "    li.append(span(file.name, {fontWeight: 'bold'}));\n",
              "    li.append(span(\n",
              "        `(${file.type || 'n/a'}) - ${file.size} bytes, ` +\n",
              "        `last modified: ${\n",
              "            file.lastModifiedDate ? file.lastModifiedDate.toLocaleDateString() :\n",
              "                                    'n/a'} - `));\n",
              "    const percent = span('0% done');\n",
              "    li.appendChild(percent);\n",
              "\n",
              "    outputElement.appendChild(li);\n",
              "\n",
              "    const fileDataPromise = new Promise((resolve) => {\n",
              "      const reader = new FileReader();\n",
              "      reader.onload = (e) => {\n",
              "        resolve(e.target.result);\n",
              "      };\n",
              "      reader.readAsArrayBuffer(file);\n",
              "    });\n",
              "    // Wait for the data to be ready.\n",
              "    let fileData = yield {\n",
              "      promise: fileDataPromise,\n",
              "      response: {\n",
              "        action: 'continue',\n",
              "      }\n",
              "    };\n",
              "\n",
              "    // Use a chunked sending to avoid message size limits. See b/62115660.\n",
              "    let position = 0;\n",
              "    do {\n",
              "      const length = Math.min(fileData.byteLength - position, MAX_PAYLOAD_SIZE);\n",
              "      const chunk = new Uint8Array(fileData, position, length);\n",
              "      position += length;\n",
              "\n",
              "      const base64 = btoa(String.fromCharCode.apply(null, chunk));\n",
              "      yield {\n",
              "        response: {\n",
              "          action: 'append',\n",
              "          file: file.name,\n",
              "          data: base64,\n",
              "        },\n",
              "      };\n",
              "\n",
              "      let percentDone = fileData.byteLength === 0 ?\n",
              "          100 :\n",
              "          Math.round((position / fileData.byteLength) * 100);\n",
              "      percent.textContent = `${percentDone}% done`;\n",
              "\n",
              "    } while (position < fileData.byteLength);\n",
              "  }\n",
              "\n",
              "  // All done.\n",
              "  yield {\n",
              "    response: {\n",
              "      action: 'complete',\n",
              "    }\n",
              "  };\n",
              "}\n",
              "\n",
              "scope.google = scope.google || {};\n",
              "scope.google.colab = scope.google.colab || {};\n",
              "scope.google.colab._files = {\n",
              "  _uploadFiles,\n",
              "  _uploadFilesContinue,\n",
              "};\n",
              "})(self);\n",
              "</script> "
            ],
            "text/plain": [
              "<IPython.core.display.HTML object>"
            ]
          },
          "metadata": {},
          "output_type": "display_data"
        },
        {
          "name": "stdout",
          "output_type": "stream",
          "text": [
            "Saving data_with_noise20%.csv to data_with_noise20%.csv\n"
          ]
        }
      ],
      "source": [
        "import pandas as pd \n",
        "import numpy as np \n",
        "from google.colab import files\n",
        "uploaded = files.upload()\n",
        "\n",
        "import io\n",
        "df = pd.read_csv(io.BytesIO(uploaded['data_with_noise20%.csv']))"
      ]
    },
    {
      "cell_type": "code",
      "execution_count": null,
      "metadata": {
        "id": "_rSJ_DE349M7"
      },
      "outputs": [],
      "source": [
        "import random\n",
        "\n",
        "#Set the random seed\n",
        "random.seed(42)\n",
        "np.random.seed(42)"
      ]
    },
    {
      "cell_type": "markdown",
      "metadata": {
        "id": "I4NuyUrBVpCD"
      },
      "source": [
        "####Gridsearch: KNNBaseline"
      ]
    },
    {
      "cell_type": "code",
      "execution_count": null,
      "metadata": {
        "id": "4Yi4BT367JPp"
      },
      "outputs": [],
      "source": [
        "param_grid = {\n",
        "    'k': [15],\n",
        "    'sim_options': {\n",
        "        'name': ['pearson_baseline'],\n",
        "        'min_support': [1],\n",
        "        'user_based': [True], #user based vs item based => False\n",
        "        'shrinkage': [10],\n",
        "    \n",
        "    },\n",
        "}\n",
        "\n",
        "gridsvd = GridSearchCV(KNNBaseline, param_grid, n_jobs=-1, measures=[\"rmse\"], cv=10)"
      ]
    },
    {
      "cell_type": "code",
      "execution_count": null,
      "metadata": {
        "colab": {
          "base_uri": "https://localhost:8080/"
        },
        "id": "Ymg_T5sb5EIl",
        "outputId": "24c65cf3-57b5-4640-a478-ed44ba3fe7d6"
      },
      "outputs": [
        {
          "name": "stdout",
          "output_type": "stream",
          "text": [
            "1.1625266533488186\n",
            "{'k': 15, 'sim_options': {'name': 'pearson_baseline', 'min_support': 1, 'user_based': True, 'shrinkage': 10}}\n"
          ]
        }
      ],
      "source": [
        "gridsvd.fit(data)\n",
        "gridsvd.best_params\n",
        "\n",
        "#Print best score and best parameters from the GridSearch that gave the best RMSE score\n",
        "print(gridsvd.best_score[\"rmse\"])\n",
        "print(gridsvd.best_params[\"rmse\"])"
      ]
    },
    {
      "cell_type": "code",
      "execution_count": null,
      "metadata": {
        "colab": {
          "base_uri": "https://localhost:8080/"
        },
        "id": "1mli1o8DASyy",
        "outputId": "84779a10-8d03-4802-bab8-efd149605983"
      },
      "outputs": [
        {
          "data": {
            "text/plain": [
              "{'split0_test_rmse': array([1.16642367]),\n",
              " 'split1_test_rmse': array([1.16096191]),\n",
              " 'split2_test_rmse': array([1.17458283]),\n",
              " 'split3_test_rmse': array([1.15260496]),\n",
              " 'split4_test_rmse': array([1.17627573]),\n",
              " 'split5_test_rmse': array([1.14326566]),\n",
              " 'split6_test_rmse': array([1.16504587]),\n",
              " 'split7_test_rmse': array([1.15194728]),\n",
              " 'split8_test_rmse': array([1.16206619]),\n",
              " 'split9_test_rmse': array([1.17209243]),\n",
              " 'mean_test_rmse': array([1.16252665]),\n",
              " 'std_test_rmse': array([0.01015596]),\n",
              " 'rank_test_rmse': array([1]),\n",
              " 'mean_fit_time': array([4.58422892]),\n",
              " 'std_fit_time': array([0.60258418]),\n",
              " 'mean_test_time': array([0.66653616]),\n",
              " 'std_test_time': array([0.20701944]),\n",
              " 'params': [{'k': 15,\n",
              "   'sim_options': {'name': 'pearson_baseline',\n",
              "    'min_support': 1,\n",
              "    'user_based': True,\n",
              "    'shrinkage': 10}}],\n",
              " 'param_k': [15],\n",
              " 'param_sim_options': [{'name': 'pearson_baseline',\n",
              "   'min_support': 1,\n",
              "   'user_based': True,\n",
              "   'shrinkage': 10}]}"
            ]
          },
          "execution_count": 50,
          "metadata": {},
          "output_type": "execute_result"
        }
      ],
      "source": [
        "gridsvd.cv_results"
      ]
    },
    {
      "cell_type": "markdown",
      "metadata": {
        "id": "YRwBHHONVx00"
      },
      "source": [
        "####Gridsearch: KNNBasic"
      ]
    },
    {
      "cell_type": "code",
      "execution_count": null,
      "metadata": {
        "id": "9l2UE9Qt51qK"
      },
      "outputs": [],
      "source": [
        "param_grid = {\n",
        "    'k': [15],\n",
        "    'sim_options': {\n",
        "        'name': ['msd'],\n",
        "        'min_support': [1],\n",
        "        'user_based': [True],\n",
        "        'shrinkage': [15],\n",
        "    \n",
        "    },\n",
        "}\n",
        "\n",
        "gridsvd = GridSearchCV(KNNBasic, param_grid, n_jobs=-1, measures=[\"rmse\"], cv=10)"
      ]
    },
    {
      "cell_type": "code",
      "execution_count": null,
      "metadata": {
        "colab": {
          "base_uri": "https://localhost:8080/"
        },
        "id": "9E-CPORt8lBd",
        "outputId": "7897d97e-ab03-42d8-efe2-e1e1e35a7f19"
      },
      "outputs": [
        {
          "name": "stdout",
          "output_type": "stream",
          "text": [
            "1.1604040529791155\n",
            "{'k': 15, 'sim_options': {'name': 'msd', 'min_support': 1, 'user_based': True, 'shrinkage': 15}}\n"
          ]
        }
      ],
      "source": [
        "gridsvd.fit(data)\n",
        "gridsvd.best_params\n",
        "\n",
        "#Print best score and best parameters from the GridSearch that gave the best RMSE score\n",
        "print(gridsvd.best_score[\"rmse\"])\n",
        "print(gridsvd.best_params[\"rmse\"])"
      ]
    },
    {
      "cell_type": "code",
      "execution_count": null,
      "metadata": {
        "colab": {
          "base_uri": "https://localhost:8080/"
        },
        "id": "FqvNKx0B820V",
        "outputId": "240324cc-9237-4800-aaad-7e3a4f5fc3d1"
      },
      "outputs": [
        {
          "data": {
            "text/plain": [
              "{'split0_test_rmse': array([1.1600608]),\n",
              " 'split1_test_rmse': array([1.15884235]),\n",
              " 'split2_test_rmse': array([1.15964877]),\n",
              " 'split3_test_rmse': array([1.16135026]),\n",
              " 'split4_test_rmse': array([1.18060757]),\n",
              " 'split5_test_rmse': array([1.13971261]),\n",
              " 'split6_test_rmse': array([1.15862177]),\n",
              " 'split7_test_rmse': array([1.15403959]),\n",
              " 'split8_test_rmse': array([1.15888557]),\n",
              " 'split9_test_rmse': array([1.17227124]),\n",
              " 'mean_test_rmse': array([1.16040405]),\n",
              " 'std_test_rmse': array([0.01013489]),\n",
              " 'rank_test_rmse': array([1]),\n",
              " 'mean_fit_time': array([2.87642634]),\n",
              " 'std_fit_time': array([0.38738518]),\n",
              " 'mean_test_time': array([0.57337606]),\n",
              " 'std_test_time': array([0.05392642]),\n",
              " 'params': [{'k': 15,\n",
              "   'sim_options': {'name': 'msd',\n",
              "    'min_support': 1,\n",
              "    'user_based': True,\n",
              "    'shrinkage': 15}}],\n",
              " 'param_k': [15],\n",
              " 'param_sim_options': [{'name': 'msd',\n",
              "   'min_support': 1,\n",
              "   'user_based': True,\n",
              "   'shrinkage': 15}]}"
            ]
          },
          "execution_count": 53,
          "metadata": {},
          "output_type": "execute_result"
        }
      ],
      "source": [
        "gridsvd.cv_results"
      ]
    },
    {
      "cell_type": "markdown",
      "metadata": {
        "id": "q4gMtYg8V6ck"
      },
      "source": [
        "####Gridsearch: KNNWithMeans"
      ]
    },
    {
      "cell_type": "code",
      "execution_count": null,
      "metadata": {
        "id": "uyhOfQFF8TZQ"
      },
      "outputs": [],
      "source": [
        "param_grid = {\n",
        "    'k': [11],\n",
        "    'sim_options': {\n",
        "        'name': ['msd'],\n",
        "        'min_support': [1],\n",
        "        'user_based': [True],\n",
        "        'shrinkage': [5],\n",
        "    \n",
        "    },\n",
        "}\n",
        "\n",
        "gridsvd = GridSearchCV(KNNWithMeans, param_grid, n_jobs=-1, measures=[\"rmse\"], cv=10)"
      ]
    },
    {
      "cell_type": "code",
      "execution_count": null,
      "metadata": {
        "colab": {
          "base_uri": "https://localhost:8080/"
        },
        "id": "0SME5FSR8mH-",
        "outputId": "c1fecb37-cec8-4cf9-a583-edbb2151dcdf"
      },
      "outputs": [
        {
          "name": "stdout",
          "output_type": "stream",
          "text": [
            "1.1979257165248585\n",
            "{'k': 11, 'sim_options': {'name': 'msd', 'min_support': 1, 'user_based': True, 'shrinkage': 5}}\n"
          ]
        }
      ],
      "source": [
        "gridsvd.fit(data)\n",
        "gridsvd.best_params\n",
        "\n",
        "#Print best score and best parameters from the GridSearch that gave the best RMSE score\n",
        "print(gridsvd.best_score[\"rmse\"])\n",
        "print(gridsvd.best_params[\"rmse\"])"
      ]
    },
    {
      "cell_type": "code",
      "execution_count": null,
      "metadata": {
        "colab": {
          "base_uri": "https://localhost:8080/"
        },
        "id": "3RRQd5C5831A",
        "outputId": "9540c33b-d8d9-43cd-a42f-c9b43a1ffd24"
      },
      "outputs": [
        {
          "data": {
            "text/plain": [
              "{'split0_test_rmse': array([1.19331751]),\n",
              " 'split1_test_rmse': array([1.19955735]),\n",
              " 'split2_test_rmse': array([1.20275784]),\n",
              " 'split3_test_rmse': array([1.20694696]),\n",
              " 'split4_test_rmse': array([1.19483348]),\n",
              " 'split5_test_rmse': array([1.17284066]),\n",
              " 'split6_test_rmse': array([1.20895643]),\n",
              " 'split7_test_rmse': array([1.18212619]),\n",
              " 'split8_test_rmse': array([1.20971157]),\n",
              " 'split9_test_rmse': array([1.20820918]),\n",
              " 'mean_test_rmse': array([1.19792572]),\n",
              " 'std_test_rmse': array([0.01176184]),\n",
              " 'rank_test_rmse': array([1]),\n",
              " 'mean_fit_time': array([2.97075584]),\n",
              " 'std_fit_time': array([0.42376208]),\n",
              " 'mean_test_time': array([0.62122066]),\n",
              " 'std_test_time': array([0.19461172]),\n",
              " 'params': [{'k': 11,\n",
              "   'sim_options': {'name': 'msd',\n",
              "    'min_support': 1,\n",
              "    'user_based': True,\n",
              "    'shrinkage': 5}}],\n",
              " 'param_k': [11],\n",
              " 'param_sim_options': [{'name': 'msd',\n",
              "   'min_support': 1,\n",
              "   'user_based': True,\n",
              "   'shrinkage': 5}]}"
            ]
          },
          "execution_count": 56,
          "metadata": {},
          "output_type": "execute_result"
        }
      ],
      "source": [
        "gridsvd.cv_results"
      ]
    },
    {
      "cell_type": "markdown",
      "metadata": {
        "id": "wGbV6i2QViaK"
      },
      "source": [
        "##Noisy data 30%: train and predict"
      ]
    },
    {
      "cell_type": "code",
      "execution_count": null,
      "metadata": {
        "colab": {
          "base_uri": "https://localhost:8080/",
          "height": 73
        },
        "id": "cjROboWTW44c",
        "outputId": "923379e9-2b75-49ad-a2bc-e0266da9f9f5"
      },
      "outputs": [
        {
          "data": {
            "text/html": [
              "\n",
              "     <input type=\"file\" id=\"files-885698b7-d517-490b-bba7-4516da5a1a03\" name=\"files[]\" multiple disabled\n",
              "        style=\"border:none\" />\n",
              "     <output id=\"result-885698b7-d517-490b-bba7-4516da5a1a03\">\n",
              "      Upload widget is only available when the cell has been executed in the\n",
              "      current browser session. Please rerun this cell to enable.\n",
              "      </output>\n",
              "      <script>// Copyright 2017 Google LLC\n",
              "//\n",
              "// Licensed under the Apache License, Version 2.0 (the \"License\");\n",
              "// you may not use this file except in compliance with the License.\n",
              "// You may obtain a copy of the License at\n",
              "//\n",
              "//      http://www.apache.org/licenses/LICENSE-2.0\n",
              "//\n",
              "// Unless required by applicable law or agreed to in writing, software\n",
              "// distributed under the License is distributed on an \"AS IS\" BASIS,\n",
              "// WITHOUT WARRANTIES OR CONDITIONS OF ANY KIND, either express or implied.\n",
              "// See the License for the specific language governing permissions and\n",
              "// limitations under the License.\n",
              "\n",
              "/**\n",
              " * @fileoverview Helpers for google.colab Python module.\n",
              " */\n",
              "(function(scope) {\n",
              "function span(text, styleAttributes = {}) {\n",
              "  const element = document.createElement('span');\n",
              "  element.textContent = text;\n",
              "  for (const key of Object.keys(styleAttributes)) {\n",
              "    element.style[key] = styleAttributes[key];\n",
              "  }\n",
              "  return element;\n",
              "}\n",
              "\n",
              "// Max number of bytes which will be uploaded at a time.\n",
              "const MAX_PAYLOAD_SIZE = 100 * 1024;\n",
              "\n",
              "function _uploadFiles(inputId, outputId) {\n",
              "  const steps = uploadFilesStep(inputId, outputId);\n",
              "  const outputElement = document.getElementById(outputId);\n",
              "  // Cache steps on the outputElement to make it available for the next call\n",
              "  // to uploadFilesContinue from Python.\n",
              "  outputElement.steps = steps;\n",
              "\n",
              "  return _uploadFilesContinue(outputId);\n",
              "}\n",
              "\n",
              "// This is roughly an async generator (not supported in the browser yet),\n",
              "// where there are multiple asynchronous steps and the Python side is going\n",
              "// to poll for completion of each step.\n",
              "// This uses a Promise to block the python side on completion of each step,\n",
              "// then passes the result of the previous step as the input to the next step.\n",
              "function _uploadFilesContinue(outputId) {\n",
              "  const outputElement = document.getElementById(outputId);\n",
              "  const steps = outputElement.steps;\n",
              "\n",
              "  const next = steps.next(outputElement.lastPromiseValue);\n",
              "  return Promise.resolve(next.value.promise).then((value) => {\n",
              "    // Cache the last promise value to make it available to the next\n",
              "    // step of the generator.\n",
              "    outputElement.lastPromiseValue = value;\n",
              "    return next.value.response;\n",
              "  });\n",
              "}\n",
              "\n",
              "/**\n",
              " * Generator function which is called between each async step of the upload\n",
              " * process.\n",
              " * @param {string} inputId Element ID of the input file picker element.\n",
              " * @param {string} outputId Element ID of the output display.\n",
              " * @return {!Iterable<!Object>} Iterable of next steps.\n",
              " */\n",
              "function* uploadFilesStep(inputId, outputId) {\n",
              "  const inputElement = document.getElementById(inputId);\n",
              "  inputElement.disabled = false;\n",
              "\n",
              "  const outputElement = document.getElementById(outputId);\n",
              "  outputElement.innerHTML = '';\n",
              "\n",
              "  const pickedPromise = new Promise((resolve) => {\n",
              "    inputElement.addEventListener('change', (e) => {\n",
              "      resolve(e.target.files);\n",
              "    });\n",
              "  });\n",
              "\n",
              "  const cancel = document.createElement('button');\n",
              "  inputElement.parentElement.appendChild(cancel);\n",
              "  cancel.textContent = 'Cancel upload';\n",
              "  const cancelPromise = new Promise((resolve) => {\n",
              "    cancel.onclick = () => {\n",
              "      resolve(null);\n",
              "    };\n",
              "  });\n",
              "\n",
              "  // Wait for the user to pick the files.\n",
              "  const files = yield {\n",
              "    promise: Promise.race([pickedPromise, cancelPromise]),\n",
              "    response: {\n",
              "      action: 'starting',\n",
              "    }\n",
              "  };\n",
              "\n",
              "  cancel.remove();\n",
              "\n",
              "  // Disable the input element since further picks are not allowed.\n",
              "  inputElement.disabled = true;\n",
              "\n",
              "  if (!files) {\n",
              "    return {\n",
              "      response: {\n",
              "        action: 'complete',\n",
              "      }\n",
              "    };\n",
              "  }\n",
              "\n",
              "  for (const file of files) {\n",
              "    const li = document.createElement('li');\n",
              "    li.append(span(file.name, {fontWeight: 'bold'}));\n",
              "    li.append(span(\n",
              "        `(${file.type || 'n/a'}) - ${file.size} bytes, ` +\n",
              "        `last modified: ${\n",
              "            file.lastModifiedDate ? file.lastModifiedDate.toLocaleDateString() :\n",
              "                                    'n/a'} - `));\n",
              "    const percent = span('0% done');\n",
              "    li.appendChild(percent);\n",
              "\n",
              "    outputElement.appendChild(li);\n",
              "\n",
              "    const fileDataPromise = new Promise((resolve) => {\n",
              "      const reader = new FileReader();\n",
              "      reader.onload = (e) => {\n",
              "        resolve(e.target.result);\n",
              "      };\n",
              "      reader.readAsArrayBuffer(file);\n",
              "    });\n",
              "    // Wait for the data to be ready.\n",
              "    let fileData = yield {\n",
              "      promise: fileDataPromise,\n",
              "      response: {\n",
              "        action: 'continue',\n",
              "      }\n",
              "    };\n",
              "\n",
              "    // Use a chunked sending to avoid message size limits. See b/62115660.\n",
              "    let position = 0;\n",
              "    do {\n",
              "      const length = Math.min(fileData.byteLength - position, MAX_PAYLOAD_SIZE);\n",
              "      const chunk = new Uint8Array(fileData, position, length);\n",
              "      position += length;\n",
              "\n",
              "      const base64 = btoa(String.fromCharCode.apply(null, chunk));\n",
              "      yield {\n",
              "        response: {\n",
              "          action: 'append',\n",
              "          file: file.name,\n",
              "          data: base64,\n",
              "        },\n",
              "      };\n",
              "\n",
              "      let percentDone = fileData.byteLength === 0 ?\n",
              "          100 :\n",
              "          Math.round((position / fileData.byteLength) * 100);\n",
              "      percent.textContent = `${percentDone}% done`;\n",
              "\n",
              "    } while (position < fileData.byteLength);\n",
              "  }\n",
              "\n",
              "  // All done.\n",
              "  yield {\n",
              "    response: {\n",
              "      action: 'complete',\n",
              "    }\n",
              "  };\n",
              "}\n",
              "\n",
              "scope.google = scope.google || {};\n",
              "scope.google.colab = scope.google.colab || {};\n",
              "scope.google.colab._files = {\n",
              "  _uploadFiles,\n",
              "  _uploadFilesContinue,\n",
              "};\n",
              "})(self);\n",
              "</script> "
            ],
            "text/plain": [
              "<IPython.core.display.HTML object>"
            ]
          },
          "metadata": {},
          "output_type": "display_data"
        },
        {
          "name": "stdout",
          "output_type": "stream",
          "text": [
            "Saving data_with_noise30%.csv to data_with_noise30%.csv\n"
          ]
        }
      ],
      "source": [
        "import pandas as pd \n",
        "import numpy as np \n",
        "from google.colab import files\n",
        "uploaded = files.upload()\n",
        "\n",
        "import io\n",
        "df = pd.read_csv(io.BytesIO(uploaded['data_with_noise30%.csv']))"
      ]
    },
    {
      "cell_type": "code",
      "execution_count": null,
      "metadata": {
        "id": "DsSCnowH8IJE"
      },
      "outputs": [],
      "source": [
        "import random\n",
        "\n",
        "#Set the random seed\n",
        "random.seed(42)\n",
        "np.random.seed(42)"
      ]
    },
    {
      "cell_type": "markdown",
      "metadata": {
        "id": "QdMFomJFVpoR"
      },
      "source": [
        "####Gridsearch: KNNBaseline"
      ]
    },
    {
      "cell_type": "code",
      "execution_count": null,
      "metadata": {
        "id": "35QMzdgn7OXF"
      },
      "outputs": [],
      "source": [
        "param_grid = {\n",
        "    'k': [15],\n",
        "    'sim_options': {\n",
        "        'name': ['pearson_baseline'],\n",
        "        'min_support': [1],\n",
        "        'user_based': [True], #user based vs item based => False\n",
        "        'shrinkage': [10],\n",
        "    \n",
        "    },\n",
        "}\n",
        "\n",
        "gridsvd = GridSearchCV(KNNBaseline, param_grid, n_jobs=-1, measures=[\"rmse\"], cv=10)\n"
      ]
    },
    {
      "cell_type": "code",
      "execution_count": null,
      "metadata": {
        "colab": {
          "base_uri": "https://localhost:8080/"
        },
        "id": "rXpBJgO18nWx",
        "outputId": "5d039257-51a5-42b7-aab8-7798a075d297"
      },
      "outputs": [
        {
          "name": "stdout",
          "output_type": "stream",
          "text": [
            "1.1625266533488186\n",
            "{'k': 15, 'sim_options': {'name': 'pearson_baseline', 'min_support': 1, 'user_based': True, 'shrinkage': 10}}\n"
          ]
        }
      ],
      "source": [
        "gridsvd.fit(data)\n",
        "gridsvd.best_params\n",
        "\n",
        "#Print best score and best parameters from the GridSearch that gave the best RMSE score\n",
        "print(gridsvd.best_score[\"rmse\"])\n",
        "print(gridsvd.best_params[\"rmse\"])"
      ]
    },
    {
      "cell_type": "code",
      "execution_count": null,
      "metadata": {
        "colab": {
          "base_uri": "https://localhost:8080/"
        },
        "id": "fuosk9NM85p-",
        "outputId": "bf6b5e7f-fc6a-4e07-fdca-200d4708bba8"
      },
      "outputs": [
        {
          "data": {
            "text/plain": [
              "{'split0_test_rmse': array([1.16642367]),\n",
              " 'split1_test_rmse': array([1.16096191]),\n",
              " 'split2_test_rmse': array([1.17458283]),\n",
              " 'split3_test_rmse': array([1.15260496]),\n",
              " 'split4_test_rmse': array([1.17627573]),\n",
              " 'split5_test_rmse': array([1.14326566]),\n",
              " 'split6_test_rmse': array([1.16504587]),\n",
              " 'split7_test_rmse': array([1.15194728]),\n",
              " 'split8_test_rmse': array([1.16206619]),\n",
              " 'split9_test_rmse': array([1.17209243]),\n",
              " 'mean_test_rmse': array([1.16252665]),\n",
              " 'std_test_rmse': array([0.01015596]),\n",
              " 'rank_test_rmse': array([1]),\n",
              " 'mean_fit_time': array([4.55608678]),\n",
              " 'std_fit_time': array([0.47759448]),\n",
              " 'mean_test_time': array([0.70521297]),\n",
              " 'std_test_time': array([0.21746154]),\n",
              " 'params': [{'k': 15,\n",
              "   'sim_options': {'name': 'pearson_baseline',\n",
              "    'min_support': 1,\n",
              "    'user_based': True,\n",
              "    'shrinkage': 10}}],\n",
              " 'param_k': [15],\n",
              " 'param_sim_options': [{'name': 'pearson_baseline',\n",
              "   'min_support': 1,\n",
              "   'user_based': True,\n",
              "   'shrinkage': 10}]}"
            ]
          },
          "execution_count": 61,
          "metadata": {},
          "output_type": "execute_result"
        }
      ],
      "source": [
        "gridsvd.cv_results"
      ]
    },
    {
      "cell_type": "markdown",
      "metadata": {
        "id": "geCsgURXVzKd"
      },
      "source": [
        "####Gridsearch: KNNBasic"
      ]
    },
    {
      "cell_type": "code",
      "execution_count": null,
      "metadata": {
        "id": "OSj_6YcX7bfE"
      },
      "outputs": [],
      "source": [
        "param_grid = {\n",
        "    'k': [15],\n",
        "    'sim_options': {\n",
        "        'name': ['msd'],\n",
        "        'min_support': [1],\n",
        "        'user_based': [True],\n",
        "        'shrinkage': [15],\n",
        "    \n",
        "    },\n",
        "}\n",
        "\n",
        "gridsvd = GridSearchCV(KNNBasic, param_grid, n_jobs=-1, measures=[\"rmse\"], cv=10)"
      ]
    },
    {
      "cell_type": "code",
      "execution_count": null,
      "metadata": {
        "colab": {
          "base_uri": "https://localhost:8080/"
        },
        "id": "5PtwXhlq8obh",
        "outputId": "cad415cc-1520-4738-b844-738111a08ce7"
      },
      "outputs": [
        {
          "name": "stdout",
          "output_type": "stream",
          "text": [
            "1.1604040529791155\n",
            "{'k': 15, 'sim_options': {'name': 'msd', 'min_support': 1, 'user_based': True, 'shrinkage': 15}}\n"
          ]
        }
      ],
      "source": [
        "gridsvd.fit(data)\n",
        "gridsvd.best_params\n",
        "\n",
        "#Print best score and best parameters from the GridSearch that gave the best RMSE score\n",
        "print(gridsvd.best_score[\"rmse\"])\n",
        "print(gridsvd.best_params[\"rmse\"])"
      ]
    },
    {
      "cell_type": "code",
      "execution_count": null,
      "metadata": {
        "id": "zfGBCLTG86cW"
      },
      "outputs": [],
      "source": [
        "gridsvd.cv_results"
      ]
    },
    {
      "cell_type": "markdown",
      "metadata": {
        "id": "vGAaub_yV3va"
      },
      "source": [
        "####Gridsearch: KNNWithMeans"
      ]
    },
    {
      "cell_type": "code",
      "execution_count": null,
      "metadata": {
        "id": "wIKGh53y8U1Z"
      },
      "outputs": [],
      "source": [
        "param_grid = {\n",
        "    'k': [11],\n",
        "    'sim_options': {\n",
        "        'name': ['msd'],\n",
        "        'min_support': [1],\n",
        "        'user_based': [True],\n",
        "        'shrinkage': [5],\n",
        "    \n",
        "    },\n",
        "}\n",
        "\n",
        "gridsvd = GridSearchCV(KNNWithMeans, param_grid, n_jobs=-1, measures=[\"rmse\"], cv=10)"
      ]
    },
    {
      "cell_type": "code",
      "execution_count": null,
      "metadata": {
        "colab": {
          "base_uri": "https://localhost:8080/"
        },
        "id": "6zUGkTXT8pph",
        "outputId": "82683c98-116d-48e3-cd6f-7e650d1be94e"
      },
      "outputs": [
        {
          "name": "stdout",
          "output_type": "stream",
          "text": [
            "1.1979257165248585\n",
            "{'k': 11, 'sim_options': {'name': 'msd', 'min_support': 1, 'user_based': True, 'shrinkage': 5}}\n"
          ]
        }
      ],
      "source": [
        "gridsvd.fit(data)\n",
        "gridsvd.best_params\n",
        "\n",
        "\n",
        "#Print best score and best parameters from the GridSearch that gave the best RMSE score\n",
        "print(gridsvd.best_score[\"rmse\"])\n",
        "print(gridsvd.best_params[\"rmse\"])"
      ]
    },
    {
      "cell_type": "code",
      "execution_count": null,
      "metadata": {
        "colab": {
          "base_uri": "https://localhost:8080/"
        },
        "id": "NUQ3KDVL87v5",
        "outputId": "66ce5d2e-bf56-4b06-84cb-0b77a66f8093"
      },
      "outputs": [
        {
          "data": {
            "text/plain": [
              "{'split0_test_rmse': array([1.19331751]),\n",
              " 'split1_test_rmse': array([1.19955735]),\n",
              " 'split2_test_rmse': array([1.20275784]),\n",
              " 'split3_test_rmse': array([1.20694696]),\n",
              " 'split4_test_rmse': array([1.19483348]),\n",
              " 'split5_test_rmse': array([1.17284066]),\n",
              " 'split6_test_rmse': array([1.20895643]),\n",
              " 'split7_test_rmse': array([1.18212619]),\n",
              " 'split8_test_rmse': array([1.20971157]),\n",
              " 'split9_test_rmse': array([1.20820918]),\n",
              " 'mean_test_rmse': array([1.19792572]),\n",
              " 'std_test_rmse': array([0.01176184]),\n",
              " 'rank_test_rmse': array([1]),\n",
              " 'mean_fit_time': array([2.97586541]),\n",
              " 'std_fit_time': array([0.390916]),\n",
              " 'mean_test_time': array([0.62765656]),\n",
              " 'std_test_time': array([0.21535867]),\n",
              " 'params': [{'k': 11,\n",
              "   'sim_options': {'name': 'msd',\n",
              "    'min_support': 1,\n",
              "    'user_based': True,\n",
              "    'shrinkage': 5}}],\n",
              " 'param_k': [11],\n",
              " 'param_sim_options': [{'name': 'msd',\n",
              "   'min_support': 1,\n",
              "   'user_based': True,\n",
              "   'shrinkage': 5}]}"
            ]
          },
          "execution_count": 66,
          "metadata": {},
          "output_type": "execute_result"
        }
      ],
      "source": [
        "gridsvd.cv_results"
      ]
    },
    {
      "cell_type": "markdown",
      "metadata": {
        "id": "p07KMjF1Vjia"
      },
      "source": [
        "##Noisy data 40%: train and predict"
      ]
    },
    {
      "cell_type": "code",
      "execution_count": null,
      "metadata": {
        "colab": {
          "base_uri": "https://localhost:8080/",
          "height": 73
        },
        "id": "qII_3SksW6H3",
        "outputId": "37c0e31d-85f0-40e0-9a7e-8f3db7de3577"
      },
      "outputs": [
        {
          "data": {
            "text/html": [
              "\n",
              "     <input type=\"file\" id=\"files-f8395673-c066-4dcd-9acc-bea65cf956ee\" name=\"files[]\" multiple disabled\n",
              "        style=\"border:none\" />\n",
              "     <output id=\"result-f8395673-c066-4dcd-9acc-bea65cf956ee\">\n",
              "      Upload widget is only available when the cell has been executed in the\n",
              "      current browser session. Please rerun this cell to enable.\n",
              "      </output>\n",
              "      <script>// Copyright 2017 Google LLC\n",
              "//\n",
              "// Licensed under the Apache License, Version 2.0 (the \"License\");\n",
              "// you may not use this file except in compliance with the License.\n",
              "// You may obtain a copy of the License at\n",
              "//\n",
              "//      http://www.apache.org/licenses/LICENSE-2.0\n",
              "//\n",
              "// Unless required by applicable law or agreed to in writing, software\n",
              "// distributed under the License is distributed on an \"AS IS\" BASIS,\n",
              "// WITHOUT WARRANTIES OR CONDITIONS OF ANY KIND, either express or implied.\n",
              "// See the License for the specific language governing permissions and\n",
              "// limitations under the License.\n",
              "\n",
              "/**\n",
              " * @fileoverview Helpers for google.colab Python module.\n",
              " */\n",
              "(function(scope) {\n",
              "function span(text, styleAttributes = {}) {\n",
              "  const element = document.createElement('span');\n",
              "  element.textContent = text;\n",
              "  for (const key of Object.keys(styleAttributes)) {\n",
              "    element.style[key] = styleAttributes[key];\n",
              "  }\n",
              "  return element;\n",
              "}\n",
              "\n",
              "// Max number of bytes which will be uploaded at a time.\n",
              "const MAX_PAYLOAD_SIZE = 100 * 1024;\n",
              "\n",
              "function _uploadFiles(inputId, outputId) {\n",
              "  const steps = uploadFilesStep(inputId, outputId);\n",
              "  const outputElement = document.getElementById(outputId);\n",
              "  // Cache steps on the outputElement to make it available for the next call\n",
              "  // to uploadFilesContinue from Python.\n",
              "  outputElement.steps = steps;\n",
              "\n",
              "  return _uploadFilesContinue(outputId);\n",
              "}\n",
              "\n",
              "// This is roughly an async generator (not supported in the browser yet),\n",
              "// where there are multiple asynchronous steps and the Python side is going\n",
              "// to poll for completion of each step.\n",
              "// This uses a Promise to block the python side on completion of each step,\n",
              "// then passes the result of the previous step as the input to the next step.\n",
              "function _uploadFilesContinue(outputId) {\n",
              "  const outputElement = document.getElementById(outputId);\n",
              "  const steps = outputElement.steps;\n",
              "\n",
              "  const next = steps.next(outputElement.lastPromiseValue);\n",
              "  return Promise.resolve(next.value.promise).then((value) => {\n",
              "    // Cache the last promise value to make it available to the next\n",
              "    // step of the generator.\n",
              "    outputElement.lastPromiseValue = value;\n",
              "    return next.value.response;\n",
              "  });\n",
              "}\n",
              "\n",
              "/**\n",
              " * Generator function which is called between each async step of the upload\n",
              " * process.\n",
              " * @param {string} inputId Element ID of the input file picker element.\n",
              " * @param {string} outputId Element ID of the output display.\n",
              " * @return {!Iterable<!Object>} Iterable of next steps.\n",
              " */\n",
              "function* uploadFilesStep(inputId, outputId) {\n",
              "  const inputElement = document.getElementById(inputId);\n",
              "  inputElement.disabled = false;\n",
              "\n",
              "  const outputElement = document.getElementById(outputId);\n",
              "  outputElement.innerHTML = '';\n",
              "\n",
              "  const pickedPromise = new Promise((resolve) => {\n",
              "    inputElement.addEventListener('change', (e) => {\n",
              "      resolve(e.target.files);\n",
              "    });\n",
              "  });\n",
              "\n",
              "  const cancel = document.createElement('button');\n",
              "  inputElement.parentElement.appendChild(cancel);\n",
              "  cancel.textContent = 'Cancel upload';\n",
              "  const cancelPromise = new Promise((resolve) => {\n",
              "    cancel.onclick = () => {\n",
              "      resolve(null);\n",
              "    };\n",
              "  });\n",
              "\n",
              "  // Wait for the user to pick the files.\n",
              "  const files = yield {\n",
              "    promise: Promise.race([pickedPromise, cancelPromise]),\n",
              "    response: {\n",
              "      action: 'starting',\n",
              "    }\n",
              "  };\n",
              "\n",
              "  cancel.remove();\n",
              "\n",
              "  // Disable the input element since further picks are not allowed.\n",
              "  inputElement.disabled = true;\n",
              "\n",
              "  if (!files) {\n",
              "    return {\n",
              "      response: {\n",
              "        action: 'complete',\n",
              "      }\n",
              "    };\n",
              "  }\n",
              "\n",
              "  for (const file of files) {\n",
              "    const li = document.createElement('li');\n",
              "    li.append(span(file.name, {fontWeight: 'bold'}));\n",
              "    li.append(span(\n",
              "        `(${file.type || 'n/a'}) - ${file.size} bytes, ` +\n",
              "        `last modified: ${\n",
              "            file.lastModifiedDate ? file.lastModifiedDate.toLocaleDateString() :\n",
              "                                    'n/a'} - `));\n",
              "    const percent = span('0% done');\n",
              "    li.appendChild(percent);\n",
              "\n",
              "    outputElement.appendChild(li);\n",
              "\n",
              "    const fileDataPromise = new Promise((resolve) => {\n",
              "      const reader = new FileReader();\n",
              "      reader.onload = (e) => {\n",
              "        resolve(e.target.result);\n",
              "      };\n",
              "      reader.readAsArrayBuffer(file);\n",
              "    });\n",
              "    // Wait for the data to be ready.\n",
              "    let fileData = yield {\n",
              "      promise: fileDataPromise,\n",
              "      response: {\n",
              "        action: 'continue',\n",
              "      }\n",
              "    };\n",
              "\n",
              "    // Use a chunked sending to avoid message size limits. See b/62115660.\n",
              "    let position = 0;\n",
              "    do {\n",
              "      const length = Math.min(fileData.byteLength - position, MAX_PAYLOAD_SIZE);\n",
              "      const chunk = new Uint8Array(fileData, position, length);\n",
              "      position += length;\n",
              "\n",
              "      const base64 = btoa(String.fromCharCode.apply(null, chunk));\n",
              "      yield {\n",
              "        response: {\n",
              "          action: 'append',\n",
              "          file: file.name,\n",
              "          data: base64,\n",
              "        },\n",
              "      };\n",
              "\n",
              "      let percentDone = fileData.byteLength === 0 ?\n",
              "          100 :\n",
              "          Math.round((position / fileData.byteLength) * 100);\n",
              "      percent.textContent = `${percentDone}% done`;\n",
              "\n",
              "    } while (position < fileData.byteLength);\n",
              "  }\n",
              "\n",
              "  // All done.\n",
              "  yield {\n",
              "    response: {\n",
              "      action: 'complete',\n",
              "    }\n",
              "  };\n",
              "}\n",
              "\n",
              "scope.google = scope.google || {};\n",
              "scope.google.colab = scope.google.colab || {};\n",
              "scope.google.colab._files = {\n",
              "  _uploadFiles,\n",
              "  _uploadFilesContinue,\n",
              "};\n",
              "})(self);\n",
              "</script> "
            ],
            "text/plain": [
              "<IPython.core.display.HTML object>"
            ]
          },
          "metadata": {},
          "output_type": "display_data"
        },
        {
          "name": "stdout",
          "output_type": "stream",
          "text": [
            "Saving data_with_noise40%.csv to data_with_noise40%.csv\n"
          ]
        }
      ],
      "source": [
        "import pandas as pd \n",
        "import numpy as np \n",
        "from google.colab import files\n",
        "uploaded = files.upload()\n",
        "\n",
        "import io\n",
        "df = pd.read_csv(io.BytesIO(uploaded['data_with_noise40%.csv']))"
      ]
    },
    {
      "cell_type": "code",
      "execution_count": null,
      "metadata": {
        "id": "3__f9ZKk8Kl7"
      },
      "outputs": [],
      "source": [
        "import random\n",
        "\n",
        "#Set the random seed\n",
        "random.seed(42)\n",
        "np.random.seed(42)"
      ]
    },
    {
      "cell_type": "markdown",
      "metadata": {
        "id": "bZx3F7w2VqeM"
      },
      "source": [
        "####Gridsearch: KNNBaseline"
      ]
    },
    {
      "cell_type": "code",
      "execution_count": null,
      "metadata": {
        "id": "eSg69TDJ7QyI"
      },
      "outputs": [],
      "source": [
        "param_grid = {\n",
        "    'k': [15],\n",
        "    'sim_options': {\n",
        "        'name': ['pearson_baseline'],\n",
        "        'min_support': [1],\n",
        "        'user_based': [True], #user based vs item based => False\n",
        "        'shrinkage': [10],\n",
        "    \n",
        "    },\n",
        "}\n",
        "\n",
        "gridsvd = GridSearchCV(KNNBaseline, param_grid, n_jobs=-1, measures=[\"rmse\"], cv=10)\n"
      ]
    },
    {
      "cell_type": "code",
      "execution_count": null,
      "metadata": {
        "colab": {
          "base_uri": "https://localhost:8080/"
        },
        "id": "hwvvxPP-8q23",
        "outputId": "bdf3cbd9-1b60-4f0f-f0cd-5bc45b09880a"
      },
      "outputs": [
        {
          "name": "stdout",
          "output_type": "stream",
          "text": [
            "1.1625266533488186\n",
            "{'k': 15, 'sim_options': {'name': 'pearson_baseline', 'min_support': 1, 'user_based': True, 'shrinkage': 10}}\n"
          ]
        }
      ],
      "source": [
        "gridsvd.fit(data)\n",
        "gridsvd.best_params\n",
        "\n",
        "\n",
        "#Print best score and best parameters from the GridSearch that gave the best RMSE score\n",
        "print(gridsvd.best_score[\"rmse\"])\n",
        "print(gridsvd.best_params[\"rmse\"])"
      ]
    },
    {
      "cell_type": "code",
      "execution_count": null,
      "metadata": {
        "colab": {
          "base_uri": "https://localhost:8080/"
        },
        "id": "3qgo2ZDd881g",
        "outputId": "efc0ece7-247d-4a44-be1d-467ace941e1c"
      },
      "outputs": [
        {
          "data": {
            "text/plain": [
              "{'split0_test_rmse': array([1.16642367]),\n",
              " 'split1_test_rmse': array([1.16096191]),\n",
              " 'split2_test_rmse': array([1.17458283]),\n",
              " 'split3_test_rmse': array([1.15260496]),\n",
              " 'split4_test_rmse': array([1.17627573]),\n",
              " 'split5_test_rmse': array([1.14326566]),\n",
              " 'split6_test_rmse': array([1.16504587]),\n",
              " 'split7_test_rmse': array([1.15194728]),\n",
              " 'split8_test_rmse': array([1.16206619]),\n",
              " 'split9_test_rmse': array([1.17209243]),\n",
              " 'mean_test_rmse': array([1.16252665]),\n",
              " 'std_test_rmse': array([0.01015596]),\n",
              " 'rank_test_rmse': array([1]),\n",
              " 'mean_fit_time': array([4.57377269]),\n",
              " 'std_fit_time': array([0.47617836]),\n",
              " 'mean_test_time': array([0.6989445]),\n",
              " 'std_test_time': array([0.20460412]),\n",
              " 'params': [{'k': 15,\n",
              "   'sim_options': {'name': 'pearson_baseline',\n",
              "    'min_support': 1,\n",
              "    'user_based': True,\n",
              "    'shrinkage': 10}}],\n",
              " 'param_k': [15],\n",
              " 'param_sim_options': [{'name': 'pearson_baseline',\n",
              "   'min_support': 1,\n",
              "   'user_based': True,\n",
              "   'shrinkage': 10}]}"
            ]
          },
          "execution_count": 71,
          "metadata": {},
          "output_type": "execute_result"
        }
      ],
      "source": [
        "gridsvd.cv_results"
      ]
    },
    {
      "cell_type": "markdown",
      "metadata": {
        "id": "lfC57lBMV1eJ"
      },
      "source": [
        "####Gridsearch: KNNBasic"
      ]
    },
    {
      "cell_type": "code",
      "execution_count": null,
      "metadata": {
        "id": "KRGxIYt87eoW"
      },
      "outputs": [],
      "source": [
        "param_grid = {\n",
        "   'k': [15],\n",
        "    'sim_options': {\n",
        "        'name': ['msd'],\n",
        "        'min_support': [1],\n",
        "        'user_based': [True],\n",
        "        'shrinkage': [15],\n",
        "   \n",
        "    },\n",
        "}\n",
        "\n",
        "gridsvd = GridSearchCV(KNNBasic, param_grid, n_jobs=-1, measures=[\"rmse\"], cv=10)"
      ]
    },
    {
      "cell_type": "code",
      "execution_count": null,
      "metadata": {
        "colab": {
          "base_uri": "https://localhost:8080/"
        },
        "id": "RfbNSds28rvn",
        "outputId": "3165c74e-a563-4a50-b26e-20b6e3600677"
      },
      "outputs": [
        {
          "name": "stdout",
          "output_type": "stream",
          "text": [
            "1.1604040529791155\n",
            "{'k': 15, 'sim_options': {'name': 'msd', 'min_support': 1, 'user_based': True, 'shrinkage': 15}}\n"
          ]
        }
      ],
      "source": [
        "gridsvd.fit(data)\n",
        "gridsvd.best_params\n",
        "\n",
        "\n",
        "#Print best score and best parameters from the GridSearch that gave the best RMSE score\n",
        "print(gridsvd.best_score[\"rmse\"])\n",
        "print(gridsvd.best_params[\"rmse\"])"
      ]
    },
    {
      "cell_type": "code",
      "execution_count": null,
      "metadata": {
        "colab": {
          "base_uri": "https://localhost:8080/"
        },
        "id": "OEsR5XQF89mf",
        "outputId": "038684d2-45dd-4eb6-a4c3-ebfb9cde5c7e"
      },
      "outputs": [
        {
          "data": {
            "text/plain": [
              "{'split0_test_rmse': array([1.1600608]),\n",
              " 'split1_test_rmse': array([1.15884235]),\n",
              " 'split2_test_rmse': array([1.15964877]),\n",
              " 'split3_test_rmse': array([1.16135026]),\n",
              " 'split4_test_rmse': array([1.18060757]),\n",
              " 'split5_test_rmse': array([1.13971261]),\n",
              " 'split6_test_rmse': array([1.15862177]),\n",
              " 'split7_test_rmse': array([1.15403959]),\n",
              " 'split8_test_rmse': array([1.15888557]),\n",
              " 'split9_test_rmse': array([1.17227124]),\n",
              " 'mean_test_rmse': array([1.16040405]),\n",
              " 'std_test_rmse': array([0.01013489]),\n",
              " 'rank_test_rmse': array([1]),\n",
              " 'mean_fit_time': array([2.98928432]),\n",
              " 'std_fit_time': array([0.60435464]),\n",
              " 'mean_test_time': array([0.65385263]),\n",
              " 'std_test_time': array([0.14833458]),\n",
              " 'params': [{'k': 15,\n",
              "   'sim_options': {'name': 'msd',\n",
              "    'min_support': 1,\n",
              "    'user_based': True,\n",
              "    'shrinkage': 15}}],\n",
              " 'param_k': [15],\n",
              " 'param_sim_options': [{'name': 'msd',\n",
              "   'min_support': 1,\n",
              "   'user_based': True,\n",
              "   'shrinkage': 15}]}"
            ]
          },
          "execution_count": 75,
          "metadata": {},
          "output_type": "execute_result"
        }
      ],
      "source": [
        "gridsvd.cv_results"
      ]
    },
    {
      "cell_type": "markdown",
      "metadata": {
        "id": "Uy-iMgZEV4lU"
      },
      "source": [
        "####Gridsearch: KNNWithMeans"
      ]
    },
    {
      "cell_type": "code",
      "execution_count": null,
      "metadata": {
        "id": "9Cqoz-er8XF7"
      },
      "outputs": [],
      "source": [
        "param_grid = {\n",
        "    'k': [11],\n",
        "    'sim_options': {\n",
        "        'name': ['msd'],\n",
        "        'min_support': [1],\n",
        "        'user_based': [True],\n",
        "        'shrinkage': [5],\n",
        "    \n",
        "    },\n",
        "}\n",
        "\n",
        "\n",
        "gridsvd = GridSearchCV(KNNWithMeans, param_grid, n_jobs=-1, measures=[\"rmse\"], cv=10)"
      ]
    },
    {
      "cell_type": "code",
      "execution_count": null,
      "metadata": {
        "colab": {
          "base_uri": "https://localhost:8080/"
        },
        "id": "-BH2L5PV8s7u",
        "outputId": "cd8ca98f-816f-4c09-881d-970319ea7253"
      },
      "outputs": [
        {
          "name": "stdout",
          "output_type": "stream",
          "text": [
            "1.1979257165248585\n",
            "{'k': 11, 'sim_options': {'name': 'msd', 'min_support': 1, 'user_based': True, 'shrinkage': 5}}\n"
          ]
        }
      ],
      "source": [
        "gridsvd.fit(data)\n",
        "gridsvd.best_params\n",
        "\n",
        "\n",
        "#Print best score and best parameters from the GridSearch that gave the best RMSE score\n",
        "print(gridsvd.best_score[\"rmse\"])\n",
        "print(gridsvd.best_params[\"rmse\"])"
      ]
    },
    {
      "cell_type": "code",
      "execution_count": null,
      "metadata": {
        "colab": {
          "base_uri": "https://localhost:8080/"
        },
        "id": "lNv4AQyu8-l0",
        "outputId": "bf37f058-beac-47be-b64d-d9ac8ed19a56"
      },
      "outputs": [
        {
          "data": {
            "text/plain": [
              "{'split0_test_rmse': array([1.19331751]),\n",
              " 'split1_test_rmse': array([1.19955735]),\n",
              " 'split2_test_rmse': array([1.20275784]),\n",
              " 'split3_test_rmse': array([1.20694696]),\n",
              " 'split4_test_rmse': array([1.19483348]),\n",
              " 'split5_test_rmse': array([1.17284066]),\n",
              " 'split6_test_rmse': array([1.20895643]),\n",
              " 'split7_test_rmse': array([1.18212619]),\n",
              " 'split8_test_rmse': array([1.20971157]),\n",
              " 'split9_test_rmse': array([1.20820918]),\n",
              " 'mean_test_rmse': array([1.19792572]),\n",
              " 'std_test_rmse': array([0.01176184]),\n",
              " 'rank_test_rmse': array([1]),\n",
              " 'mean_fit_time': array([2.98122675]),\n",
              " 'std_fit_time': array([0.45428331]),\n",
              " 'mean_test_time': array([0.55752544]),\n",
              " 'std_test_time': array([0.06835659]),\n",
              " 'params': [{'k': 11,\n",
              "   'sim_options': {'name': 'msd',\n",
              "    'min_support': 1,\n",
              "    'user_based': True,\n",
              "    'shrinkage': 5}}],\n",
              " 'param_k': [11],\n",
              " 'param_sim_options': [{'name': 'msd',\n",
              "   'min_support': 1,\n",
              "   'user_based': True,\n",
              "   'shrinkage': 5}]}"
            ]
          },
          "execution_count": 79,
          "metadata": {},
          "output_type": "execute_result"
        }
      ],
      "source": [
        "gridsvd.cv_results"
      ]
    }
  ],
  "metadata": {
    "colab": {
      "provenance": [],
      "toc_visible": true,
      "include_colab_link": true
    },
    "gpuClass": "standard",
    "kernelspec": {
      "display_name": "Python 3",
      "name": "python3"
    },
    "language_info": {
      "name": "python"
    }
  },
  "nbformat": 4,
  "nbformat_minor": 0
}
